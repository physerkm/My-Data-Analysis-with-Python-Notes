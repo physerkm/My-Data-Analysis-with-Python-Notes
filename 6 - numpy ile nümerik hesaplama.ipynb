{
  "nbformat": 4,
  "nbformat_minor": 0,
  "metadata": {
    "colab": {
      "name": "6 - numpy ile nümerik hesaplama.ipynb",
      "provenance": [],
      "collapsed_sections": []
    },
    "kernelspec": {
      "name": "python3",
      "display_name": "Python 3"
    },
    "language_info": {
      "name": "python"
    }
  },
  "cells": [
    {
      "cell_type": "markdown",
      "metadata": {
        "id": "AuJrKtEbSW8y"
      },
      "source": [
        "# Python ve Numpy ile Nümerik (Sayısal) Hesaplama\n",
        "\n",
        "![](https://i.imgur.com/mg8O3kd.png)\n"
      ]
    },
    {
      "cell_type": "markdown",
      "metadata": {
        "id": "63OVzIvRSzIW"
      },
      "source": [
        "Bu eğitim aşağıdaki konuları kapsar:\n",
        "\n",
        "- Python'da sayısal verilerle çalışma\n",
        "- Python listelerinden (lists) Numpy dizilerine (arrays) geçiş\n",
        "- Çok boyutlu Numpy dizileri ve faydaları\n",
        "- Dizi işlemleri (operations), yayınlama (broadcasting), indeksleme (indexing) ve dilimleme (slicing)\n",
        "- Numpy kullanarak CSV veri dosyalarıyla çalışma"
      ]
    },
    {
      "cell_type": "markdown",
      "metadata": {
        "id": "lGzG386TUYX7"
      },
      "source": [
        "## Sayısal Verilerle Çalışma\n",
        "\n",
        "*Veri Analizi* içindeki \"veriler\" tipik olarak, hisse senedi fiyatları, satış rakamları, sensör ölçümleri, spor skorları, veritabanı tabloları vb. gibi sayısal verilere atıfta bulunur. [Numpy](https://numpy.org) kütüphanesi, Python'da sayısal hesaplama için özel veri yapıları, fonksiyonlar ve diğer araçlar sağlar. Sayısal verilerle çalışırken Numpy'nin  neden ve nasıl kullanılacağını görmek için bir örnek üzerinde çalışalım.\n",
        "\n",
        "\n",
        "> Farzedelim ki, bir bölgenin elma yetiştirmek için uygun olup olmadığını belirlemek için sıcaklık, yağış ve nem gibi iklim verilerini kullanmak istiyoruz. Bunu yapmak için lineer bir denklem olarak ortalama sıcaklık (Fahrenheit derece olarak), yağış (milimetre olarak) ve ortalama bağıl nem (yüzde olarak) gibi, elmaların yıllık verimi (hektar başına ton) ile iklim koşulları arasındaki ilişkiyi formüle ederek basit bir yaklaşım yapabiliriz.\n",
        ">\n",
        ">  `elmalarin_hasilati = w1 * sicaklik + w2 * yagis + w3 * nem`\n",
        "\n",
        "Elma verimini sıcaklık, yağış ve nemin ağırlıklı toplamı olarak ifade ediyoruz. Bu denklem bir tahmindir (approximation), çünkü gerçek ilişki doğrusal (lineer) olmayabilir ve başka faktörler içerebilir. Ama bunun gibi basit doğrusal (lineer) bir model pratikte genellikle iyi sonuç verir.\n",
        "\n",
        "Geçmiş verilerin bazı istatistiksel analizine dayanarak, \"w1\", \"w2\" ve \"w3\" ağırlıkları için makul değerler bulabiliriz. İşte örnek bir değer kümesi:"
      ]
    },
    {
      "cell_type": "code",
      "metadata": {
        "id": "R_7y3Fn3SRrX"
      },
      "source": [
        "w1, w2, w3 = 0.3, 0.2, 0.5"
      ],
      "execution_count": null,
      "outputs": []
    },
    {
      "cell_type": "markdown",
      "metadata": {
        "id": "MMUqrWKRoIdl"
      },
      "source": [
        "Bir bölge için bazı iklim verileri göz önüne alındığında, artık elma hasılatını tahmin edebiliriz. İşte bazı örnek veriler:\n",
        "\n",
        "<img src=\"https://i.imgur.com/TXPBiqv.png\" style=\"width:360px;\">\n",
        "\n",
        "İlk olarak, bir bölge için iklim verilerini kaydederken bazı değişkenler tanımlayabiliriz."
      ]
    },
    {
      "cell_type": "code",
      "metadata": {
        "id": "4Wc2p1ljo3AE"
      },
      "source": [
        "kanto_sicaklik = 73\n",
        "kanto_yagis = 67\n",
        "kanto_nem = 43"
      ],
      "execution_count": null,
      "outputs": []
    },
    {
      "cell_type": "markdown",
      "metadata": {
        "id": "f1yMKfnjpXWK"
      },
      "source": [
        "Artık elmaların hasılatını tahmin etmek için bu değişkenleri lineer denklemde yerine koyabiliriz."
      ]
    },
    {
      "cell_type": "code",
      "metadata": {
        "id": "3cfZ6H9Gpc4l"
      },
      "source": [
        "kanto_elmalarin_hasilati = kanto_sicaklik * w1 + kanto_yagis * w2 + kanto_nem * w3"
      ],
      "execution_count": null,
      "outputs": []
    },
    {
      "cell_type": "code",
      "metadata": {
        "colab": {
          "base_uri": "https://localhost:8080/"
        },
        "id": "OSsQ0ahbv6uk",
        "outputId": "05a18483-f3ee-4c10-f63b-5a88c8e6888c"
      },
      "source": [
        "kanto_elmalarin_hasilati"
      ],
      "execution_count": null,
      "outputs": [
        {
          "output_type": "execute_result",
          "data": {
            "text/plain": [
              "56.8"
            ]
          },
          "metadata": {},
          "execution_count": 95
        }
      ]
    },
    {
      "cell_type": "code",
      "metadata": {
        "id": "ZjuvvncBp3if",
        "colab": {
          "base_uri": "https://localhost:8080/"
        },
        "outputId": "f318bed3-d345-4696-a66a-2e08dc7f7612"
      },
      "source": [
        "print(\"Kanto bölgesinde beklenen elma hasılatı hektar başına {} tondur.\".format(kanto_elmalarin_hasilati))"
      ],
      "execution_count": null,
      "outputs": [
        {
          "output_type": "stream",
          "name": "stdout",
          "text": [
            "Kanto bölgesinde beklenen elma hasılatı hektar başına 56.8 tondur.\n"
          ]
        }
      ]
    },
    {
      "cell_type": "markdown",
      "metadata": {
        "id": "0yRk5ifyyElt"
      },
      "source": [
        "Birden fazla bölge için yukarıdaki hesaplamayı yapmayı biraz daha kolaylaştırmak için, her bölge için iklim verilerini bir vektör, yani bir sayı listesi olarak gösterebiliriz."
      ]
    },
    {
      "cell_type": "code",
      "metadata": {
        "id": "iXraFFnvyFy4"
      },
      "source": [
        "kanto = [73, 67, 43]\n",
        "johto = [91, 88, 64]\n",
        "hoenn = [87, 134, 58]\n",
        "sinnoh = [102, 43, 37]\n",
        "unova = [69, 96, 70]"
      ],
      "execution_count": null,
      "outputs": []
    },
    {
      "cell_type": "markdown",
      "metadata": {
        "id": "rtdG_RgWy5XF"
      },
      "source": [
        "Her vektördeki üç sayı sırasıyla sıcaklık, yağış ve nem verilerini temsil eder.\n",
        "\n",
        "Formülde kullanılan ağırlık kümesini (the set of weights) vektör olarak da gösterebiliriz."
      ]
    },
    {
      "cell_type": "code",
      "metadata": {
        "id": "EQ0UzxX1zCe9"
      },
      "source": [
        "weights = [w1, w2, w3]"
      ],
      "execution_count": null,
      "outputs": []
    },
    {
      "cell_type": "markdown",
      "metadata": {
        "id": "AIdHdQcm0O3O"
      },
      "source": [
        "Şimdi, iklim verileri ve ilgili ağırlıklar göz önüne alındığında, elmaların (veya başka herhangi bir mahsulün) verimini hesaplamak için mahsul verimi fonksiyonunu yazabiliriz."
      ]
    },
    {
      "cell_type": "code",
      "metadata": {
        "id": "Et4uQqEb0R99"
      },
      "source": [
        "def mahsul_hasilati(bolge, weights):\n",
        "    sonuc = 0\n",
        "    for x, w in zip(bolge, weights):\n",
        "        sonuc = sonuc + x * w \n",
        "    return sonuc"
      ],
      "execution_count": null,
      "outputs": []
    },
    {
      "cell_type": "code",
      "metadata": {
        "id": "SZlhpwAm0oRF",
        "colab": {
          "base_uri": "https://localhost:8080/"
        },
        "outputId": "2be50538-0e78-40ce-98a5-d24a3b272234"
      },
      "source": [
        "mahsul_hasilati(kanto, weights)"
      ],
      "execution_count": null,
      "outputs": [
        {
          "output_type": "execute_result",
          "data": {
            "text/plain": [
              "56.8"
            ]
          },
          "metadata": {},
          "execution_count": 101
        }
      ]
    },
    {
      "cell_type": "code",
      "metadata": {
        "id": "vrYbtsKD0xqZ",
        "colab": {
          "base_uri": "https://localhost:8080/"
        },
        "outputId": "07b9111a-120f-4bf0-86de-88e9aa923a10"
      },
      "source": [
        "mahsul_hasilati(johto, weights)"
      ],
      "execution_count": null,
      "outputs": [
        {
          "output_type": "execute_result",
          "data": {
            "text/plain": [
              "76.9"
            ]
          },
          "metadata": {},
          "execution_count": 102
        }
      ]
    },
    {
      "cell_type": "code",
      "metadata": {
        "id": "WUt5G0Gw01lP",
        "colab": {
          "base_uri": "https://localhost:8080/"
        },
        "outputId": "87eb3888-5fcb-44ec-9bc6-57c6e0aded72"
      },
      "source": [
        "mahsul_hasilati(unova, weights)"
      ],
      "execution_count": null,
      "outputs": [
        {
          "output_type": "execute_result",
          "data": {
            "text/plain": [
              "74.9"
            ]
          },
          "metadata": {},
          "execution_count": 103
        }
      ]
    },
    {
      "cell_type": "markdown",
      "metadata": {
        "id": "tWlC-EWj1itk"
      },
      "source": [
        "## Python listelerinden (lists) Numpy dizilerine (arrays) geçiş\n",
        "\n",
        "\n",
        "`mahsul_hasilati` (iki vektörün eleman bazında çarpımı ve sonuçlarının toplamının alınması) ile gerçekleştirilen hesaplamaya da *nokta çarpım* yani *dot product* denir. Dot product hakkında daha fazla bilgiyi buradan edinebilirsiniz: https://www.khanacademy.org/math/linear-algebra/vectors-and-spaces/dot-cross-products/v/vector-dot-product-and-vector-length . \n",
        "\n",
        "Numpy kütüphanesi, iki vektörün nokta çarpımını (dot productını) hesaplamak için hazır bir fonksiyon sağlar. Ancak, önce listeleri (lists) Numpy dizilerine (arrays) dönüştürmeliyiz.\n",
        "\n",
        "Şimdi `pip` paket yöneticisini kullanarak Numpy kütüphanesini yükleyelim."
      ]
    },
    {
      "cell_type": "markdown",
      "metadata": {
        "id": "wEld-4JW4bWt"
      },
      "source": [
        "Ardından, `numpy` modülünü içe aktaralım (import edelim). Numpy'ı `np` takma adıyla içe aktarmak yaygın bir uygulamadır."
      ]
    },
    {
      "cell_type": "code",
      "metadata": {
        "id": "b_mlCEkN43w4"
      },
      "source": [
        "import numpy as np"
      ],
      "execution_count": null,
      "outputs": []
    },
    {
      "cell_type": "markdown",
      "metadata": {
        "id": "ReZB5ejh9qY-"
      },
      "source": [
        "Artık Numpy dizileri (arrays) oluşturmak için `np.array` fonksiyonunu kullanabiliriz."
      ]
    },
    {
      "cell_type": "code",
      "metadata": {
        "id": "r3pTG_5b-FI4"
      },
      "source": [
        "kanto = np.array([73, 67, 43])"
      ],
      "execution_count": null,
      "outputs": []
    },
    {
      "cell_type": "code",
      "metadata": {
        "id": "Zm8jJlQE-Hkv",
        "colab": {
          "base_uri": "https://localhost:8080/"
        },
        "outputId": "17aaacee-af81-4fb1-cbe1-dc84effc7bc4"
      },
      "source": [
        "kanto"
      ],
      "execution_count": null,
      "outputs": [
        {
          "output_type": "execute_result",
          "data": {
            "text/plain": [
              "array([73, 67, 43])"
            ]
          },
          "metadata": {},
          "execution_count": 108
        }
      ]
    },
    {
      "cell_type": "code",
      "metadata": {
        "id": "CEpxAJCC-Kr8"
      },
      "source": [
        "weights = np.array([w1, w2, w3])"
      ],
      "execution_count": null,
      "outputs": []
    },
    {
      "cell_type": "code",
      "metadata": {
        "id": "GKGFyCze-OVL",
        "colab": {
          "base_uri": "https://localhost:8080/"
        },
        "outputId": "db5dbe59-64bb-401e-f599-7e03ebbc5f9f"
      },
      "source": [
        "weights"
      ],
      "execution_count": null,
      "outputs": [
        {
          "output_type": "execute_result",
          "data": {
            "text/plain": [
              "array([0.3, 0.2, 0.5])"
            ]
          },
          "metadata": {},
          "execution_count": 110
        }
      ]
    },
    {
      "cell_type": "markdown",
      "metadata": {
        "id": "ALNjrQv4-VOr"
      },
      "source": [
        "Numpy dizileri (arrays) `ndarray` türüne sahiptir."
      ]
    },
    {
      "cell_type": "code",
      "metadata": {
        "id": "Lm8fvVT0-j12",
        "colab": {
          "base_uri": "https://localhost:8080/"
        },
        "outputId": "9e2a0f0f-7789-4004-b083-09e9571c0b87"
      },
      "source": [
        "type(kanto)"
      ],
      "execution_count": null,
      "outputs": [
        {
          "output_type": "execute_result",
          "data": {
            "text/plain": [
              "numpy.ndarray"
            ]
          },
          "metadata": {},
          "execution_count": 111
        }
      ]
    },
    {
      "cell_type": "code",
      "metadata": {
        "id": "jZs8UI7n-mNl",
        "colab": {
          "base_uri": "https://localhost:8080/"
        },
        "outputId": "14b52f55-2ae3-4d8c-88e4-837c160098c6"
      },
      "source": [
        "type(weights)"
      ],
      "execution_count": null,
      "outputs": [
        {
          "output_type": "execute_result",
          "data": {
            "text/plain": [
              "numpy.ndarray"
            ]
          },
          "metadata": {},
          "execution_count": 112
        }
      ]
    },
    {
      "cell_type": "markdown",
      "metadata": {
        "id": "yw_sqLwt-rwZ"
      },
      "source": [
        "Tıpkı listeler (lists) gibi, Numpy dizileri (arrays) de [] indeksleme notasyonunu (indexing notation) destekler."
      ]
    },
    {
      "cell_type": "code",
      "metadata": {
        "id": "lmpjY8yl-9UU",
        "colab": {
          "base_uri": "https://localhost:8080/"
        },
        "outputId": "b1783cb8-c0bf-4509-f382-fd5414926662"
      },
      "source": [
        "weights[0]"
      ],
      "execution_count": null,
      "outputs": [
        {
          "output_type": "execute_result",
          "data": {
            "text/plain": [
              "0.3"
            ]
          },
          "metadata": {},
          "execution_count": 120
        }
      ]
    },
    {
      "cell_type": "code",
      "metadata": {
        "id": "8_KPleF--_PZ",
        "colab": {
          "base_uri": "https://localhost:8080/"
        },
        "outputId": "732ce0ce-3b2e-458f-f36e-749d349df5a5"
      },
      "source": [
        "kanto[2]"
      ],
      "execution_count": null,
      "outputs": [
        {
          "output_type": "execute_result",
          "data": {
            "text/plain": [
              "43"
            ]
          },
          "metadata": {},
          "execution_count": 121
        }
      ]
    },
    {
      "cell_type": "markdown",
      "metadata": {
        "id": "9lR9i7vZ_fQX"
      },
      "source": [
        "## Numpy dizilerinde (arrays) çalışma\n",
        "\n",
        "Şimdi `np.dot` fonksiyonunu kullanarak iki vektörün nokta çarpımını (dot productını) hesaplayabiliriz."
      ]
    },
    {
      "cell_type": "code",
      "metadata": {
        "id": "05vNPJ2HAIZU",
        "colab": {
          "base_uri": "https://localhost:8080/"
        },
        "outputId": "9fbdcab8-32a4-4b65-faba-7711d39d8747"
      },
      "source": [
        "np.dot(unova, weights)"
      ],
      "execution_count": null,
      "outputs": [
        {
          "output_type": "execute_result",
          "data": {
            "text/plain": [
              "74.9"
            ]
          },
          "metadata": {},
          "execution_count": 122
        }
      ]
    },
    {
      "cell_type": "markdown",
      "metadata": {
        "id": "VHbEHfV6AmJL"
      },
      "source": [
        "Numpy dizileri (arrays) tarafından desteklenen düşük seviyeli işlemlerle aynı sonucu elde edebiliriz: eleman bazında çarpma yapmak ve elde edilen sayıların toplamını hesaplamak."
      ]
    },
    {
      "cell_type": "code",
      "metadata": {
        "id": "ogjE8OzQA8Js",
        "colab": {
          "base_uri": "https://localhost:8080/"
        },
        "outputId": "2e8862d9-a553-453c-dfe1-b5b5c11b4eac"
      },
      "source": [
        "a = (kanto * weights)\n",
        "a"
      ],
      "execution_count": null,
      "outputs": [
        {
          "output_type": "execute_result",
          "data": {
            "text/plain": [
              "array([21.9, 13.4, 21.5])"
            ]
          },
          "metadata": {},
          "execution_count": 123
        }
      ]
    },
    {
      "cell_type": "markdown",
      "metadata": {
        "id": "kI0WLuWCBOUa"
      },
      "source": [
        "`*` operatörü, iki dize (array) aynı boyuta sahipse eğer, iki dizinin (array) eleman bazında çarpmasını gerçekleştirir. `sum` yöntemi, bir dizideki (array) sayıların toplamını hesaplar."
      ]
    },
    {
      "cell_type": "code",
      "metadata": {
        "id": "hBKOFf7kBxAr",
        "colab": {
          "base_uri": "https://localhost:8080/"
        },
        "outputId": "bd192438-bfe8-4a69-d12f-c085815dfb5f"
      },
      "source": [
        "ab = sum(kanto)\n",
        "ab"
      ],
      "execution_count": null,
      "outputs": [
        {
          "output_type": "execute_result",
          "data": {
            "text/plain": [
              "183"
            ]
          },
          "metadata": {},
          "execution_count": 124
        }
      ]
    },
    {
      "cell_type": "code",
      "metadata": {
        "id": "3PgP6oSjBz9S"
      },
      "source": [
        "arr1 = np.array([1, 2, 3])\n",
        "arr2 = np.array([4, 5, 6])"
      ],
      "execution_count": null,
      "outputs": []
    },
    {
      "cell_type": "code",
      "metadata": {
        "id": "kvdjZYo8B1kL",
        "colab": {
          "base_uri": "https://localhost:8080/"
        },
        "outputId": "88ca78f3-accc-4ca0-8207-db5ca91894f9"
      },
      "source": [
        "arr1 * arr2"
      ],
      "execution_count": null,
      "outputs": [
        {
          "output_type": "execute_result",
          "data": {
            "text/plain": [
              "array([ 4, 10, 18])"
            ]
          },
          "metadata": {},
          "execution_count": 131
        }
      ]
    },
    {
      "cell_type": "code",
      "metadata": {
        "id": "eTRCAv1lB3xi",
        "colab": {
          "base_uri": "https://localhost:8080/"
        },
        "outputId": "dba1f62c-25a2-43c8-87f6-afdd234e15f2"
      },
      "source": [
        "arr2.sum()"
      ],
      "execution_count": null,
      "outputs": [
        {
          "output_type": "execute_result",
          "data": {
            "text/plain": [
              "15"
            ]
          },
          "metadata": {},
          "execution_count": 136
        }
      ]
    },
    {
      "cell_type": "markdown",
      "metadata": {
        "id": "vr7_8eACCJkl"
      },
      "source": [
        "## Numpy dizilerini (arrays) kullanmanın faydaları\n",
        "\n",
        "Numpy dizileri (arrays), sayısal veriler üzerinde çalışmak için Python listelerine (lists) göre aşağıdaki avantajları sunar:\n",
        "\n",
        "- **Kullanım kolaylığı**: `urun_mahsulu` gibi döngüler (loops) & özel fonksiyonlar kullanmak yerine `(kanto * weights).sum()` gibi küçük, özlü ve sezgisel matematiksel ifadeler yazabiliriz.\n",
        "\n",
        "- **Performans**: Numpy işlemleri ve fonksiyonları, çalışma zamanında (runtime) yorumlanan Python ifadelerini (statements) & döngülerini (loops) kullanmaktan çok daha hızlı hale getiren C++'da dahili olarak uygulanır.\n",
        "\n",
        "Her biri bir milyon elemanlı iki vektör üzerinde Python döngüleri (loops) ile Numpy dizileri (arrays) kullanılarak gerçekleştirilen nokta çarpımlarının (dot product) bir karşılaştırması burada."
      ]
    },
    {
      "cell_type": "code",
      "metadata": {
        "id": "7-gGIYp_GovB"
      },
      "source": [
        "# Python listeleri (lists)\n",
        "arr1 = list(range(1000000))\n",
        "arr2 = list(range(1000000, 2000000))\n",
        "\n",
        "# Numpy arrays\n",
        "arr1_np = np.array(arr1)\n",
        "arr2_np = np.array(arr2)"
      ],
      "execution_count": null,
      "outputs": []
    },
    {
      "cell_type": "code",
      "metadata": {
        "id": "cN8pZJBzGtfR",
        "colab": {
          "base_uri": "https://localhost:8080/"
        },
        "outputId": "9327d355-8501-4032-ee7d-982aa3118242"
      },
      "source": [
        "%%time\n",
        "result = 0\n",
        "for x1, x2 in zip(arr1, arr2):\n",
        "    result += x1*x2\n",
        "result"
      ],
      "execution_count": null,
      "outputs": [
        {
          "output_type": "stream",
          "name": "stdout",
          "text": [
            "CPU times: user 220 ms, sys: 0 ns, total: 220 ms\n",
            "Wall time: 220 ms\n"
          ]
        }
      ]
    },
    {
      "cell_type": "code",
      "metadata": {
        "id": "6NnQTcy9GwZS",
        "colab": {
          "base_uri": "https://localhost:8080/"
        },
        "outputId": "72fb8789-eed1-4cc6-bd50-7c7262ae40e8"
      },
      "source": [
        "%%time\n",
        "np.dot(arr1_np, arr2_np)"
      ],
      "execution_count": null,
      "outputs": [
        {
          "output_type": "stream",
          "name": "stdout",
          "text": [
            "CPU times: user 2.76 ms, sys: 0 ns, total: 2.76 ms\n",
            "Wall time: 2.87 ms\n"
          ]
        },
        {
          "output_type": "execute_result",
          "data": {
            "text/plain": [
              "833332333333500000"
            ]
          },
          "metadata": {},
          "execution_count": 140
        }
      ]
    },
    {
      "cell_type": "markdown",
      "metadata": {
        "id": "ea1cc-V-G79j"
      },
      "source": [
        "Gördüğümüz gibi, `np.dot` kullanmak, bir `for` döngüsü kullanmaktan 100 kat daha hızlıdır. Bu, on binlerce veya milyonlarca veri noktası içeren gerçekten büyük veri kümeleriyle çalışırken özellikle Numpy'yi kullanışlı hale getirir."
      ]
    },
    {
      "cell_type": "markdown",
      "metadata": {
        "id": "4NAdi38PHhyT"
      },
      "source": [
        "## Çok boyutlu Numpy dizileri (arrays)\n",
        "\n",
        "Artık bir adım daha ileri gidebilir ve tek bir 2 boyutlu Numpy dizisi (array) kullanarak tüm bölgeler için iklim verilerini represent edebiliriz."
      ]
    },
    {
      "cell_type": "code",
      "metadata": {
        "id": "1z3x8clVHcD5"
      },
      "source": [
        "iklim_verisi = np.array([[73, 67, 43],\n",
        "                         [91, 88, 64],\n",
        "                         [87, 134, 58],\n",
        "                         [102, 43, 37],\n",
        "                         [69, 96, 70]])"
      ],
      "execution_count": null,
      "outputs": []
    },
    {
      "cell_type": "code",
      "metadata": {
        "id": "IJW_UM3NIHGb",
        "colab": {
          "base_uri": "https://localhost:8080/"
        },
        "outputId": "7305d052-f87d-46aa-e86b-8405b9c53575"
      },
      "source": [
        "iklim_verisi"
      ],
      "execution_count": null,
      "outputs": [
        {
          "output_type": "execute_result",
          "data": {
            "text/plain": [
              "array([[ 73,  67,  43],\n",
              "       [ 91,  88,  64],\n",
              "       [ 87, 134,  58],\n",
              "       [102,  43,  37],\n",
              "       [ 69,  96,  70]])"
            ]
          },
          "metadata": {},
          "execution_count": 142
        }
      ]
    },
    {
      "cell_type": "markdown",
      "metadata": {
        "id": "AnD9rzozXHOX"
      },
      "source": [
        "Lisede lineer cebir dersi aldıysanız, yukarıdaki 2 boyutlu diziyi beş satır (rows) ve üç sütunlu (columns) bir matris olarak tanıyabilirsiniz. Her satır bir bölgeyi temsil eder ve sütunlar sırasıyla sıcaklık, yağış ve nemi temsil eder.\n",
        "\n",
        "Numpy dizileri (arrays) herhangi bir sayıda boyutta olabilir ve her bir boyut boyunca farklı uzunluklara sahip olabilir. Bir dizinin (array) `.shape` özelliğini kullanarak her bir boyut boyunca uzunluğu inceleyebiliriz.\n",
        "\n",
        "\n",
        "<img src=\"https://fgnt.github.io/python_crashkurs_doc/_images/numpy_array_t.png\" width=\"420\">\n"
      ]
    },
    {
      "cell_type": "code",
      "metadata": {
        "id": "Rx3eg3jlrnT8",
        "colab": {
          "base_uri": "https://localhost:8080/"
        },
        "outputId": "31614048-45ca-4478-e9b8-32b6e2856a61"
      },
      "source": [
        "# 2D array (matrix)\n",
        "iklim_verisi.shape"
      ],
      "execution_count": null,
      "outputs": [
        {
          "output_type": "execute_result",
          "data": {
            "text/plain": [
              "(5, 3)"
            ]
          },
          "metadata": {},
          "execution_count": 143
        }
      ]
    },
    {
      "cell_type": "code",
      "metadata": {
        "id": "WL-j6kg6rrUM",
        "colab": {
          "base_uri": "https://localhost:8080/"
        },
        "outputId": "a9a9bab5-d811-4d68-f4bc-d8bcd37d6350"
      },
      "source": [
        "weights"
      ],
      "execution_count": null,
      "outputs": [
        {
          "output_type": "execute_result",
          "data": {
            "text/plain": [
              "array([0.3, 0.2, 0.5])"
            ]
          },
          "metadata": {},
          "execution_count": 144
        }
      ]
    },
    {
      "cell_type": "code",
      "metadata": {
        "id": "vhiIAbYcrtyw",
        "colab": {
          "base_uri": "https://localhost:8080/"
        },
        "outputId": "21d1f77b-8d9c-48fb-d019-1d506dbfaaf2"
      },
      "source": [
        "# 1D array (vector)\n",
        "weights.shape"
      ],
      "execution_count": null,
      "outputs": [
        {
          "output_type": "execute_result",
          "data": {
            "text/plain": [
              "(3,)"
            ]
          },
          "metadata": {},
          "execution_count": 145
        }
      ]
    },
    {
      "cell_type": "code",
      "metadata": {
        "id": "PKITEjBnrxwV"
      },
      "source": [
        "# 3D array \n",
        "arr3 = np.array([\n",
        "    [[11, 12, 13], \n",
        "     [13, 14, 15]], \n",
        "    [[15, 16, 17], \n",
        "     [17, 18, 19.5]]])\n"
      ],
      "execution_count": null,
      "outputs": []
    },
    {
      "cell_type": "code",
      "metadata": {
        "id": "t6PaOXGJrz7O",
        "colab": {
          "base_uri": "https://localhost:8080/"
        },
        "outputId": "f8a9c2c9-f0f8-44f7-80e1-b38e0681d570"
      },
      "source": [
        "arr3.shape"
      ],
      "execution_count": null,
      "outputs": [
        {
          "output_type": "execute_result",
          "data": {
            "text/plain": [
              "(2, 2, 3)"
            ]
          },
          "metadata": {},
          "execution_count": 147
        }
      ]
    },
    {
      "cell_type": "markdown",
      "metadata": {
        "id": "AjhqZXX6r5Ka"
      },
      "source": [
        "Numpy dizisindeki (array) tüm öğeler aynı veri türüne sahiptir.\n",
        "\n",
        "`.dtype` özelliğini kullanarak bir dizinin veri türünü kontrol edebiliriz."
      ]
    },
    {
      "cell_type": "code",
      "metadata": {
        "id": "CVTOPNv9sTf8",
        "colab": {
          "base_uri": "https://localhost:8080/"
        },
        "outputId": "6b1f9451-fcd3-4ca8-a1ce-cc5b62b684d9"
      },
      "source": [
        "weights.dtype"
      ],
      "execution_count": null,
      "outputs": [
        {
          "output_type": "execute_result",
          "data": {
            "text/plain": [
              "dtype('float64')"
            ]
          },
          "metadata": {},
          "execution_count": 149
        }
      ]
    },
    {
      "cell_type": "code",
      "metadata": {
        "id": "IAT8UuKwsbzD",
        "colab": {
          "base_uri": "https://localhost:8080/"
        },
        "outputId": "b11b6896-40f2-4a5a-b8a7-004ec4ee7163"
      },
      "source": [
        "iklim_verisi.dtype"
      ],
      "execution_count": null,
      "outputs": [
        {
          "output_type": "execute_result",
          "data": {
            "text/plain": [
              "dtype('int64')"
            ]
          },
          "metadata": {},
          "execution_count": 150
        }
      ]
    },
    {
      "cell_type": "markdown",
      "metadata": {
        "id": "rrqOz-bEsztF"
      },
      "source": [
        "Bir dizi tek bir floating point number bile içeriyorsa, diğer tüm öğeler de float'a dönüştürülür."
      ]
    },
    {
      "cell_type": "code",
      "metadata": {
        "id": "ICobMcMwtWBM",
        "colab": {
          "base_uri": "https://localhost:8080/"
        },
        "outputId": "056ce4a3-398e-4de5-d0e0-7c599da64ac5"
      },
      "source": [
        "arr3.dtype"
      ],
      "execution_count": null,
      "outputs": [
        {
          "output_type": "execute_result",
          "data": {
            "text/plain": [
              "dtype('float64')"
            ]
          },
          "metadata": {},
          "execution_count": 153
        }
      ]
    },
    {
      "cell_type": "markdown",
      "metadata": {
        "id": "2_2fQEeOtdcL"
      },
      "source": [
        "Şimdi, `iklim_verisi` (5x3'lük bir matris) ve `weights` (3 uzunluğunda bir vektör) arasında tek bir matris çarpımı kullanarak, tüm bölgelerde elmaların tahmin edilen hasılatlarını hesaplayabiliriz. İşte görsel olarak görüntüsü:\n",
        "\n",
        "\n",
        "<img src=\"https://i.imgur.com/LJ2WKSI.png\" width=\"240\">\n",
        "\n",
        "Bu oynatma listesinin ilk 3-4 videosunu izleyerek matrisler ve matris çarpımı hakkında bilgi edinebiliriz: https://www.youtube.com/watch?v=xyAuNHPsq-g&list=PLFD0EB975BA0CC1E0&index=1 \n",
        "\n",
        "Matris çarpımını yapmak için `np.matmul` fonksiyonunu veya `@` operatörünü kullanabiliriz."
      ]
    },
    {
      "cell_type": "code",
      "metadata": {
        "id": "k_TQJs79u0QE",
        "colab": {
          "base_uri": "https://localhost:8080/"
        },
        "outputId": "b698dfee-325b-472f-cd83-bbca8fb21c44"
      },
      "source": [
        "np.matmul(iklim_verisi, weights)"
      ],
      "execution_count": null,
      "outputs": [
        {
          "output_type": "execute_result",
          "data": {
            "text/plain": [
              "array([56.8, 76.9, 81.9, 57.7, 74.9])"
            ]
          },
          "metadata": {},
          "execution_count": 154
        }
      ]
    },
    {
      "cell_type": "code",
      "metadata": {
        "id": "XDalGXulu6ND",
        "colab": {
          "base_uri": "https://localhost:8080/"
        },
        "outputId": "bffebc89-54bc-4d44-aaa2-fcbdcbc47dea"
      },
      "source": [
        "iklim_verisi @ weights"
      ],
      "execution_count": null,
      "outputs": [
        {
          "output_type": "execute_result",
          "data": {
            "text/plain": [
              "array([56.8, 76.9, 81.9, 57.7, 74.9])"
            ]
          },
          "metadata": {},
          "execution_count": 155
        }
      ]
    },
    {
      "cell_type": "markdown",
      "metadata": {
        "id": "Jm61H-A3vq99"
      },
      "source": [
        "## CSV veri dosyalarıyla çalışma\n",
        "\n",
        "Numpy ayrıca dosyalardan okuma ve dosyalara yazma yardımcı işlevleri sağlar. 10.000 iklim ölçümünü (sıcaklık, yağış ve nem) içeren `climate.txt` dosyasını aşağıdaki formatta indirelim:\n",
        "\n",
        "\n",
        "```\n",
        "sicaklik,yagis,nem\n",
        "25.00,76.00,99.00\n",
        "39.00,65.00,70.00\n",
        "59.00,45.00,77.00\n",
        "84.00,63.00,38.00\n",
        "66.00,50.00,52.00\n",
        "41.00,94.00,77.00\n",
        "91.00,57.00,96.00\n",
        "49.00,96.00,99.00\n",
        "67.00,20.00,28.00\n",
        "...\n",
        "```\n",
        "Bu veri depolama biçimi, *comma-separated values (virgülle ayrılmış değerler)* veya CSV olarak bilinir.\n",
        "\n",
        "> **CSVs**: Virgülle ayrılmış değerler (CSV) dosyası, değerleri ayırmak için virgül kullanan sınırlandırılmış bir metin dosyasıdır. Dosyanın her satırı bir veri kaydıdır. Her kayıt, virgülle ayrılmış bir veya daha fazla alandan oluşur. Bir CSV dosyası genellikle tablo verilerini (sayılar ve metin) düz metin olarak depolar; bu durumda her satırda aynı sayıda alan (field, not area) bulunur. (Vikipedi)\n",
        "\n",
        "Bu dosyayı numpy dizisine okumak için `genfromtxt` fonksiyonunu kullanabiliriz."
      ]
    },
    {
      "cell_type": "code",
      "metadata": {
        "id": "VDhswWc9ylPz",
        "colab": {
          "base_uri": "https://localhost:8080/"
        },
        "outputId": "b94b02c9-9557-48ab-c33f-83bc489c3c14"
      },
      "source": [
        "import urllib.request as ur\n",
        "\n",
        "ur.urlretrieve(\n",
        "    'https://hub.jovian.ml/wp-content/uploads/2020/08/climate.csv', \n",
        "    'climate.txt')"
      ],
      "execution_count": null,
      "outputs": [
        {
          "output_type": "execute_result",
          "data": {
            "text/plain": [
              "('climate.txt', <http.client.HTTPMessage at 0x7f4983195050>)"
            ]
          },
          "metadata": {},
          "execution_count": 156
        }
      ]
    },
    {
      "cell_type": "code",
      "metadata": {
        "id": "i9JHY1gVyn0L"
      },
      "source": [
        "iklim_verisi = np.genfromtxt('climate.txt', delimiter=',', skip_header=1)"
      ],
      "execution_count": null,
      "outputs": []
    },
    {
      "cell_type": "code",
      "metadata": {
        "id": "sBlmBugSytYa",
        "colab": {
          "base_uri": "https://localhost:8080/"
        },
        "outputId": "93b9f069-174e-4c2a-fd7a-890f2b8785e3"
      },
      "source": [
        "iklim_verisi"
      ],
      "execution_count": null,
      "outputs": [
        {
          "output_type": "execute_result",
          "data": {
            "text/plain": [
              "array([[25., 76., 99.],\n",
              "       [39., 65., 70.],\n",
              "       [59., 45., 77.],\n",
              "       ...,\n",
              "       [99., 62., 58.],\n",
              "       [70., 71., 91.],\n",
              "       [92., 39., 76.]])"
            ]
          },
          "metadata": {},
          "execution_count": 158
        }
      ]
    },
    {
      "cell_type": "code",
      "metadata": {
        "id": "EHE4jwG9yvRE",
        "colab": {
          "base_uri": "https://localhost:8080/"
        },
        "outputId": "a043058a-b6ab-4044-bdb5-9befe1df08aa"
      },
      "source": [
        "iklim_verisi.shape"
      ],
      "execution_count": null,
      "outputs": [
        {
          "output_type": "execute_result",
          "data": {
            "text/plain": [
              "(10000, 3)"
            ]
          },
          "metadata": {},
          "execution_count": 159
        }
      ]
    },
    {
      "cell_type": "markdown",
      "metadata": {
        "id": "2L1cMwWLy2s0"
      },
      "source": [
        "Şimdi, belirli bir weight kümesini kullanarak bütün veri kümesi için elma hasılatını tahmin etmek için `@` operatörünü kullanarak bir matris çarpımı yapabiliriz."
      ]
    },
    {
      "cell_type": "code",
      "metadata": {
        "id": "maZWgtIjzvYC"
      },
      "source": [
        "weights = np.array([0.3, 0.2, 0.5])"
      ],
      "execution_count": null,
      "outputs": []
    },
    {
      "cell_type": "code",
      "metadata": {
        "id": "2UcQw_WIzz9K"
      },
      "source": [
        "hasilatlar = iklim_verisi @ weights      "
      ],
      "execution_count": null,
      "outputs": []
    },
    {
      "cell_type": "code",
      "metadata": {
        "id": "v-lEjoDiz5mJ",
        "colab": {
          "base_uri": "https://localhost:8080/"
        },
        "outputId": "4970b7f4-17c8-4ec9-da26-586a67d534a5"
      },
      "source": [
        "hasilatlar"
      ],
      "execution_count": null,
      "outputs": [
        {
          "output_type": "execute_result",
          "data": {
            "text/plain": [
              "array([72.2, 59.7, 65.2, ..., 71.1, 80.7, 73.4])"
            ]
          },
          "metadata": {},
          "execution_count": 162
        }
      ]
    },
    {
      "cell_type": "code",
      "metadata": {
        "id": "qUa5fWeLz7Jp",
        "colab": {
          "base_uri": "https://localhost:8080/"
        },
        "outputId": "fe4c7127-c271-4ffd-c84c-47b137d6b322"
      },
      "source": [
        "hasilatlar.shape"
      ],
      "execution_count": null,
      "outputs": [
        {
          "output_type": "execute_result",
          "data": {
            "text/plain": [
              "(10000,)"
            ]
          },
          "metadata": {},
          "execution_count": 163
        }
      ]
    },
    {
      "cell_type": "markdown",
      "metadata": {
        "id": "dFz-QkYR3KPr"
      },
      "source": [
        "[`np.concatenate`](https://numpy.org/doc/stable/reference/generated/numpy.concatenate.html) fonksiyonunu kullanarak 4. bir sütun (column) olarak `iklim_verileri`'ne `hasilatlar`'ı ekleyelim."
      ]
    },
    {
      "cell_type": "code",
      "metadata": {
        "id": "mBK0x9N032Ut"
      },
      "source": [
        "iklim_sonuclari = np.concatenate((iklim_verisi, hasilatlar.reshape(10000, 1)), axis=1)"
      ],
      "execution_count": null,
      "outputs": []
    },
    {
      "cell_type": "code",
      "metadata": {
        "id": "zoEBiH_Z4VDq",
        "colab": {
          "base_uri": "https://localhost:8080/"
        },
        "outputId": "320c06f8-650b-4444-e910-89d2d527487f"
      },
      "source": [
        "iklim_sonuclari"
      ],
      "execution_count": null,
      "outputs": [
        {
          "output_type": "execute_result",
          "data": {
            "text/plain": [
              "array([[25. , 76. , 99. , 72.2],\n",
              "       [39. , 65. , 70. , 59.7],\n",
              "       [59. , 45. , 77. , 65.2],\n",
              "       ...,\n",
              "       [99. , 62. , 58. , 71.1],\n",
              "       [70. , 71. , 91. , 80.7],\n",
              "       [92. , 39. , 76. , 73.4]])"
            ]
          },
          "metadata": {},
          "execution_count": 165
        }
      ]
    },
    {
      "cell_type": "markdown",
      "metadata": {
        "id": "pbQAbHOM4cMi"
      },
      "source": [
        "Burada birkaç ince nokta var:\n",
        "\n",
        "* Yeni sütunlar (columns) eklemek istediğimiz için, `axis=1` argümanını `np.concatenate`'e aktarıyoruz. `axis` argümanı, birleştirme (concatenation) için boyutu belirtir.\n",
        "\n",
        "* Diziler (arrays), birleştirme için kullanılan boyut dışında aynı sayıda boyuta ve her biri boyunca aynı uzunluğa sahip olmalıdır. [`np.reshape`](https://numpy.org/doc/stable/reference/generated/numpy.reshape.html) fonksiyonunu kullanarak `hasilatlar`'ın şeklini `(10000,)`'den `(10000,1)`'e değiştiririz.\n",
        "\n",
        "İşte `axis=1` boyunca `np.concatenate`'in görsel bir açıklaması (`axis=0`ın neyle sonuçlandığını tahmin edebilir miyiz):\n",
        "\n",
        "<img src=\"https://www.w3resource.com/w3r_images/python-numpy-image-exercise-58.png\" width=\"300\">\n",
        "\n",
        "Numpy fonksiyonunun ne yaptığını anlamanın en iyi yolu, onu denemek ve argümanları ve dönüş değerleri (return values) hakkında bilgi edinmek için dökümanları okumaktır. `np.concatenate` ve `np.reshape` ile denemeler yapmak için aşağıdaki hücreleri kullanalım."
      ]
    },
    {
      "cell_type": "code",
      "metadata": {
        "id": "We_eZLie8YEQ"
      },
      "source": [
        ""
      ],
      "execution_count": null,
      "outputs": []
    },
    {
      "cell_type": "code",
      "metadata": {
        "id": "0W95IMo98Yej"
      },
      "source": [
        ""
      ],
      "execution_count": null,
      "outputs": []
    },
    {
      "cell_type": "code",
      "metadata": {
        "id": "FFxXUgSB8Y7X"
      },
      "source": [
        ""
      ],
      "execution_count": null,
      "outputs": []
    },
    {
      "cell_type": "markdown",
      "metadata": {
        "id": "ll8dwlSM8a8k"
      },
      "source": [
        "Yukarıdaki hesaplamamızın sonuçlarını `np.savetxt` fonksiyonunu kullanarak bir dosyaya yazalım."
      ]
    },
    {
      "cell_type": "code",
      "metadata": {
        "id": "YOyUD9n_8ZSg",
        "colab": {
          "base_uri": "https://localhost:8080/"
        },
        "outputId": "bdb297c2-3aec-4b3b-941c-5838a72af32b"
      },
      "source": [
        "iklim_sonuclari"
      ],
      "execution_count": null,
      "outputs": [
        {
          "output_type": "execute_result",
          "data": {
            "text/plain": [
              "array([[25. , 76. , 99. , 72.2],\n",
              "       [39. , 65. , 70. , 59.7],\n",
              "       [59. , 45. , 77. , 65.2],\n",
              "       ...,\n",
              "       [99. , 62. , 58. , 71.1],\n",
              "       [70. , 71. , 91. , 80.7],\n",
              "       [92. , 39. , 76. , 73.4]])"
            ]
          },
          "metadata": {},
          "execution_count": 166
        }
      ]
    },
    {
      "cell_type": "code",
      "metadata": {
        "id": "q0b9YqJ39HhU"
      },
      "source": [
        "np.savetxt('iklim_sonuclari.txt', \n",
        "           iklim_sonuclari, \n",
        "           fmt='%.2f', \n",
        "           delimiter=',',\n",
        "           header='sicaklik,yagis,nem,elmalarin_hasilati', \n",
        "           comments='')"
      ],
      "execution_count": null,
      "outputs": []
    },
    {
      "cell_type": "markdown",
      "metadata": {
        "id": "fRjRUVba9fW4"
      },
      "source": [
        "Sonuçlar CSV formatında `iklim_sonuclari.txt` dosyasına yazılır.\n",
        "\n",
        "```\n",
        "sicaklik,yagis,nem,elmalarin_hasilati\n",
        "25.00,76.00,99.00,72.20\n",
        "39.00,65.00,70.00,59.70\n",
        "59.00,45.00,77.00,65.20\n",
        "84.00,63.00,38.00,56.80\n",
        "...\n",
        "```\n",
        "\n"
      ]
    },
    {
      "cell_type": "markdown",
      "metadata": {
        "id": "tINOtUfA2ZQb"
      },
      "source": [
        "Numpy, dizilerde işlem gerçekleştirmek için yüzlerce fonksiyon sağlar. İşte yaygın olarak kullanılan bazı fonksiyonlar:\n",
        "\n",
        "\n",
        "* Matematik: `np.sum`, `np.exp`, `np.round`, arithemtic operators \n",
        "* Dizi (array) manipülasyonu: `np.reshape`, `np.stack`, `np.concatenate`, `np.split`\n",
        "* Lineer Cebir: `np.matmul`, `np.dot`, `np.transpose`, `np.eigvals`\n",
        "* İstatistik: `np.mean`, `np.median`, `np.std`, `np.max`\n",
        "\n",
        "> **İhtiyacımız olan fonksiyon nasıl bulunur?** Belirli bir işlem veya kullanım durumu için doğru işlevi bulmanın en kolay yolu bir web araması yapmaktır. Örneğin, \"Numpy dizilere nasıl eklenir\" (how to join numpy arrays) araması, [bu eğitici, dizi (array) birleştirmeyle üzerinedir](https://cmdlinetips.com/2018/04/how-to-concatenate-arrays-in-numpy/). \n",
        "\n",
        "Dizi (array) fonksiyonlarının tam listesini burada bulabiliriz: https://numpy.org/doc/stable/reference/routines.html"
      ]
    },
    {
      "cell_type": "markdown",
      "metadata": {
        "id": "rEdT_fVB5etQ"
      },
      "source": [
        "## Aritmetik işlemler, yayın (broadcasting) ve karşılaştırma\n",
        "\n",
        "Numpy dizileri (arrays) `+`, `-`, `*` gibi aritmetik işlemleri destekler. Tek bir sayı (skaler olarak da adlandırılır) veya aynı şekle sahip başka bir dizi (array) ile aritmetik işlem gerçekleştirebiliriz. Operatörler, çok boyutlu dizilerle matematiksel ifadeler yazmayı kolaylaştırır."
      ]
    },
    {
      "cell_type": "code",
      "metadata": {
        "id": "K_FsPAO-6yM-"
      },
      "source": [
        "arr2 = np.array([[1, 2, 3, 4], \n",
        "                 [5, 6, 7, 8], \n",
        "                 [9, 1, 2, 3]])"
      ],
      "execution_count": null,
      "outputs": []
    },
    {
      "cell_type": "code",
      "metadata": {
        "id": "3GXM89y26y_f"
      },
      "source": [
        "arr3 = np.array([[11, 12, 13, 14], \n",
        "                 [15, 16, 17, 18], \n",
        "                 [19, 11, 12, 13]])"
      ],
      "execution_count": null,
      "outputs": []
    },
    {
      "cell_type": "code",
      "metadata": {
        "colab": {
          "base_uri": "https://localhost:8080/"
        },
        "id": "8iBH7UWz61l3",
        "outputId": "42b07253-42fb-4443-c85d-125f5ce48194"
      },
      "source": [
        "# Skaler ekleme\n",
        "arr2 + 3"
      ],
      "execution_count": null,
      "outputs": [
        {
          "output_type": "execute_result",
          "data": {
            "text/plain": [
              "array([[ 4,  5,  6,  7],\n",
              "       [ 8,  9, 10, 11],\n",
              "       [12,  4,  5,  6]])"
            ]
          },
          "metadata": {},
          "execution_count": 170
        }
      ]
    },
    {
      "cell_type": "code",
      "metadata": {
        "colab": {
          "base_uri": "https://localhost:8080/"
        },
        "id": "b_K7_1pW6_0x",
        "outputId": "09bb7ee6-e891-41d2-c965-6c5fa4a3ed83"
      },
      "source": [
        "# Öğe bazında çıkarma\n",
        "arr3 - arr2"
      ],
      "execution_count": null,
      "outputs": [
        {
          "output_type": "execute_result",
          "data": {
            "text/plain": [
              "array([[10, 10, 10, 10],\n",
              "       [10, 10, 10, 10],\n",
              "       [10, 10, 10, 10]])"
            ]
          },
          "metadata": {},
          "execution_count": 171
        }
      ]
    },
    {
      "cell_type": "code",
      "metadata": {
        "colab": {
          "base_uri": "https://localhost:8080/"
        },
        "id": "2d2NdCt87HpP",
        "outputId": "81c4691b-1a00-4728-f6de-a07cbfb43a73"
      },
      "source": [
        "# Skalerle bölme\n",
        "arr2 / 2"
      ],
      "execution_count": null,
      "outputs": [
        {
          "output_type": "execute_result",
          "data": {
            "text/plain": [
              "array([[0.5, 1. , 1.5, 2. ],\n",
              "       [2.5, 3. , 3.5, 4. ],\n",
              "       [4.5, 0.5, 1. , 1.5]])"
            ]
          },
          "metadata": {},
          "execution_count": 172
        }
      ]
    },
    {
      "cell_type": "code",
      "metadata": {
        "colab": {
          "base_uri": "https://localhost:8080/"
        },
        "id": "cL6Bfv_j7QoI",
        "outputId": "1398f337-7edc-4437-9835-1fa3bdb165cf"
      },
      "source": [
        "# Eleman bazında çarpma\n",
        "arr2 * arr3"
      ],
      "execution_count": null,
      "outputs": [
        {
          "output_type": "execute_result",
          "data": {
            "text/plain": [
              "array([[ 11,  24,  39,  56],\n",
              "       [ 75,  96, 119, 144],\n",
              "       [171,  11,  24,  39]])"
            ]
          },
          "metadata": {},
          "execution_count": 174
        }
      ]
    },
    {
      "cell_type": "code",
      "metadata": {
        "colab": {
          "base_uri": "https://localhost:8080/"
        },
        "id": "vo_xVsrc7Vp-",
        "outputId": "035523b4-d9d0-4375-8a87-462c99f0d696"
      },
      "source": [
        "# Skaler ile modül\n",
        "arr2 % 4"
      ],
      "execution_count": null,
      "outputs": [
        {
          "output_type": "execute_result",
          "data": {
            "text/plain": [
              "array([[1, 2, 3, 0],\n",
              "       [1, 2, 3, 0],\n",
              "       [1, 1, 2, 3]])"
            ]
          },
          "metadata": {},
          "execution_count": 176
        }
      ]
    },
    {
      "cell_type": "markdown",
      "metadata": {
        "id": "SsE4Ff3G7pd8"
      },
      "source": [
        "### Dizi Yayını (Array Broadcasting)\n",
        "\n",
        "Numpy dizileri (arrays) aynı zamanda  farklı sayıda boyutlarda ama uyumlu şekillere sahip iki dizi arasında aritmetik işlemlere izin veren *yayınlamayı* (*broadcasting*) destekler. Nasıl çalıştığını görmek için bir örneğe bakalım."
      ]
    },
    {
      "cell_type": "code",
      "metadata": {
        "id": "GbzjKuh0-Zn2"
      },
      "source": [
        "arr2 = np.array([[1, 2, 3, 4], \n",
        "                 [5, 6, 7, 8], \n",
        "                 [9, 1, 2, 3]])"
      ],
      "execution_count": null,
      "outputs": []
    },
    {
      "cell_type": "code",
      "metadata": {
        "colab": {
          "base_uri": "https://localhost:8080/"
        },
        "id": "tc9xu5Ke-btd",
        "outputId": "8918c71b-1483-4c80-cfb9-47c6341a2f38"
      },
      "source": [
        "arr2.shape"
      ],
      "execution_count": null,
      "outputs": [
        {
          "output_type": "execute_result",
          "data": {
            "text/plain": [
              "(3, 4)"
            ]
          },
          "metadata": {},
          "execution_count": 178
        }
      ]
    },
    {
      "cell_type": "code",
      "metadata": {
        "id": "-1ghbz-C-d-N"
      },
      "source": [
        "arr4 = np.array([4, 5, 6, 7])"
      ],
      "execution_count": null,
      "outputs": []
    },
    {
      "cell_type": "code",
      "metadata": {
        "colab": {
          "base_uri": "https://localhost:8080/"
        },
        "id": "SbXDdmNK-fx9",
        "outputId": "fab861cd-58cd-49d7-fd5c-d7ed09603ec3"
      },
      "source": [
        "arr4.shape"
      ],
      "execution_count": null,
      "outputs": [
        {
          "output_type": "execute_result",
          "data": {
            "text/plain": [
              "(4,)"
            ]
          },
          "metadata": {},
          "execution_count": 180
        }
      ]
    },
    {
      "cell_type": "code",
      "metadata": {
        "colab": {
          "base_uri": "https://localhost:8080/"
        },
        "id": "TSGjQ7LH-hYm",
        "outputId": "d0ea00a2-cf5d-493b-de95-9b7ba1446306"
      },
      "source": [
        "arr2 + arr4"
      ],
      "execution_count": null,
      "outputs": [
        {
          "output_type": "execute_result",
          "data": {
            "text/plain": [
              "array([[ 5,  7,  9, 11],\n",
              "       [ 9, 11, 13, 15],\n",
              "       [13,  6,  8, 10]])"
            ]
          },
          "metadata": {},
          "execution_count": 181
        }
      ]
    },
    {
      "cell_type": "markdown",
      "metadata": {
        "id": "R-vnSXkA-mYm"
      },
      "source": [
        "`arr2 + arr4` ifadesi değerlendirildiğinde, `arr4` (`(4,)` şeklindedir) `arr2`'nin `(3, 4)` şekliyle eşleşmesi için üç kez çoğaltılır. Numpy, daha küçük boyutlu dizinin (array) üç kopyasını gerçekten oluşturmadan çoğaltmayı gerçekleştirir, böylece performansı artırır ve daha düşük bellek kullanır. \n",
        "\n",
        "<img src=\"https://jakevdp.github.io/PythonDataScienceHandbook/figures/02.05-broadcasting.png\" width=\"360\">\n",
        "\n",
        "Yayın (broadcasting), yalnızca dizilerden biri diğer dizinin şekliyle eşleşecek şekilde çoğaltılabiliyorsa çalışır."
      ]
    },
    {
      "cell_type": "code",
      "metadata": {
        "id": "--0BDvGaBDNN"
      },
      "source": [
        "arr5 = np.array([7, 8])"
      ],
      "execution_count": null,
      "outputs": []
    },
    {
      "cell_type": "code",
      "metadata": {
        "colab": {
          "base_uri": "https://localhost:8080/"
        },
        "id": "75qExWaMBDuV",
        "outputId": "f147113b-ab22-4aed-dbba-0c915c4a4c5d"
      },
      "source": [
        "arr5.shape"
      ],
      "execution_count": null,
      "outputs": [
        {
          "output_type": "execute_result",
          "data": {
            "text/plain": [
              "(2,)"
            ]
          },
          "metadata": {},
          "execution_count": 183
        }
      ]
    },
    {
      "cell_type": "code",
      "metadata": {
        "colab": {
          "base_uri": "https://localhost:8080/",
          "height": 163
        },
        "id": "1NyhwLTkBGbm",
        "outputId": "aabeb9b8-dc33-4a24-e386-f0fa542a20c3"
      },
      "source": [
        "arr2 + arr5"
      ],
      "execution_count": null,
      "outputs": [
        {
          "output_type": "error",
          "ename": "ValueError",
          "evalue": "ignored",
          "traceback": [
            "\u001b[0;31m---------------------------------------------------------------------------\u001b[0m",
            "\u001b[0;31mValueError\u001b[0m                                Traceback (most recent call last)",
            "\u001b[0;32m<ipython-input-184-c22e92053c39>\u001b[0m in \u001b[0;36m<module>\u001b[0;34m()\u001b[0m\n\u001b[0;32m----> 1\u001b[0;31m \u001b[0marr2\u001b[0m \u001b[0;34m+\u001b[0m \u001b[0marr5\u001b[0m\u001b[0;34m\u001b[0m\u001b[0;34m\u001b[0m\u001b[0m\n\u001b[0m",
            "\u001b[0;31mValueError\u001b[0m: operands could not be broadcast together with shapes (3,4) (2,) "
          ]
        }
      ]
    },
    {
      "cell_type": "markdown",
      "metadata": {
        "id": "4We2sEC-BNdP"
      },
      "source": [
        "Yukarıdaki örnekte, `arr5` üç kez çoğaltılsa bile `arr2` şekliyle eşleşmeyecektir. Bu nedenle `arr2 + arr5` başarıyla değerlendirilemez. Buradan yayın (broadcasting) hakkında daha fazla bilgi edinebiliriz: https://numpy.org/doc/stable/user/basics.broadcasting.html ."
      ]
    },
    {
      "cell_type": "markdown",
      "metadata": {
        "id": "3AJb37hYBt-U"
      },
      "source": [
        "### Dizi Karşılaştırması (Array Comparison)\n",
        "\n",
        "Numpy dizileri ayrıca `==`, `!=`, `>` gibi karşılaştırma işlemlerini de destekler. Sonuç, bir boolean dizisidir."
      ]
    },
    {
      "cell_type": "code",
      "metadata": {
        "id": "tTuohFl8CEhu"
      },
      "source": [
        "arr1 = np.array([[1, 2, 3], [3, 4, 5]])\n",
        "arr2 = np.array([[2, 2, 3], [1, 2, 5]])"
      ],
      "execution_count": null,
      "outputs": []
    },
    {
      "cell_type": "code",
      "metadata": {
        "colab": {
          "base_uri": "https://localhost:8080/"
        },
        "id": "nsARe9wXCGHU",
        "outputId": "998f7e9b-f174-4d75-e103-7990fbe813a6"
      },
      "source": [
        "arr1 == arr2"
      ],
      "execution_count": null,
      "outputs": [
        {
          "output_type": "execute_result",
          "data": {
            "text/plain": [
              "array([[False,  True,  True],\n",
              "       [False, False,  True]])"
            ]
          },
          "metadata": {},
          "execution_count": 186
        }
      ]
    },
    {
      "cell_type": "code",
      "metadata": {
        "colab": {
          "base_uri": "https://localhost:8080/"
        },
        "id": "1pO7Ai6aCHte",
        "outputId": "6d76374d-f46f-42e2-8f7d-c2fcc0565294"
      },
      "source": [
        "arr1 != arr2"
      ],
      "execution_count": null,
      "outputs": [
        {
          "output_type": "execute_result",
          "data": {
            "text/plain": [
              "array([[ True, False, False],\n",
              "       [ True,  True, False]])"
            ]
          },
          "metadata": {},
          "execution_count": 187
        }
      ]
    },
    {
      "cell_type": "code",
      "metadata": {
        "colab": {
          "base_uri": "https://localhost:8080/"
        },
        "id": "4LVggAGCCJ1N",
        "outputId": "f483aa46-139e-4f10-ab81-be60913b927b"
      },
      "source": [
        "arr1 >= arr2"
      ],
      "execution_count": null,
      "outputs": [
        {
          "output_type": "execute_result",
          "data": {
            "text/plain": [
              "array([[False,  True,  True],\n",
              "       [ True,  True,  True]])"
            ]
          },
          "metadata": {},
          "execution_count": 188
        }
      ]
    },
    {
      "cell_type": "code",
      "metadata": {
        "colab": {
          "base_uri": "https://localhost:8080/"
        },
        "id": "YToRv4tVCL0d",
        "outputId": "1a2aa1b6-4431-4c26-c76d-62b9b585c537"
      },
      "source": [
        "arr1 < arr2"
      ],
      "execution_count": null,
      "outputs": [
        {
          "output_type": "execute_result",
          "data": {
            "text/plain": [
              "array([[ True, False, False],\n",
              "       [False, False, False]])"
            ]
          },
          "metadata": {},
          "execution_count": 192
        }
      ]
    },
    {
      "cell_type": "markdown",
      "metadata": {
        "id": "iUTaNl5BCTX2"
      },
      "source": [
        "Dizi karşılaştırması, `sum` yöntemini kullanarak iki dizideki eşit öğelerin sayısını saymak için sıklıkla kullanılır. Boolean aritmetik işlemlerde kullanıldığında `True` öğesinin `1` ve `False` öğesinin `0` olarak değerlendirdiğini unutmayalım."
      ]
    },
    {
      "cell_type": "code",
      "metadata": {
        "colab": {
          "base_uri": "https://localhost:8080/"
        },
        "id": "Xiqvp7d1C6Ds",
        "outputId": "84c7e4f2-7763-407e-ce31-c6c5c2adb4b5"
      },
      "source": [
        "(arr1 == arr2).sum()"
      ],
      "execution_count": null,
      "outputs": [
        {
          "output_type": "execute_result",
          "data": {
            "text/plain": [
              "3"
            ]
          },
          "metadata": {},
          "execution_count": 194
        }
      ]
    },
    {
      "cell_type": "markdown",
      "metadata": {
        "id": "w5e6vOzYDVDH"
      },
      "source": [
        "## Array indexing and slicing\n",
        "\n",
        "Numpy, Python'un liste indeksleme gösterimini `[]` kullanarak sezgisel bir şekilde birden çok boyuta genişletir. Numpy dizisinden belirli bir öğe veya alt dizi (dilim de denir) seçmek için virgülle ayrılmış bir indeksler veya aralıklar listesi sağlayabilirsiniz."
      ]
    },
    {
      "cell_type": "code",
      "metadata": {
        "id": "kvu2CHZ1JJ7e"
      },
      "source": [
        "arr3 = np.array([\n",
        "    [[11, 12, 13, 14], \n",
        "     [13, 14, 15, 19]], \n",
        "    \n",
        "    [[15, 16, 17, 21], \n",
        "     [63, 92, 36, 18]], \n",
        "    \n",
        "    [[98, 32, 81, 23],           \n",
        "     [17, 18, 19.5, 43]]])"
      ],
      "execution_count": null,
      "outputs": []
    },
    {
      "cell_type": "code",
      "metadata": {
        "colab": {
          "base_uri": "https://localhost:8080/"
        },
        "id": "WYZMT9n-JKaq",
        "outputId": "3758e2c7-d07d-48ff-cfd9-f3cbd6198873"
      },
      "source": [
        "arr3.shape"
      ],
      "execution_count": null,
      "outputs": [
        {
          "output_type": "execute_result",
          "data": {
            "text/plain": [
              "(3, 2, 4)"
            ]
          },
          "metadata": {},
          "execution_count": 196
        }
      ]
    },
    {
      "cell_type": "code",
      "metadata": {
        "colab": {
          "base_uri": "https://localhost:8080/"
        },
        "id": "S-MDH73qJL9k",
        "outputId": "4d757245-612c-4d55-cd4b-81dacb446956"
      },
      "source": [
        "# Tek eleman\n",
        "arr3[1, 1, 2]"
      ],
      "execution_count": null,
      "outputs": [
        {
          "output_type": "execute_result",
          "data": {
            "text/plain": [
              "36.0"
            ]
          },
          "metadata": {},
          "execution_count": 197
        }
      ]
    },
    {
      "cell_type": "code",
      "metadata": {
        "colab": {
          "base_uri": "https://localhost:8080/"
        },
        "id": "bnMc-7tyJS4N",
        "outputId": "35c769c9-4f16-4438-fcd2-a0280ca59c38"
      },
      "source": [
        "# Aralıkları kullanan alt dizi\n",
        "arr3[1:, 0:1, :2]"
      ],
      "execution_count": null,
      "outputs": [
        {
          "output_type": "execute_result",
          "data": {
            "text/plain": [
              "array([[[15., 16.]],\n",
              "\n",
              "       [[98., 32.]]])"
            ]
          },
          "metadata": {},
          "execution_count": 198
        }
      ]
    },
    {
      "cell_type": "code",
      "metadata": {
        "colab": {
          "base_uri": "https://localhost:8080/"
        },
        "id": "cYL0zfTiJa0W",
        "outputId": "edef5979-d8bd-4e60-83fc-9caa664e2261"
      },
      "source": [
        "# İndeksleri ve aralıkları karıştırma\n",
        "arr3[1:, 1, 3]"
      ],
      "execution_count": null,
      "outputs": [
        {
          "output_type": "execute_result",
          "data": {
            "text/plain": [
              "array([18., 43.])"
            ]
          },
          "metadata": {},
          "execution_count": 200
        }
      ]
    },
    {
      "cell_type": "code",
      "metadata": {
        "colab": {
          "base_uri": "https://localhost:8080/"
        },
        "id": "-nyy3_6yNUbk",
        "outputId": "d71a1fe2-a255-415c-dee5-2ca3498b1946"
      },
      "source": [
        "# İndeksleri ve aralıkları karıştırma\n",
        "arr3[1:, 1, :3]"
      ],
      "execution_count": null,
      "outputs": [
        {
          "output_type": "execute_result",
          "data": {
            "text/plain": [
              "array([[63. , 92. , 36. ],\n",
              "       [17. , 18. , 19.5]])"
            ]
          },
          "metadata": {},
          "execution_count": 201
        }
      ]
    },
    {
      "cell_type": "code",
      "metadata": {
        "colab": {
          "base_uri": "https://localhost:8080/"
        },
        "id": "_nlRKlHgNXjm",
        "outputId": "8f7ea260-83b6-4b38-8d31-24ea0e203f34"
      },
      "source": [
        "# Daha az indeks kullanma\n",
        "arr3[1]"
      ],
      "execution_count": null,
      "outputs": [
        {
          "output_type": "execute_result",
          "data": {
            "text/plain": [
              "array([[15., 16., 17., 21.],\n",
              "       [63., 92., 36., 18.]])"
            ]
          },
          "metadata": {},
          "execution_count": 202
        }
      ]
    },
    {
      "cell_type": "code",
      "metadata": {
        "colab": {
          "base_uri": "https://localhost:8080/"
        },
        "id": "1sN_gTpmNck6",
        "outputId": "e1b7c22e-5ee2-4b8b-f729-cf7638b5c8c0"
      },
      "source": [
        "# Daha az indeks kullanma\n",
        "arr3[:2, 1]"
      ],
      "execution_count": null,
      "outputs": [
        {
          "output_type": "execute_result",
          "data": {
            "text/plain": [
              "array([[13., 14., 15., 19.],\n",
              "       [63., 92., 36., 18.]])"
            ]
          },
          "metadata": {},
          "execution_count": 203
        }
      ]
    },
    {
      "cell_type": "code",
      "metadata": {
        "colab": {
          "base_uri": "https://localhost:8080/",
          "height": 180
        },
        "id": "MWKfRew0NgpP",
        "outputId": "20d03ddd-8d53-4f21-9073-89a547659737"
      },
      "source": [
        "# Çok fazla indeks kullanmak\n",
        "arr3[1,3,2,1]"
      ],
      "execution_count": null,
      "outputs": [
        {
          "output_type": "error",
          "ename": "IndexError",
          "evalue": "ignored",
          "traceback": [
            "\u001b[0;31m---------------------------------------------------------------------------\u001b[0m",
            "\u001b[0;31mIndexError\u001b[0m                                Traceback (most recent call last)",
            "\u001b[0;32m<ipython-input-204-b6b12d0b32a6>\u001b[0m in \u001b[0;36m<module>\u001b[0;34m()\u001b[0m\n\u001b[1;32m      1\u001b[0m \u001b[0;31m# Çok fazla indeks kullanmak\u001b[0m\u001b[0;34m\u001b[0m\u001b[0;34m\u001b[0m\u001b[0;34m\u001b[0m\u001b[0m\n\u001b[0;32m----> 2\u001b[0;31m \u001b[0marr3\u001b[0m\u001b[0;34m[\u001b[0m\u001b[0;36m1\u001b[0m\u001b[0;34m,\u001b[0m\u001b[0;36m3\u001b[0m\u001b[0;34m,\u001b[0m\u001b[0;36m2\u001b[0m\u001b[0;34m,\u001b[0m\u001b[0;36m1\u001b[0m\u001b[0;34m]\u001b[0m\u001b[0;34m\u001b[0m\u001b[0;34m\u001b[0m\u001b[0m\n\u001b[0m",
            "\u001b[0;31mIndexError\u001b[0m: too many indices for array: array is 3-dimensional, but 4 were indexed"
          ]
        }
      ]
    },
    {
      "cell_type": "markdown",
      "metadata": {
        "id": "V78zBG2kNpHJ"
      },
      "source": [
        "Gösterim ve sonuçları ilk başta kafa karıştırıcı görünebilir, bu yüzden denemek ve onunla rahat olmak için zaman ayırın. Farklı dizin ve aralık kombinasyonlarıyla bazı dizi indeksleme ve dilimleme örneklerini denemek için aşağıdaki hücreleri kullanın. İşte görsel olarak gösterilen birkaç örnek daha:\n",
        "\n",
        "<img src=\"https://scipy-lectures.org/_images/numpy_indexing.png\" width=\"360\">"
      ]
    },
    {
      "cell_type": "code",
      "metadata": {
        "id": "sZ5g2ifAOspK"
      },
      "source": [
        ""
      ],
      "execution_count": null,
      "outputs": []
    },
    {
      "cell_type": "code",
      "metadata": {
        "id": "7HkoAz7gOs9t"
      },
      "source": [
        ""
      ],
      "execution_count": null,
      "outputs": []
    },
    {
      "cell_type": "code",
      "metadata": {
        "id": "zI1HxyLNOtaU"
      },
      "source": [
        ""
      ],
      "execution_count": null,
      "outputs": []
    },
    {
      "cell_type": "code",
      "metadata": {
        "id": "ezpwyZkfOttr"
      },
      "source": [
        ""
      ],
      "execution_count": null,
      "outputs": []
    },
    {
      "cell_type": "markdown",
      "metadata": {
        "id": "KT_Sl8TqOw_W"
      },
      "source": [
        "## Numpy dizileri oluşturmanın diğer yolları\n",
        "\n",
        "Numpy ayrıca, sabit veya rastgele değerlerle istenen şekillerden oluşan diziler oluşturmak için bazı kullanışlı fonksiyonlar sağlar. [Resmi belgelere](https://numpy.org/doc/stable/reference/routines.array-creation.html) bakın veya daha fazla bilgi edinmek için `help` fonksiyonunu kullanın."
      ]
    },
    {
      "cell_type": "code",
      "metadata": {
        "colab": {
          "base_uri": "https://localhost:8080/"
        },
        "id": "2OTKrJnSQBoD",
        "outputId": "2d957a6b-4d4a-4511-a13c-b12353c2c6ae"
      },
      "source": [
        "# Hepsi sıfır\n",
        "np.zeros((3, 2))"
      ],
      "execution_count": null,
      "outputs": [
        {
          "output_type": "execute_result",
          "data": {
            "text/plain": [
              "array([[0., 0.],\n",
              "       [0., 0.],\n",
              "       [0., 0.]])"
            ]
          },
          "metadata": {},
          "execution_count": 214
        }
      ]
    },
    {
      "cell_type": "code",
      "metadata": {
        "colab": {
          "base_uri": "https://localhost:8080/"
        },
        "id": "SfKkgtopQIQU",
        "outputId": "1386db63-f2cd-4ab2-9e32-8dc27dd157bc"
      },
      "source": [
        "# Hepsi bir\n",
        "np.ones([2, 2, 3])"
      ],
      "execution_count": null,
      "outputs": [
        {
          "output_type": "execute_result",
          "data": {
            "text/plain": [
              "array([[[1., 1., 1.],\n",
              "        [1., 1., 1.]],\n",
              "\n",
              "       [[1., 1., 1.],\n",
              "        [1., 1., 1.]]])"
            ]
          },
          "metadata": {},
          "execution_count": 215
        }
      ]
    },
    {
      "cell_type": "code",
      "metadata": {
        "colab": {
          "base_uri": "https://localhost:8080/"
        },
        "id": "HftaojPRQR-0",
        "outputId": "2c547143-a2f5-404e-df2b-07e415e6fc9d"
      },
      "source": [
        "# Birim matris\n",
        "np.eye(5)"
      ],
      "execution_count": null,
      "outputs": [
        {
          "output_type": "execute_result",
          "data": {
            "text/plain": [
              "array([[1., 0., 0., 0., 0.],\n",
              "       [0., 1., 0., 0., 0.],\n",
              "       [0., 0., 1., 0., 0.],\n",
              "       [0., 0., 0., 1., 0.],\n",
              "       [0., 0., 0., 0., 1.]])"
            ]
          },
          "metadata": {},
          "execution_count": 217
        }
      ]
    },
    {
      "cell_type": "code",
      "metadata": {
        "colab": {
          "base_uri": "https://localhost:8080/"
        },
        "id": "G4VR7XWKQW2q",
        "outputId": "6467cdb6-c518-4360-965c-b7d69ff78e4b"
      },
      "source": [
        "# Rasgele vektör\n",
        "np.random.rand(5)"
      ],
      "execution_count": null,
      "outputs": [
        {
          "output_type": "execute_result",
          "data": {
            "text/plain": [
              "array([0.55931288, 0.19003659, 0.95666664, 0.01144833, 0.8885526 ])"
            ]
          },
          "metadata": {},
          "execution_count": 218
        }
      ]
    },
    {
      "cell_type": "code",
      "metadata": {
        "colab": {
          "base_uri": "https://localhost:8080/"
        },
        "id": "3AorZvz8QdRz",
        "outputId": "d9307dad-9703-40e3-a9d3-f4877e4e3d12"
      },
      "source": [
        "# Rasgele matris\n",
        "np.random.randn(2, 3) # rand vs. randn - Fark ne?"
      ],
      "execution_count": null,
      "outputs": [
        {
          "output_type": "execute_result",
          "data": {
            "text/plain": [
              "array([[-0.73613668,  0.51055154, -2.26940583],\n",
              "       [-0.71777647,  1.05891478, -0.38444305]])"
            ]
          },
          "metadata": {},
          "execution_count": 219
        }
      ]
    },
    {
      "cell_type": "code",
      "metadata": {
        "colab": {
          "base_uri": "https://localhost:8080/"
        },
        "id": "OX3LCxc3QoRZ",
        "outputId": "a56871f3-4d46-4ddb-f76c-58ea606fa084"
      },
      "source": [
        "# Sabit değer\n",
        "np.full([2, 3], 42)"
      ],
      "execution_count": null,
      "outputs": [
        {
          "output_type": "execute_result",
          "data": {
            "text/plain": [
              "array([[42, 42, 42],\n",
              "       [42, 42, 42]])"
            ]
          },
          "metadata": {},
          "execution_count": 220
        }
      ]
    },
    {
      "cell_type": "code",
      "metadata": {
        "colab": {
          "base_uri": "https://localhost:8080/"
        },
        "id": "G62bINBTQtxL",
        "outputId": "7c53630e-3214-455e-c817-202a29d46683"
      },
      "source": [
        "# Başlangıç, bitiş ve adım içeren aralık\n",
        "np.arange(10, 90, 3)"
      ],
      "execution_count": null,
      "outputs": [
        {
          "output_type": "execute_result",
          "data": {
            "text/plain": [
              "array([10, 13, 16, 19, 22, 25, 28, 31, 34, 37, 40, 43, 46, 49, 52, 55, 58,\n",
              "       61, 64, 67, 70, 73, 76, 79, 82, 85, 88])"
            ]
          },
          "metadata": {},
          "execution_count": 221
        }
      ]
    },
    {
      "cell_type": "code",
      "metadata": {
        "colab": {
          "base_uri": "https://localhost:8080/"
        },
        "id": "e_kI7F1KRFOC",
        "outputId": "8987fe02-abca-45c8-8fc9-89dbf242103e"
      },
      "source": [
        "# Bir aralıkta eşit aralıklı sayılar\n",
        "np.linspace(3, 27, 9)"
      ],
      "execution_count": null,
      "outputs": [
        {
          "output_type": "execute_result",
          "data": {
            "text/plain": [
              "array([ 3.,  6.,  9., 12., 15., 18., 21., 24., 27.])"
            ]
          },
          "metadata": {},
          "execution_count": 224
        }
      ]
    },
    {
      "cell_type": "markdown",
      "metadata": {
        "id": "h1vd073pRNm0"
      },
      "source": [
        "## Gözden Geçirme Soruları\n",
        "\n",
        "Bu notebook'da ele alınan konuları ne kadar anladığınızı test etmek için aşağıdaki soruları yanıtlamayı deneyin:\n",
        "\n",
        "1. Vektör nedir?\n",
        "2. Bir Python listesi kullanarak vektörleri nasıl temsil edersiniz? Örnek veriniz.\n",
        "3. İki vektörün nokta çarpımı (dot product) nedir?\n",
        "4. İki vektörün nokta çarpımını hesaplayan bir fonksiyon yazın.\n",
        "5. Numpy nedir?\n",
        "6. Numpy'ı nasıl yükleriz?\n",
        "7. `numpy` modülünü nasıl içe aktarırız (import ederiz)?\n",
        "8. Takma adı olan bir modülü içe aktarmak (import etmek) ne anlama gelir? Örnek veriniz.\n",
        "9. `numpy` için kullanılan takma ad nedir?\n",
        "10. Numpy dizisi nedir?\n",
        "11. Numpy dizisi nasıl oluşturulur? Örnek veriniz.\n",
        "12. Numpy dizilerinin türü nedir?\n",
        "13. Numpy dizisinin elemanlarına nasıl erişiriz?\n",
        "14. Numpy kullanarak iki vektörün nokta çarpımını (dot product) nasıl hesaplarız?\n",
        "15. Farklı boyutlara sahip iki vektörün nokta çarpımını (dot product) hesaplamaya çalışırsak ne olur?\n",
        "16. İki Numpy dizisinin eleman bazında çarpımını nasıl hesaplarız?\n",
        "17. Bir Numpy dizisindeki tüm elemanların toplamını nasıl hesaplarız?\n",
        "18. Sayısal veriler üzerinde çalışırken Python listeleri (lists) yerine Numpy dizilerini (arrays) kullanmanın faydaları nelerdir?\n",
        "19. Numpy dizi işlemleri, Python fonksiyonlarına ve döngülerine (loops) kıyasla neden daha iyi performans gösteriyor?\n",
        "20. Bir örnek kullanarak Numpy dizi işlemleri ile Python döngüleri arasındaki performans farkını gösterin.\n",
        "21. Çok boyutlu Numpy dizileri nelerdir?\n",
        "22. İki, üç ve dört boyutlu Numpy dizilerinin oluşturulmasını gösterelim.\n",
        "23. Bir Numpy dizisindeki boyutların sayısını ve her bir boyut boyunca uzunluğu nasıl inceleriz?\n",
        "24. Numpy dizisinin elemanları farklı veri tiplerine sahip olabilir mi?\n",
        "25. Numpy dizisinin elemanlarının veri türünü nasıl kontrol ederiz?\n",
        "26. Numpy dizisinin veri türü nedir?\n",
        "27. Bir matris ve bir 2 boyutlu Numpy dizisi arasındaki fark nedir?\n",
        "28. Numpy kullanarak matris çarpımını nasıl gerçekleştiririz?\n",
        "29. Numpy'da kullanılan `@` operatörü nedir?\n",
        "30. CSV dosya formatı nedir?\n",
        "31. Numpy kullanarak bir CSV dosyasındaki verileri nasıl okuruz?\n",
        "32. İki Numpy dizisini (arrays) nasıl birleştiririz?\n",
        "33. `np.concatenate`'in `axis` argümanının amacı nedir?\n",
        "34. Birleştirme için iki Numpy dizisi ne zaman uyumludur?\n",
        "35. Birleştirilebilen iki Numpy dizisine bir örnek verelim.\n",
        "36. Birleştirilemeyen iki Numpy dizisine bir örnek verelim.\n",
        "37. `np.reshape` fonksiyonunun amacı nedir?\n",
        "38. Bir Numpy dizisini “yeniden şekillendirmek” (reshape) ne anlama gelir?\n",
        "39. Bir CSV dosyasına numpy dizisini nasıl yazarız?\n",
        "40. Matematiksel işlemleri gerçekleştirmek için Numpy fonksiyonlarına bazı örnekler verelim.\n",
        "41. Dizi manipülasyonu yapmak için Numpy fonksiyonlarına bazı örnekler verelim.\n",
        "42. Lineer cebir gerçekleştirmek için Numpy fonksiyonlarına bazı örnekler verelim.\n",
        "43. İstatistiksel işlemleri gerçekleştirmek için Numpy fonksiyonlarına bazı örnekler verelim.\n",
        "44. Belirli bir işlem veya kullanım durumu için doğru Numpy fonksiyonunu nasıl buluruz?\n",
        "45. Tüm Numpy dizisi fonksiyonlarının ve işlemlerinin listesini nerede görebiliriz?\n",
        "46. Numpy dizileri tarafından desteklenen aritmetik işlemler nelerdir? Örneklerle anlatalım.\n",
        "47. Dizi yayını (array broadcasting) nedir? Nasıl faydalıdır? Bir örnekle açıklayalım.\n",
        "48. Yayına (broadcasting) uygun dizilere birkaç örnek verelim.\n",
        "49. Yayına (broadcasting) uygun olmayan dizilere bazı örnekler verelim.\n",
        "50. Numpy dizileri tarafından desteklenen karşılaştırma işlemleri nelerdir? Örneklerle anlatalım.\n",
        "51. Bir Numpy dizisinden belirli bir alt diziye veya dilime nasıl erişiriz?\n",
        "52. Çok boyutlu Numpy dizilerinde dizi indeksleme (array indexing) ve dilimlemeyi (slicing) bazı örneklerle gösterelim.\n",
        "53. Tamamen 0'lar içeren belirli bir şekle sahip Numpy dizisini nasıl oluştururuz?\n",
        "54. Tamamen 1'ler içeren belirli bir şekle sahip bir Numpy dizisini nasıl oluştururuz?\n",
        "55. Belirli bir şekle sahip birim matris nasıl oluştururuz?\n",
        "56. Belirli bir uzunlukta olan rastgele bir vektörü nasıl oluştururuz?\n",
        "57. Her eleman için sabit bir değere sahip belirli bir şekilde olan Numpy dizisini nasıl oluştururuz?\n",
        "58. Rastgele başlatılmış elemanlar içeren belirli bir şekle sahip bir Numpy dizisini nasıl oluştururuz?\n",
        "59. `np.random.rand` ile `np.random.randn` arasındaki fark nedir? Örneklerle anlatalım.\n",
        "60. `np.arange` ile `np.linspace` arasındaki fark nedir? Örneklerle anlatalım.\n"
      ]
    }
  ]
}