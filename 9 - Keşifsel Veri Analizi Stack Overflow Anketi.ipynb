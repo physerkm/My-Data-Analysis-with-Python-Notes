{
  "cells": [
    {
      "cell_type": "markdown",
      "metadata": {
        "id": "er9Eg7DGlx_L"
      },
      "source": [
        "# Python Kullanarak Keşifsel Veri Analizi - Bir Örnek Çalışma\n",
        "\n",
        "*Stack Overflow Yıllık Geliştirici Anketi 2020'den alınan yanıtları analiz etme*\n",
        "\n",
        "![](https://i.imgur.com/qXhHKqv.png)\n",
        "\n",
        "### Python ile Veri Analizi Eğitiminin 9. Kısmı\n",
        "\n",
        "Bu eğitim serisi, Python programlama dilini kullanarak programlama ve veri analizine yeni başlayanlara uygun bir giriş niteliğindedir. Bu eğitimler, pratik ve kodlama odaklı bir yaklaşım benimsiyor. Materyalleri öğrenmenin en iyi yolu, kodu yürütmek ve kendimizin denemesidir. Serinin tamamına buradan göz atabiliriz: \n",
        "\n",
        "1. Python ile İlk Adımlar\n",
        "2. Değişkenler ve Veri Türleri için Hızlı Bir Tur\n",
        "3. Koşullu İfadeler ve Döngüler Kullanarak Dallanma\n",
        "4. Fonksiyonları Kullanarak Yeniden Kullanılabilir Kod Yazma\n",
        "5. Dosyalardan Okuma ve Dosyalara Yazma\n",
        "6. Python ve Numpy ile Sayısal Hesaplama\n",
        "7. Pandas Kullanarak Tablo Verilerini Analiz Etme\n",
        "8. Matplotlib ve Seaborn kullanarak Veri Görselleştirme\n",
        "9. Keşifsel Veri Analizi - Bir Vaka Çalışması\n"
      ]
    },
    {
      "cell_type": "markdown",
      "metadata": {
        "id": "vdK0Yucwlx_c"
      },
      "source": [
        "Bu eğitimde aşağıdaki konular ele alınmaktadır:\n",
        "\n",
        "- Bir veri seti seçme ve indirme\n",
        "- Veri hazırlama ve temizleme\n",
        "- Keşif analizi ve görselleştirme\n",
        "- İlginç sorular sorma ve cevaplama\n",
        "- Çıkarımları özetleme ve sonuç çıkarma"
      ]
    },
    {
      "cell_type": "markdown",
      "metadata": {
        "id": "Faz5cbB3lx_j"
      },
      "source": [
        "## Giriş\n",
        "\n",
        "Bu eğitimde, StackOverflow geliştirici (developer) anketi veri kümesini analiz edeceğiz. Veri kümesi, StackOverflow tarafından yürütülen yıllık bir ankete verilen yanıtları içerir. Ham verileri (raw data) ve resmi analizi burada bulabiliriz: https://insights.stackoverflow.com/survey.\n",
        "\n",
        "Veri kümesini Jupyter'e ya da Google Colab'a almak için birkaç seçenek vardır:\n",
        "\n",
        "- CSV'yi manuel olarak indirin ve Jupyter'ın ya da Google Colab'ın GUI'si aracılığıyla yükleyelim.\n",
        "- Ham bir URL'den CSV dosyalarını indirmek için `urllib.request`'ten `urlretrieve` fonksiyonunu kullanalım. \n",
        "- Bir yardımcı kütüphane kullanalım, örneğin, [`opendatasets`](https://github.com/JovianML/opendatasets), derlenmiş veri kümeleri koleksiyonunu içerir ve doğrudan indirme için bir yardımcı fonksiyon sağlar.\n",
        "\n",
        "Dosyaları indirmek için `opendatasets` yardımcı kütüphanesini kullanacağız."
      ]
    },
    {
      "cell_type": "code",
      "source": [
        "!pip install opendatasets"
      ],
      "metadata": {
        "colab": {
          "base_uri": "https://localhost:8080/"
        },
        "id": "nzf_BM9dufMd",
        "outputId": "44693507-8637-47fe-cd5b-2ee8bef7eb47"
      },
      "execution_count": null,
      "outputs": [
        {
          "output_type": "stream",
          "name": "stdout",
          "text": [
            "Looking in indexes: https://pypi.org/simple, https://us-python.pkg.dev/colab-wheels/public/simple/\n",
            "Collecting opendatasets\n",
            "  Downloading opendatasets-0.1.22-py3-none-any.whl (15 kB)\n",
            "Requirement already satisfied: kaggle in /usr/local/lib/python3.7/dist-packages (from opendatasets) (1.5.12)\n",
            "Requirement already satisfied: click in /usr/local/lib/python3.7/dist-packages (from opendatasets) (7.1.2)\n",
            "Requirement already satisfied: tqdm in /usr/local/lib/python3.7/dist-packages (from opendatasets) (4.64.0)\n",
            "Requirement already satisfied: requests in /usr/local/lib/python3.7/dist-packages (from kaggle->opendatasets) (2.23.0)\n",
            "Requirement already satisfied: six>=1.10 in /usr/local/lib/python3.7/dist-packages (from kaggle->opendatasets) (1.15.0)\n",
            "Requirement already satisfied: urllib3 in /usr/local/lib/python3.7/dist-packages (from kaggle->opendatasets) (1.24.3)\n",
            "Requirement already satisfied: python-slugify in /usr/local/lib/python3.7/dist-packages (from kaggle->opendatasets) (6.1.2)\n",
            "Requirement already satisfied: certifi in /usr/local/lib/python3.7/dist-packages (from kaggle->opendatasets) (2022.5.18.1)\n",
            "Requirement already satisfied: python-dateutil in /usr/local/lib/python3.7/dist-packages (from kaggle->opendatasets) (2.8.2)\n",
            "Requirement already satisfied: text-unidecode>=1.3 in /usr/local/lib/python3.7/dist-packages (from python-slugify->kaggle->opendatasets) (1.3)\n",
            "Requirement already satisfied: idna<3,>=2.5 in /usr/local/lib/python3.7/dist-packages (from requests->kaggle->opendatasets) (2.10)\n",
            "Requirement already satisfied: chardet<4,>=3.0.2 in /usr/local/lib/python3.7/dist-packages (from requests->kaggle->opendatasets) (3.0.4)\n",
            "Installing collected packages: opendatasets\n",
            "Successfully installed opendatasets-0.1.22\n"
          ]
        }
      ]
    },
    {
      "cell_type": "code",
      "execution_count": null,
      "metadata": {
        "id": "MpnGNmj-lx_m"
      },
      "outputs": [],
      "source": [
        "import opendatasets as od"
      ]
    },
    {
      "cell_type": "code",
      "execution_count": null,
      "metadata": {
        "colab": {
          "base_uri": "https://localhost:8080/"
        },
        "id": "9azeH2JMlx_o",
        "outputId": "b91945fb-de21-48be-f91d-de0687c27b38"
      },
      "outputs": [
        {
          "output_type": "stream",
          "name": "stdout",
          "text": [
            "Downloading https://raw.githubusercontent.com/JovianML/opendatasets/master/data/stackoverflow-developer-survey-2020/survey_results_public.csv to ./stackoverflow-developer-survey-2020/survey_results_public.csv\n"
          ]
        },
        {
          "output_type": "stream",
          "name": "stderr",
          "text": [
            "94609408it [00:03, 23977599.66it/s]                               \n"
          ]
        },
        {
          "output_type": "stream",
          "name": "stdout",
          "text": [
            "Downloading https://raw.githubusercontent.com/JovianML/opendatasets/master/data/stackoverflow-developer-survey-2020/survey_results_schema.csv to ./stackoverflow-developer-survey-2020/survey_results_schema.csv\n"
          ]
        },
        {
          "output_type": "stream",
          "name": "stderr",
          "text": [
            "16384it [00:00, 85118.07it/s]           \n"
          ]
        },
        {
          "output_type": "stream",
          "name": "stdout",
          "text": [
            "Downloading https://raw.githubusercontent.com/JovianML/opendatasets/master/data/stackoverflow-developer-survey-2020/README.txt to ./stackoverflow-developer-survey-2020/README.txt\n"
          ]
        },
        {
          "output_type": "stream",
          "name": "stderr",
          "text": [
            "8192it [00:00, 48015.89it/s]            \n"
          ]
        }
      ],
      "source": [
        "od.download('stackoverflow-developer-survey-2020')"
      ]
    },
    {
      "cell_type": "markdown",
      "metadata": {
        "id": "BUPeyHeOlx_r"
      },
      "source": [
        "Veri kümesinin `stackoverflow-developer-survey-2020` dizinine indirildiğini doğrulayalım ve veri kümesindeki dosyaların listesini alalım."
      ]
    },
    {
      "cell_type": "code",
      "execution_count": null,
      "metadata": {
        "id": "-syjJLCSlx_t"
      },
      "outputs": [],
      "source": [
        "import os"
      ]
    },
    {
      "cell_type": "code",
      "execution_count": null,
      "metadata": {
        "scrolled": true,
        "colab": {
          "base_uri": "https://localhost:8080/"
        },
        "id": "lmJoNk84lx_u",
        "outputId": "7147e2e1-688b-4783-ceee-35cd94453cfb"
      },
      "outputs": [
        {
          "output_type": "execute_result",
          "data": {
            "text/plain": [
              "['README.txt', 'survey_results_public.csv', 'survey_results_schema.csv']"
            ]
          },
          "metadata": {},
          "execution_count": 5
        }
      ],
      "source": [
        "os.listdir('stackoverflow-developer-survey-2020')"
      ]
    },
    {
      "cell_type": "markdown",
      "metadata": {
        "id": "W762zRrZlx_w"
      },
      "source": [
        "Jupyter ya da Google Colab'da \"Dosya\" > \"Aç\" menü seçeneğini kullanarak indirilen dosyalar arasında geçiş yapabiliriz. Veri kümesi üç dosya içeriyor gibi görünüyor:\n",
        "\n",
        "- `README.txt` - Veri kümesi hakkında bilgi\n",
        "- `survey_results_schema.csv` - Soruların listesi ve her soru için kısa kodlar\n",
        "- `survey_results_public.csv` - Sorulara verilen yanıtların tam listesi\n",
        "\n",
        "Pandas kütüphanesini kullanarak CSV dosyalarını yükleyelim. Analize hazır bir veri çerçevesi hazırlamak için temizleyebileceğimiz, filtreleyebileceğimiz ve değiştirebileceğimiz işlenmemiş veriler olduğunu belirtmek için veri çerçevesi için `survey_raw_df` adını kullanacağız."
      ]
    },
    {
      "cell_type": "code",
      "execution_count": null,
      "metadata": {
        "id": "HJCE-fNClx_x"
      },
      "outputs": [],
      "source": [
        "import pandas as pd"
      ]
    },
    {
      "cell_type": "code",
      "execution_count": null,
      "metadata": {
        "id": "pMaMYctMlx_y"
      },
      "outputs": [],
      "source": [
        "anket_raw_df = pd.read_csv('stackoverflow-developer-survey-2020/survey_results_public.csv')"
      ]
    },
    {
      "cell_type": "code",
      "execution_count": null,
      "metadata": {
        "colab": {
          "base_uri": "https://localhost:8080/",
          "height": 956
        },
        "id": "0PqA3_yilx_z",
        "outputId": "4afc4d22-b478-4eec-e1e2-bd18b0150e4f"
      },
      "outputs": [
        {
          "output_type": "execute_result",
          "data": {
            "text/plain": [
              "       Respondent                                         MainBranch Hobbyist  \\\n",
              "0               1                     I am a developer by profession      Yes   \n",
              "1               2                     I am a developer by profession       No   \n",
              "2               3                        I code primarily as a hobby      Yes   \n",
              "3               4                     I am a developer by profession      Yes   \n",
              "4               5  I used to be a developer by profession, but no...      Yes   \n",
              "...           ...                                                ...      ...   \n",
              "64456       64858                                                NaN      Yes   \n",
              "64457       64867                                                NaN      Yes   \n",
              "64458       64898                                                NaN      Yes   \n",
              "64459       64925                                                NaN      Yes   \n",
              "64460       65112                                                NaN      Yes   \n",
              "\n",
              "        Age Age1stCode CompFreq  CompTotal  ConvertedComp             Country  \\\n",
              "0       NaN         13  Monthly        NaN            NaN             Germany   \n",
              "1       NaN         19      NaN        NaN            NaN      United Kingdom   \n",
              "2       NaN         15      NaN        NaN            NaN  Russian Federation   \n",
              "3      25.0         18      NaN        NaN            NaN             Albania   \n",
              "4      31.0         16      NaN        NaN            NaN       United States   \n",
              "...     ...        ...      ...        ...            ...                 ...   \n",
              "64456   NaN         16      NaN        NaN            NaN       United States   \n",
              "64457   NaN        NaN      NaN        NaN            NaN             Morocco   \n",
              "64458   NaN        NaN      NaN        NaN            NaN            Viet Nam   \n",
              "64459   NaN        NaN      NaN        NaN            NaN              Poland   \n",
              "64460   NaN        NaN      NaN        NaN            NaN               Spain   \n",
              "\n",
              "         CurrencyDesc  ...                  SurveyEase           SurveyLength  \\\n",
              "0       European Euro  ...  Neither easy nor difficult  Appropriate in length   \n",
              "1      Pound sterling  ...                         NaN                    NaN   \n",
              "2                 NaN  ...  Neither easy nor difficult  Appropriate in length   \n",
              "3        Albanian lek  ...                         NaN                    NaN   \n",
              "4                 NaN  ...                        Easy              Too short   \n",
              "...               ...  ...                         ...                    ...   \n",
              "64456             NaN  ...                         NaN                    NaN   \n",
              "64457             NaN  ...                         NaN                    NaN   \n",
              "64458             NaN  ...                         NaN                    NaN   \n",
              "64459             NaN  ...                         NaN                    NaN   \n",
              "64460             NaN  ...                         NaN                    NaN   \n",
              "\n",
              "      Trans                                     UndergradMajor  \\\n",
              "0        No  Computer science, computer engineering, or sof...   \n",
              "1       NaN  Computer science, computer engineering, or sof...   \n",
              "2       NaN                                                NaN   \n",
              "3        No  Computer science, computer engineering, or sof...   \n",
              "4        No  Computer science, computer engineering, or sof...   \n",
              "...     ...                                                ...   \n",
              "64456   NaN  Computer science, computer engineering, or sof...   \n",
              "64457   NaN                                                NaN   \n",
              "64458   NaN                                                NaN   \n",
              "64459   NaN                                                NaN   \n",
              "64460   NaN  Computer science, computer engineering, or sof...   \n",
              "\n",
              "            WebframeDesireNextYear                      WebframeWorkedWith  \\\n",
              "0                     ASP.NET Core                    ASP.NET;ASP.NET Core   \n",
              "1                              NaN                                     NaN   \n",
              "2                              NaN                                     NaN   \n",
              "3                              NaN                                     NaN   \n",
              "4             Django;Ruby on Rails                           Ruby on Rails   \n",
              "...                            ...                                     ...   \n",
              "64456                          NaN                                     NaN   \n",
              "64457                          NaN                                     NaN   \n",
              "64458                          NaN                                     NaN   \n",
              "64459  Angular;Angular.js;React.js                                     NaN   \n",
              "64460          ASP.NET Core;jQuery  Angular;Angular.js;ASP.NET Core;jQuery   \n",
              "\n",
              "                                  WelcomeChange WorkWeekHrs YearsCode  \\\n",
              "0       Just as welcome now as I felt last year        50.0        36   \n",
              "1      Somewhat more welcome now than last year         NaN         7   \n",
              "2      Somewhat more welcome now than last year         NaN         4   \n",
              "3      Somewhat less welcome now than last year        40.0         7   \n",
              "4       Just as welcome now as I felt last year         NaN        15   \n",
              "...                                         ...         ...       ...   \n",
              "64456                                       NaN         NaN        10   \n",
              "64457                                       NaN         NaN       NaN   \n",
              "64458                                       NaN         NaN       NaN   \n",
              "64459                                       NaN         NaN       NaN   \n",
              "64460                                       NaN         NaN       NaN   \n",
              "\n",
              "           YearsCodePro  \n",
              "0                    27  \n",
              "1                     4  \n",
              "2                   NaN  \n",
              "3                     4  \n",
              "4                     8  \n",
              "...                 ...  \n",
              "64456  Less than 1 year  \n",
              "64457               NaN  \n",
              "64458               NaN  \n",
              "64459               NaN  \n",
              "64460               NaN  \n",
              "\n",
              "[64461 rows x 61 columns]"
            ],
            "text/html": [
              "\n",
              "  <div id=\"df-a1a7bcdc-e473-4c2a-9a52-02f2dc7f124e\">\n",
              "    <div class=\"colab-df-container\">\n",
              "      <div>\n",
              "<style scoped>\n",
              "    .dataframe tbody tr th:only-of-type {\n",
              "        vertical-align: middle;\n",
              "    }\n",
              "\n",
              "    .dataframe tbody tr th {\n",
              "        vertical-align: top;\n",
              "    }\n",
              "\n",
              "    .dataframe thead th {\n",
              "        text-align: right;\n",
              "    }\n",
              "</style>\n",
              "<table border=\"1\" class=\"dataframe\">\n",
              "  <thead>\n",
              "    <tr style=\"text-align: right;\">\n",
              "      <th></th>\n",
              "      <th>Respondent</th>\n",
              "      <th>MainBranch</th>\n",
              "      <th>Hobbyist</th>\n",
              "      <th>Age</th>\n",
              "      <th>Age1stCode</th>\n",
              "      <th>CompFreq</th>\n",
              "      <th>CompTotal</th>\n",
              "      <th>ConvertedComp</th>\n",
              "      <th>Country</th>\n",
              "      <th>CurrencyDesc</th>\n",
              "      <th>...</th>\n",
              "      <th>SurveyEase</th>\n",
              "      <th>SurveyLength</th>\n",
              "      <th>Trans</th>\n",
              "      <th>UndergradMajor</th>\n",
              "      <th>WebframeDesireNextYear</th>\n",
              "      <th>WebframeWorkedWith</th>\n",
              "      <th>WelcomeChange</th>\n",
              "      <th>WorkWeekHrs</th>\n",
              "      <th>YearsCode</th>\n",
              "      <th>YearsCodePro</th>\n",
              "    </tr>\n",
              "  </thead>\n",
              "  <tbody>\n",
              "    <tr>\n",
              "      <th>0</th>\n",
              "      <td>1</td>\n",
              "      <td>I am a developer by profession</td>\n",
              "      <td>Yes</td>\n",
              "      <td>NaN</td>\n",
              "      <td>13</td>\n",
              "      <td>Monthly</td>\n",
              "      <td>NaN</td>\n",
              "      <td>NaN</td>\n",
              "      <td>Germany</td>\n",
              "      <td>European Euro</td>\n",
              "      <td>...</td>\n",
              "      <td>Neither easy nor difficult</td>\n",
              "      <td>Appropriate in length</td>\n",
              "      <td>No</td>\n",
              "      <td>Computer science, computer engineering, or sof...</td>\n",
              "      <td>ASP.NET Core</td>\n",
              "      <td>ASP.NET;ASP.NET Core</td>\n",
              "      <td>Just as welcome now as I felt last year</td>\n",
              "      <td>50.0</td>\n",
              "      <td>36</td>\n",
              "      <td>27</td>\n",
              "    </tr>\n",
              "    <tr>\n",
              "      <th>1</th>\n",
              "      <td>2</td>\n",
              "      <td>I am a developer by profession</td>\n",
              "      <td>No</td>\n",
              "      <td>NaN</td>\n",
              "      <td>19</td>\n",
              "      <td>NaN</td>\n",
              "      <td>NaN</td>\n",
              "      <td>NaN</td>\n",
              "      <td>United Kingdom</td>\n",
              "      <td>Pound sterling</td>\n",
              "      <td>...</td>\n",
              "      <td>NaN</td>\n",
              "      <td>NaN</td>\n",
              "      <td>NaN</td>\n",
              "      <td>Computer science, computer engineering, or sof...</td>\n",
              "      <td>NaN</td>\n",
              "      <td>NaN</td>\n",
              "      <td>Somewhat more welcome now than last year</td>\n",
              "      <td>NaN</td>\n",
              "      <td>7</td>\n",
              "      <td>4</td>\n",
              "    </tr>\n",
              "    <tr>\n",
              "      <th>2</th>\n",
              "      <td>3</td>\n",
              "      <td>I code primarily as a hobby</td>\n",
              "      <td>Yes</td>\n",
              "      <td>NaN</td>\n",
              "      <td>15</td>\n",
              "      <td>NaN</td>\n",
              "      <td>NaN</td>\n",
              "      <td>NaN</td>\n",
              "      <td>Russian Federation</td>\n",
              "      <td>NaN</td>\n",
              "      <td>...</td>\n",
              "      <td>Neither easy nor difficult</td>\n",
              "      <td>Appropriate in length</td>\n",
              "      <td>NaN</td>\n",
              "      <td>NaN</td>\n",
              "      <td>NaN</td>\n",
              "      <td>NaN</td>\n",
              "      <td>Somewhat more welcome now than last year</td>\n",
              "      <td>NaN</td>\n",
              "      <td>4</td>\n",
              "      <td>NaN</td>\n",
              "    </tr>\n",
              "    <tr>\n",
              "      <th>3</th>\n",
              "      <td>4</td>\n",
              "      <td>I am a developer by profession</td>\n",
              "      <td>Yes</td>\n",
              "      <td>25.0</td>\n",
              "      <td>18</td>\n",
              "      <td>NaN</td>\n",
              "      <td>NaN</td>\n",
              "      <td>NaN</td>\n",
              "      <td>Albania</td>\n",
              "      <td>Albanian lek</td>\n",
              "      <td>...</td>\n",
              "      <td>NaN</td>\n",
              "      <td>NaN</td>\n",
              "      <td>No</td>\n",
              "      <td>Computer science, computer engineering, or sof...</td>\n",
              "      <td>NaN</td>\n",
              "      <td>NaN</td>\n",
              "      <td>Somewhat less welcome now than last year</td>\n",
              "      <td>40.0</td>\n",
              "      <td>7</td>\n",
              "      <td>4</td>\n",
              "    </tr>\n",
              "    <tr>\n",
              "      <th>4</th>\n",
              "      <td>5</td>\n",
              "      <td>I used to be a developer by profession, but no...</td>\n",
              "      <td>Yes</td>\n",
              "      <td>31.0</td>\n",
              "      <td>16</td>\n",
              "      <td>NaN</td>\n",
              "      <td>NaN</td>\n",
              "      <td>NaN</td>\n",
              "      <td>United States</td>\n",
              "      <td>NaN</td>\n",
              "      <td>...</td>\n",
              "      <td>Easy</td>\n",
              "      <td>Too short</td>\n",
              "      <td>No</td>\n",
              "      <td>Computer science, computer engineering, or sof...</td>\n",
              "      <td>Django;Ruby on Rails</td>\n",
              "      <td>Ruby on Rails</td>\n",
              "      <td>Just as welcome now as I felt last year</td>\n",
              "      <td>NaN</td>\n",
              "      <td>15</td>\n",
              "      <td>8</td>\n",
              "    </tr>\n",
              "    <tr>\n",
              "      <th>...</th>\n",
              "      <td>...</td>\n",
              "      <td>...</td>\n",
              "      <td>...</td>\n",
              "      <td>...</td>\n",
              "      <td>...</td>\n",
              "      <td>...</td>\n",
              "      <td>...</td>\n",
              "      <td>...</td>\n",
              "      <td>...</td>\n",
              "      <td>...</td>\n",
              "      <td>...</td>\n",
              "      <td>...</td>\n",
              "      <td>...</td>\n",
              "      <td>...</td>\n",
              "      <td>...</td>\n",
              "      <td>...</td>\n",
              "      <td>...</td>\n",
              "      <td>...</td>\n",
              "      <td>...</td>\n",
              "      <td>...</td>\n",
              "      <td>...</td>\n",
              "    </tr>\n",
              "    <tr>\n",
              "      <th>64456</th>\n",
              "      <td>64858</td>\n",
              "      <td>NaN</td>\n",
              "      <td>Yes</td>\n",
              "      <td>NaN</td>\n",
              "      <td>16</td>\n",
              "      <td>NaN</td>\n",
              "      <td>NaN</td>\n",
              "      <td>NaN</td>\n",
              "      <td>United States</td>\n",
              "      <td>NaN</td>\n",
              "      <td>...</td>\n",
              "      <td>NaN</td>\n",
              "      <td>NaN</td>\n",
              "      <td>NaN</td>\n",
              "      <td>Computer science, computer engineering, or sof...</td>\n",
              "      <td>NaN</td>\n",
              "      <td>NaN</td>\n",
              "      <td>NaN</td>\n",
              "      <td>NaN</td>\n",
              "      <td>10</td>\n",
              "      <td>Less than 1 year</td>\n",
              "    </tr>\n",
              "    <tr>\n",
              "      <th>64457</th>\n",
              "      <td>64867</td>\n",
              "      <td>NaN</td>\n",
              "      <td>Yes</td>\n",
              "      <td>NaN</td>\n",
              "      <td>NaN</td>\n",
              "      <td>NaN</td>\n",
              "      <td>NaN</td>\n",
              "      <td>NaN</td>\n",
              "      <td>Morocco</td>\n",
              "      <td>NaN</td>\n",
              "      <td>...</td>\n",
              "      <td>NaN</td>\n",
              "      <td>NaN</td>\n",
              "      <td>NaN</td>\n",
              "      <td>NaN</td>\n",
              "      <td>NaN</td>\n",
              "      <td>NaN</td>\n",
              "      <td>NaN</td>\n",
              "      <td>NaN</td>\n",
              "      <td>NaN</td>\n",
              "      <td>NaN</td>\n",
              "    </tr>\n",
              "    <tr>\n",
              "      <th>64458</th>\n",
              "      <td>64898</td>\n",
              "      <td>NaN</td>\n",
              "      <td>Yes</td>\n",
              "      <td>NaN</td>\n",
              "      <td>NaN</td>\n",
              "      <td>NaN</td>\n",
              "      <td>NaN</td>\n",
              "      <td>NaN</td>\n",
              "      <td>Viet Nam</td>\n",
              "      <td>NaN</td>\n",
              "      <td>...</td>\n",
              "      <td>NaN</td>\n",
              "      <td>NaN</td>\n",
              "      <td>NaN</td>\n",
              "      <td>NaN</td>\n",
              "      <td>NaN</td>\n",
              "      <td>NaN</td>\n",
              "      <td>NaN</td>\n",
              "      <td>NaN</td>\n",
              "      <td>NaN</td>\n",
              "      <td>NaN</td>\n",
              "    </tr>\n",
              "    <tr>\n",
              "      <th>64459</th>\n",
              "      <td>64925</td>\n",
              "      <td>NaN</td>\n",
              "      <td>Yes</td>\n",
              "      <td>NaN</td>\n",
              "      <td>NaN</td>\n",
              "      <td>NaN</td>\n",
              "      <td>NaN</td>\n",
              "      <td>NaN</td>\n",
              "      <td>Poland</td>\n",
              "      <td>NaN</td>\n",
              "      <td>...</td>\n",
              "      <td>NaN</td>\n",
              "      <td>NaN</td>\n",
              "      <td>NaN</td>\n",
              "      <td>NaN</td>\n",
              "      <td>Angular;Angular.js;React.js</td>\n",
              "      <td>NaN</td>\n",
              "      <td>NaN</td>\n",
              "      <td>NaN</td>\n",
              "      <td>NaN</td>\n",
              "      <td>NaN</td>\n",
              "    </tr>\n",
              "    <tr>\n",
              "      <th>64460</th>\n",
              "      <td>65112</td>\n",
              "      <td>NaN</td>\n",
              "      <td>Yes</td>\n",
              "      <td>NaN</td>\n",
              "      <td>NaN</td>\n",
              "      <td>NaN</td>\n",
              "      <td>NaN</td>\n",
              "      <td>NaN</td>\n",
              "      <td>Spain</td>\n",
              "      <td>NaN</td>\n",
              "      <td>...</td>\n",
              "      <td>NaN</td>\n",
              "      <td>NaN</td>\n",
              "      <td>NaN</td>\n",
              "      <td>Computer science, computer engineering, or sof...</td>\n",
              "      <td>ASP.NET Core;jQuery</td>\n",
              "      <td>Angular;Angular.js;ASP.NET Core;jQuery</td>\n",
              "      <td>NaN</td>\n",
              "      <td>NaN</td>\n",
              "      <td>NaN</td>\n",
              "      <td>NaN</td>\n",
              "    </tr>\n",
              "  </tbody>\n",
              "</table>\n",
              "<p>64461 rows × 61 columns</p>\n",
              "</div>\n",
              "      <button class=\"colab-df-convert\" onclick=\"convertToInteractive('df-a1a7bcdc-e473-4c2a-9a52-02f2dc7f124e')\"\n",
              "              title=\"Convert this dataframe to an interactive table.\"\n",
              "              style=\"display:none;\">\n",
              "        \n",
              "  <svg xmlns=\"http://www.w3.org/2000/svg\" height=\"24px\"viewBox=\"0 0 24 24\"\n",
              "       width=\"24px\">\n",
              "    <path d=\"M0 0h24v24H0V0z\" fill=\"none\"/>\n",
              "    <path d=\"M18.56 5.44l.94 2.06.94-2.06 2.06-.94-2.06-.94-.94-2.06-.94 2.06-2.06.94zm-11 1L8.5 8.5l.94-2.06 2.06-.94-2.06-.94L8.5 2.5l-.94 2.06-2.06.94zm10 10l.94 2.06.94-2.06 2.06-.94-2.06-.94-.94-2.06-.94 2.06-2.06.94z\"/><path d=\"M17.41 7.96l-1.37-1.37c-.4-.4-.92-.59-1.43-.59-.52 0-1.04.2-1.43.59L10.3 9.45l-7.72 7.72c-.78.78-.78 2.05 0 2.83L4 21.41c.39.39.9.59 1.41.59.51 0 1.02-.2 1.41-.59l7.78-7.78 2.81-2.81c.8-.78.8-2.07 0-2.86zM5.41 20L4 18.59l7.72-7.72 1.47 1.35L5.41 20z\"/>\n",
              "  </svg>\n",
              "      </button>\n",
              "      \n",
              "  <style>\n",
              "    .colab-df-container {\n",
              "      display:flex;\n",
              "      flex-wrap:wrap;\n",
              "      gap: 12px;\n",
              "    }\n",
              "\n",
              "    .colab-df-convert {\n",
              "      background-color: #E8F0FE;\n",
              "      border: none;\n",
              "      border-radius: 50%;\n",
              "      cursor: pointer;\n",
              "      display: none;\n",
              "      fill: #1967D2;\n",
              "      height: 32px;\n",
              "      padding: 0 0 0 0;\n",
              "      width: 32px;\n",
              "    }\n",
              "\n",
              "    .colab-df-convert:hover {\n",
              "      background-color: #E2EBFA;\n",
              "      box-shadow: 0px 1px 2px rgba(60, 64, 67, 0.3), 0px 1px 3px 1px rgba(60, 64, 67, 0.15);\n",
              "      fill: #174EA6;\n",
              "    }\n",
              "\n",
              "    [theme=dark] .colab-df-convert {\n",
              "      background-color: #3B4455;\n",
              "      fill: #D2E3FC;\n",
              "    }\n",
              "\n",
              "    [theme=dark] .colab-df-convert:hover {\n",
              "      background-color: #434B5C;\n",
              "      box-shadow: 0px 1px 3px 1px rgba(0, 0, 0, 0.15);\n",
              "      filter: drop-shadow(0px 1px 2px rgba(0, 0, 0, 0.3));\n",
              "      fill: #FFFFFF;\n",
              "    }\n",
              "  </style>\n",
              "\n",
              "      <script>\n",
              "        const buttonEl =\n",
              "          document.querySelector('#df-a1a7bcdc-e473-4c2a-9a52-02f2dc7f124e button.colab-df-convert');\n",
              "        buttonEl.style.display =\n",
              "          google.colab.kernel.accessAllowed ? 'block' : 'none';\n",
              "\n",
              "        async function convertToInteractive(key) {\n",
              "          const element = document.querySelector('#df-a1a7bcdc-e473-4c2a-9a52-02f2dc7f124e');\n",
              "          const dataTable =\n",
              "            await google.colab.kernel.invokeFunction('convertToInteractive',\n",
              "                                                     [key], {});\n",
              "          if (!dataTable) return;\n",
              "\n",
              "          const docLinkHtml = 'Like what you see? Visit the ' +\n",
              "            '<a target=\"_blank\" href=https://colab.research.google.com/notebooks/data_table.ipynb>data table notebook</a>'\n",
              "            + ' to learn more about interactive tables.';\n",
              "          element.innerHTML = '';\n",
              "          dataTable['output_type'] = 'display_data';\n",
              "          await google.colab.output.renderOutput(dataTable, element);\n",
              "          const docLink = document.createElement('div');\n",
              "          docLink.innerHTML = docLinkHtml;\n",
              "          element.appendChild(docLink);\n",
              "        }\n",
              "      </script>\n",
              "    </div>\n",
              "  </div>\n",
              "  "
            ]
          },
          "metadata": {},
          "execution_count": 8
        }
      ],
      "source": [
        "anket_raw_df"
      ]
    },
    {
      "cell_type": "markdown",
      "metadata": {
        "id": "6xTiXR1wlx_0"
      },
      "source": [
        "Veri kümesi, (birçok soru isteğe bağlı olsa da) 60 soruya 64.000'den fazla yanıt içerir. Yanıtlar, kişisel olarak tanımlanabilir bilgileri kaldırmak için anonimleştirildi ve her yanıtlayana rastgele bir yanıtlayan kimliği verildi.\n",
        "\n",
        "Veri çerçevesindeki sütunların listesini görelim."
      ]
    },
    {
      "cell_type": "code",
      "execution_count": null,
      "metadata": {
        "colab": {
          "base_uri": "https://localhost:8080/"
        },
        "id": "QENvQTRrlx_1",
        "outputId": "03a157bf-8fc7-45a4-8e0a-7c554ad6c9cb"
      },
      "outputs": [
        {
          "output_type": "execute_result",
          "data": {
            "text/plain": [
              "Index(['Respondent', 'MainBranch', 'Hobbyist', 'Age', 'Age1stCode', 'CompFreq',\n",
              "       'CompTotal', 'ConvertedComp', 'Country', 'CurrencyDesc',\n",
              "       'CurrencySymbol', 'DatabaseDesireNextYear', 'DatabaseWorkedWith',\n",
              "       'DevType', 'EdLevel', 'Employment', 'Ethnicity', 'Gender', 'JobFactors',\n",
              "       'JobSat', 'JobSeek', 'LanguageDesireNextYear', 'LanguageWorkedWith',\n",
              "       'MiscTechDesireNextYear', 'MiscTechWorkedWith',\n",
              "       'NEWCollabToolsDesireNextYear', 'NEWCollabToolsWorkedWith', 'NEWDevOps',\n",
              "       'NEWDevOpsImpt', 'NEWEdImpt', 'NEWJobHunt', 'NEWJobHuntResearch',\n",
              "       'NEWLearn', 'NEWOffTopic', 'NEWOnboardGood', 'NEWOtherComms',\n",
              "       'NEWOvertime', 'NEWPurchaseResearch', 'NEWPurpleLink', 'NEWSOSites',\n",
              "       'NEWStuck', 'OpSys', 'OrgSize', 'PlatformDesireNextYear',\n",
              "       'PlatformWorkedWith', 'PurchaseWhat', 'Sexuality', 'SOAccount',\n",
              "       'SOComm', 'SOPartFreq', 'SOVisitFreq', 'SurveyEase', 'SurveyLength',\n",
              "       'Trans', 'UndergradMajor', 'WebframeDesireNextYear',\n",
              "       'WebframeWorkedWith', 'WelcomeChange', 'WorkWeekHrs', 'YearsCode',\n",
              "       'YearsCodePro'],\n",
              "      dtype='object')"
            ]
          },
          "metadata": {},
          "execution_count": 9
        }
      ],
      "source": [
        "anket_raw_df.columns"
      ]
    },
    {
      "cell_type": "markdown",
      "metadata": {
        "id": "lzL4UQcdlx_2"
      },
      "source": [
        "Sorular için kısa kodların sütun adları olarak kullanıldığı görülüyor.\n",
        "\n",
        "Her sorunun tam metnini görmek için şema dosyasına başvurabiliriz. Şema dosyası yalnızca iki sütun içerir: `Column` ve `QuestionText`. İndeks olarak `Column` ve değer olarak `QuestionText` ile Pandas Series olarak yükleyebiliriz."
      ]
    },
    {
      "cell_type": "code",
      "execution_count": null,
      "metadata": {
        "id": "pE7OCZ2clx_3"
      },
      "outputs": [],
      "source": [
        "schema_fname = 'stackoverflow-developer-survey-2020/survey_results_schema.csv'\n",
        "schema_raw = pd.read_csv(schema_fname, index_col='Column').QuestionText"
      ]
    },
    {
      "cell_type": "code",
      "execution_count": null,
      "metadata": {
        "colab": {
          "base_uri": "https://localhost:8080/"
        },
        "id": "NFNm8T9Hlx_4",
        "outputId": "e1839e1a-cc20-49ee-cdaf-d8b5d205dfa7"
      },
      "outputs": [
        {
          "output_type": "execute_result",
          "data": {
            "text/plain": [
              "Column\n",
              "Respondent            Randomized respondent ID number (not in order ...\n",
              "MainBranch            Which of the following options best describes ...\n",
              "Hobbyist                                        Do you code as a hobby?\n",
              "Age                   What is your age (in years)? If you prefer not...\n",
              "Age1stCode            At what age did you write your first line of c...\n",
              "                                            ...                        \n",
              "WebframeWorkedWith    Which web frameworks have you done extensive d...\n",
              "WelcomeChange         Compared to last year, how welcome do you feel...\n",
              "WorkWeekHrs           On average, how many hours per week do you wor...\n",
              "YearsCode             Including any education, how many years have y...\n",
              "YearsCodePro          NOT including education, how many years have y...\n",
              "Name: QuestionText, Length: 61, dtype: object"
            ]
          },
          "metadata": {},
          "execution_count": 11
        }
      ],
      "source": [
        "schema_raw"
      ]
    },
    {
      "cell_type": "markdown",
      "metadata": {
        "id": "krnKt6U6lx_4"
      },
      "source": [
        "Artık `anket_raw_df` içindeki herhangi bir sütun için tam soru metnini almak için `schema_raw`'ı kullanabiliriz."
      ]
    },
    {
      "cell_type": "code",
      "execution_count": null,
      "metadata": {
        "colab": {
          "base_uri": "https://localhost:8080/",
          "height": 35
        },
        "id": "KDz07Hgelx_5",
        "outputId": "ce120c8e-5938-4f38-df92-cb6f4d00b098"
      },
      "outputs": [
        {
          "output_type": "execute_result",
          "data": {
            "text/plain": [
              "'NOT including education, how many years have you coded professionally (as a part of your work)?'"
            ],
            "application/vnd.google.colaboratory.intrinsic+json": {
              "type": "string"
            }
          },
          "metadata": {},
          "execution_count": 12
        }
      ],
      "source": [
        "schema_raw['YearsCodePro']"
      ]
    },
    {
      "cell_type": "code",
      "source": [
        "schema_raw['Age1stCode']"
      ],
      "metadata": {
        "colab": {
          "base_uri": "https://localhost:8080/",
          "height": 35
        },
        "id": "JPzDO43uPMoL",
        "outputId": "c458fb64-a005-4163-a0db-d43f6c25e08b"
      },
      "execution_count": null,
      "outputs": [
        {
          "output_type": "execute_result",
          "data": {
            "text/plain": [
              "'At what age did you write your first line of code or program? (e.g., webpage, Hello World, Scratch project)'"
            ],
            "application/vnd.google.colaboratory.intrinsic+json": {
              "type": "string"
            }
          },
          "metadata": {},
          "execution_count": 13
        }
      ]
    },
    {
      "cell_type": "code",
      "source": [
        "schema_raw['OrgSize']"
      ],
      "metadata": {
        "colab": {
          "base_uri": "https://localhost:8080/",
          "height": 35
        },
        "id": "rB2fSRYDPav7",
        "outputId": "02855a4f-f2d1-4e24-c3af-9041db5b52f0"
      },
      "execution_count": null,
      "outputs": [
        {
          "output_type": "execute_result",
          "data": {
            "text/plain": [
              "'Approximately how many people are employed by the company or organization you currently work for?'"
            ],
            "application/vnd.google.colaboratory.intrinsic+json": {
              "type": "string"
            }
          },
          "metadata": {},
          "execution_count": 14
        }
      ]
    },
    {
      "cell_type": "markdown",
      "metadata": {
        "id": "AzjXORhglx_6"
      },
      "source": [
        "Şimdi veri setini yükledik. Analizimiz için verileri ön işleme ve temizlemenin bir sonraki adımına geçmeye hazırız."
      ]
    },
    {
      "cell_type": "markdown",
      "metadata": {
        "id": "JuQorYLglx__"
      },
      "source": [
        "## Veri Hazırlama ve Veri Temizleme\n",
        "\n",
        "Anket yanıtları çok sayıda bilgi içerse de, analizimizi aşağıdaki alanlarla sınırlayacağız:\n",
        "\n",
        "- Ankete katılanların ve küresel programlama topluluğunun demografisi\n",
        "- Programlama becerilerinin, deneyimlerinin ve tercihlerinin dağılımı\n",
        "- İstihdamla ilgili bilgiler, tercihler ve görüşler\n",
        "\n",
        "Analizimiz için ilgili verileri içeren bir sütun alt kümesi seçelim."
      ]
    },
    {
      "cell_type": "code",
      "execution_count": null,
      "metadata": {
        "id": "zgGK8aAklx__"
      },
      "outputs": [],
      "source": [
        "secili_sutunlar = [\n",
        "    # Demographics\n",
        "    'Country',\n",
        "    'Age',\n",
        "    'Gender',\n",
        "    'EdLevel',\n",
        "    'UndergradMajor',\n",
        "    # Programming experience\n",
        "    'Hobbyist',\n",
        "    'Age1stCode',\n",
        "    'YearsCode',\n",
        "    'YearsCodePro',\n",
        "    'LanguageWorkedWith',\n",
        "    'LanguageDesireNextYear',\n",
        "    'NEWLearn',\n",
        "    'NEWStuck',\n",
        "    # Employment\n",
        "    'Employment',\n",
        "    'DevType',\n",
        "    'WorkWeekHrs',\n",
        "    'JobSat',\n",
        "    'JobFactors',\n",
        "    'NEWOvertime',\n",
        "    'NEWEdImpt'\n",
        "]"
      ]
    },
    {
      "cell_type": "code",
      "execution_count": null,
      "metadata": {
        "colab": {
          "base_uri": "https://localhost:8080/"
        },
        "id": "p2jg6w77lyAA",
        "outputId": "6072caaf-322b-4077-e771-c3d0dc199c98"
      },
      "outputs": [
        {
          "output_type": "execute_result",
          "data": {
            "text/plain": [
              "20"
            ]
          },
          "metadata": {},
          "execution_count": 16
        }
      ],
      "source": [
        "len(secili_sutunlar)"
      ]
    },
    {
      "cell_type": "markdown",
      "metadata": {
        "id": "8MPrS1RElyAB"
      },
      "source": [
        "Bu sütunlardan verilerin bir kopyasını yeni bir veri çerçevesi `anket_df` içine çıkaralım. Orijinal veri çerçevesini etkilemeden daha fazla değişiklik yapmaya devam edebiliriz."
      ]
    },
    {
      "cell_type": "code",
      "execution_count": null,
      "metadata": {
        "id": "mkZ6BgzilyAB"
      },
      "outputs": [],
      "source": [
        "anket_df = anket_raw_df[secili_sutunlar].copy()"
      ]
    },
    {
      "cell_type": "code",
      "execution_count": null,
      "metadata": {
        "id": "2N-S61AHlyAC"
      },
      "outputs": [],
      "source": [
        "schema = schema_raw[secili_sutunlar]"
      ]
    },
    {
      "cell_type": "markdown",
      "metadata": {
        "id": "IRExyNH-lyAD"
      },
      "source": [
        "Veri çerçevesi hakkında bazı temel bilgileri görelim."
      ]
    },
    {
      "cell_type": "code",
      "execution_count": null,
      "metadata": {
        "colab": {
          "base_uri": "https://localhost:8080/"
        },
        "id": "FNqquZ-mlyAD",
        "outputId": "1d1c60c7-07b7-482b-9991-1b85c852a6c7"
      },
      "outputs": [
        {
          "output_type": "execute_result",
          "data": {
            "text/plain": [
              "(64461, 20)"
            ]
          },
          "metadata": {},
          "execution_count": 19
        }
      ],
      "source": [
        "anket_df.shape"
      ]
    },
    {
      "cell_type": "code",
      "execution_count": null,
      "metadata": {
        "colab": {
          "base_uri": "https://localhost:8080/"
        },
        "id": "Ofv4lKxTlyAE",
        "outputId": "418ee34a-34c9-4a96-c98d-c16e0f9f4c2c"
      },
      "outputs": [
        {
          "output_type": "stream",
          "name": "stdout",
          "text": [
            "<class 'pandas.core.frame.DataFrame'>\n",
            "RangeIndex: 64461 entries, 0 to 64460\n",
            "Data columns (total 20 columns):\n",
            " #   Column                  Non-Null Count  Dtype  \n",
            "---  ------                  --------------  -----  \n",
            " 0   Country                 64072 non-null  object \n",
            " 1   Age                     45446 non-null  float64\n",
            " 2   Gender                  50557 non-null  object \n",
            " 3   EdLevel                 57431 non-null  object \n",
            " 4   UndergradMajor          50995 non-null  object \n",
            " 5   Hobbyist                64416 non-null  object \n",
            " 6   Age1stCode              57900 non-null  object \n",
            " 7   YearsCode               57684 non-null  object \n",
            " 8   YearsCodePro            46349 non-null  object \n",
            " 9   LanguageWorkedWith      57378 non-null  object \n",
            " 10  LanguageDesireNextYear  54113 non-null  object \n",
            " 11  NEWLearn                56156 non-null  object \n",
            " 12  NEWStuck                54983 non-null  object \n",
            " 13  Employment              63854 non-null  object \n",
            " 14  DevType                 49370 non-null  object \n",
            " 15  WorkWeekHrs             41151 non-null  float64\n",
            " 16  JobSat                  45194 non-null  object \n",
            " 17  JobFactors              49349 non-null  object \n",
            " 18  NEWOvertime             43231 non-null  object \n",
            " 19  NEWEdImpt               48465 non-null  object \n",
            "dtypes: float64(2), object(18)\n",
            "memory usage: 9.8+ MB\n"
          ]
        }
      ],
      "source": [
        "anket_df.info()"
      ]
    },
    {
      "cell_type": "markdown",
      "metadata": {
        "id": "hDDPyEWUlyAF"
      },
      "source": [
        "Çoğu sütun, farklı türlerde değerler veya boş değerler (`NaN`) içerdiklerinden, `object` veri türüne sahiptir. Her sütun için Non-Null sayısı toplam satır sayısından (64461) düşük olduğundan, her sütunun bazı boş değerler içerdiği görülüyor. Boş değerlerle ilgilenmemiz ve duruma göre her sütun için veri türünü manuel olarak ayarlamamız gerekecek.\n",
        "\n",
        "Diğer birkaç sütun çoğunlukla sayısal değerlere sahip olmasına rağmen, sütunlardan yalnızca ikisi (`Age` ve `WorkWeekHrs`) sayısal sütunlar  olarak algılandı. Analizimizi kolaylaştırmak için, sayısal olmayan herhangi bir değeri yok sayarak diğer bazı sütunları sayısal veri türlerine dönüştürelim. Sayısal olmayanlar `NaN`'a dönüştürülür."
      ]
    },
    {
      "cell_type": "code",
      "execution_count": null,
      "metadata": {
        "id": "YYnm6esMlyAG"
      },
      "outputs": [],
      "source": [
        "anket_df['Age1stCode'] = pd.to_numeric(anket_df.Age1stCode, errors='coerce')\n",
        "anket_df['YearsCode'] = pd.to_numeric(anket_df.YearsCode, errors='coerce')\n",
        "anket_df['YearsCodePro'] = pd.to_numeric(anket_df.YearsCodePro, errors='coerce')"
      ]
    },
    {
      "cell_type": "markdown",
      "metadata": {
        "id": "RCgC8eWslyAH"
      },
      "source": [
        "Şimdi sayısal sütunlarla ilgili bazı temel istatistikleri görelim."
      ]
    },
    {
      "cell_type": "code",
      "execution_count": null,
      "metadata": {
        "colab": {
          "base_uri": "https://localhost:8080/",
          "height": 300
        },
        "id": "8-gkTtRklyAH",
        "outputId": "c969e656-5e99-4470-8787-8913c1aeda39"
      },
      "outputs": [
        {
          "output_type": "execute_result",
          "data": {
            "text/plain": [
              "                Age    Age1stCode     YearsCode  YearsCodePro   WorkWeekHrs\n",
              "count  45446.000000  57473.000000  56784.000000  44133.000000  41151.000000\n",
              "mean      30.834111     15.476572     12.782051      8.869667     40.782174\n",
              "std        9.585392      5.114081      9.490657      7.759961     17.816383\n",
              "min        1.000000      5.000000      1.000000      1.000000      1.000000\n",
              "25%       24.000000     12.000000      6.000000      3.000000     40.000000\n",
              "50%       29.000000     15.000000     10.000000      6.000000     40.000000\n",
              "75%       35.000000     18.000000     17.000000     12.000000     44.000000\n",
              "max      279.000000     85.000000     50.000000     50.000000    475.000000"
            ],
            "text/html": [
              "\n",
              "  <div id=\"df-6e09683a-a35b-45a7-984f-af83363b7e89\">\n",
              "    <div class=\"colab-df-container\">\n",
              "      <div>\n",
              "<style scoped>\n",
              "    .dataframe tbody tr th:only-of-type {\n",
              "        vertical-align: middle;\n",
              "    }\n",
              "\n",
              "    .dataframe tbody tr th {\n",
              "        vertical-align: top;\n",
              "    }\n",
              "\n",
              "    .dataframe thead th {\n",
              "        text-align: right;\n",
              "    }\n",
              "</style>\n",
              "<table border=\"1\" class=\"dataframe\">\n",
              "  <thead>\n",
              "    <tr style=\"text-align: right;\">\n",
              "      <th></th>\n",
              "      <th>Age</th>\n",
              "      <th>Age1stCode</th>\n",
              "      <th>YearsCode</th>\n",
              "      <th>YearsCodePro</th>\n",
              "      <th>WorkWeekHrs</th>\n",
              "    </tr>\n",
              "  </thead>\n",
              "  <tbody>\n",
              "    <tr>\n",
              "      <th>count</th>\n",
              "      <td>45446.000000</td>\n",
              "      <td>57473.000000</td>\n",
              "      <td>56784.000000</td>\n",
              "      <td>44133.000000</td>\n",
              "      <td>41151.000000</td>\n",
              "    </tr>\n",
              "    <tr>\n",
              "      <th>mean</th>\n",
              "      <td>30.834111</td>\n",
              "      <td>15.476572</td>\n",
              "      <td>12.782051</td>\n",
              "      <td>8.869667</td>\n",
              "      <td>40.782174</td>\n",
              "    </tr>\n",
              "    <tr>\n",
              "      <th>std</th>\n",
              "      <td>9.585392</td>\n",
              "      <td>5.114081</td>\n",
              "      <td>9.490657</td>\n",
              "      <td>7.759961</td>\n",
              "      <td>17.816383</td>\n",
              "    </tr>\n",
              "    <tr>\n",
              "      <th>min</th>\n",
              "      <td>1.000000</td>\n",
              "      <td>5.000000</td>\n",
              "      <td>1.000000</td>\n",
              "      <td>1.000000</td>\n",
              "      <td>1.000000</td>\n",
              "    </tr>\n",
              "    <tr>\n",
              "      <th>25%</th>\n",
              "      <td>24.000000</td>\n",
              "      <td>12.000000</td>\n",
              "      <td>6.000000</td>\n",
              "      <td>3.000000</td>\n",
              "      <td>40.000000</td>\n",
              "    </tr>\n",
              "    <tr>\n",
              "      <th>50%</th>\n",
              "      <td>29.000000</td>\n",
              "      <td>15.000000</td>\n",
              "      <td>10.000000</td>\n",
              "      <td>6.000000</td>\n",
              "      <td>40.000000</td>\n",
              "    </tr>\n",
              "    <tr>\n",
              "      <th>75%</th>\n",
              "      <td>35.000000</td>\n",
              "      <td>18.000000</td>\n",
              "      <td>17.000000</td>\n",
              "      <td>12.000000</td>\n",
              "      <td>44.000000</td>\n",
              "    </tr>\n",
              "    <tr>\n",
              "      <th>max</th>\n",
              "      <td>279.000000</td>\n",
              "      <td>85.000000</td>\n",
              "      <td>50.000000</td>\n",
              "      <td>50.000000</td>\n",
              "      <td>475.000000</td>\n",
              "    </tr>\n",
              "  </tbody>\n",
              "</table>\n",
              "</div>\n",
              "      <button class=\"colab-df-convert\" onclick=\"convertToInteractive('df-6e09683a-a35b-45a7-984f-af83363b7e89')\"\n",
              "              title=\"Convert this dataframe to an interactive table.\"\n",
              "              style=\"display:none;\">\n",
              "        \n",
              "  <svg xmlns=\"http://www.w3.org/2000/svg\" height=\"24px\"viewBox=\"0 0 24 24\"\n",
              "       width=\"24px\">\n",
              "    <path d=\"M0 0h24v24H0V0z\" fill=\"none\"/>\n",
              "    <path d=\"M18.56 5.44l.94 2.06.94-2.06 2.06-.94-2.06-.94-.94-2.06-.94 2.06-2.06.94zm-11 1L8.5 8.5l.94-2.06 2.06-.94-2.06-.94L8.5 2.5l-.94 2.06-2.06.94zm10 10l.94 2.06.94-2.06 2.06-.94-2.06-.94-.94-2.06-.94 2.06-2.06.94z\"/><path d=\"M17.41 7.96l-1.37-1.37c-.4-.4-.92-.59-1.43-.59-.52 0-1.04.2-1.43.59L10.3 9.45l-7.72 7.72c-.78.78-.78 2.05 0 2.83L4 21.41c.39.39.9.59 1.41.59.51 0 1.02-.2 1.41-.59l7.78-7.78 2.81-2.81c.8-.78.8-2.07 0-2.86zM5.41 20L4 18.59l7.72-7.72 1.47 1.35L5.41 20z\"/>\n",
              "  </svg>\n",
              "      </button>\n",
              "      \n",
              "  <style>\n",
              "    .colab-df-container {\n",
              "      display:flex;\n",
              "      flex-wrap:wrap;\n",
              "      gap: 12px;\n",
              "    }\n",
              "\n",
              "    .colab-df-convert {\n",
              "      background-color: #E8F0FE;\n",
              "      border: none;\n",
              "      border-radius: 50%;\n",
              "      cursor: pointer;\n",
              "      display: none;\n",
              "      fill: #1967D2;\n",
              "      height: 32px;\n",
              "      padding: 0 0 0 0;\n",
              "      width: 32px;\n",
              "    }\n",
              "\n",
              "    .colab-df-convert:hover {\n",
              "      background-color: #E2EBFA;\n",
              "      box-shadow: 0px 1px 2px rgba(60, 64, 67, 0.3), 0px 1px 3px 1px rgba(60, 64, 67, 0.15);\n",
              "      fill: #174EA6;\n",
              "    }\n",
              "\n",
              "    [theme=dark] .colab-df-convert {\n",
              "      background-color: #3B4455;\n",
              "      fill: #D2E3FC;\n",
              "    }\n",
              "\n",
              "    [theme=dark] .colab-df-convert:hover {\n",
              "      background-color: #434B5C;\n",
              "      box-shadow: 0px 1px 3px 1px rgba(0, 0, 0, 0.15);\n",
              "      filter: drop-shadow(0px 1px 2px rgba(0, 0, 0, 0.3));\n",
              "      fill: #FFFFFF;\n",
              "    }\n",
              "  </style>\n",
              "\n",
              "      <script>\n",
              "        const buttonEl =\n",
              "          document.querySelector('#df-6e09683a-a35b-45a7-984f-af83363b7e89 button.colab-df-convert');\n",
              "        buttonEl.style.display =\n",
              "          google.colab.kernel.accessAllowed ? 'block' : 'none';\n",
              "\n",
              "        async function convertToInteractive(key) {\n",
              "          const element = document.querySelector('#df-6e09683a-a35b-45a7-984f-af83363b7e89');\n",
              "          const dataTable =\n",
              "            await google.colab.kernel.invokeFunction('convertToInteractive',\n",
              "                                                     [key], {});\n",
              "          if (!dataTable) return;\n",
              "\n",
              "          const docLinkHtml = 'Like what you see? Visit the ' +\n",
              "            '<a target=\"_blank\" href=https://colab.research.google.com/notebooks/data_table.ipynb>data table notebook</a>'\n",
              "            + ' to learn more about interactive tables.';\n",
              "          element.innerHTML = '';\n",
              "          dataTable['output_type'] = 'display_data';\n",
              "          await google.colab.output.renderOutput(dataTable, element);\n",
              "          const docLink = document.createElement('div');\n",
              "          docLink.innerHTML = docLinkHtml;\n",
              "          element.appendChild(docLink);\n",
              "        }\n",
              "      </script>\n",
              "    </div>\n",
              "  </div>\n",
              "  "
            ]
          },
          "metadata": {},
          "execution_count": 22
        }
      ],
      "source": [
        "anket_df.describe()"
      ]
    },
    {
      "cell_type": "markdown",
      "metadata": {
        "id": "FpKGNLwDlyAI"
      },
      "source": [
        "Minimum değer 1 ve maksimum değer 279 olduğu için yaş sütununda bir sorun var gibi görünüyor. Bu, anketlerde sık görülen bir sorundur: Yanıtlar, yanıt verirken yanlışlıkla veya kasıtlı hatalar nedeniyle geçersiz değerler içerebilir. Basit bir düzeltme, yaşın 100 yıldan yüksek veya 10 yıldan küçük olduğu satırları geçersiz anket yanıtları olarak yok saymak olacaktır. Bunu, [burada açıklandığı gibi](https://www.geeksforgeeks.org/drop-rows-from-the-dataframe-based-on-certain-condition-applied-on-a-column/). `.drop` yöntemini kullanarak yapabiliriz."
      ]
    },
    {
      "cell_type": "code",
      "execution_count": null,
      "metadata": {
        "id": "wKkQkvajlyAI"
      },
      "outputs": [],
      "source": [
        "anket_df.drop(anket_df[anket_df.Age < 10].index, inplace=True)\n",
        "anket_df.drop(anket_df[anket_df.Age > 100].index, inplace=True)"
      ]
    },
    {
      "cell_type": "markdown",
      "metadata": {
        "id": "EtrP-HAtlyAJ"
      },
      "source": [
        "Aynısı `WorkWeekHrs` için de geçerlidir. Sütunun değerinin 140 saatten yüksek olduğu girişleri yok sayalım. (günde ~20 saat)."
      ]
    },
    {
      "cell_type": "code",
      "execution_count": null,
      "metadata": {
        "id": "DH-4D3QylyAK"
      },
      "outputs": [],
      "source": [
        "anket_df.drop(anket_df[anket_df.WorkWeekHrs > 140].index, inplace=True)"
      ]
    },
    {
      "cell_type": "markdown",
      "metadata": {
        "id": "h15qnVmAlyAL"
      },
      "source": [
        "Cinsiyet sütunu ayrıca birden fazla seçeneğin seçilmesine de olanak tanır. Analizimizi basitleştirmek için birden fazla seçenek içeren değerleri kaldıracağız."
      ]
    },
    {
      "cell_type": "code",
      "execution_count": null,
      "metadata": {
        "colab": {
          "base_uri": "https://localhost:8080/"
        },
        "id": "5_vxgpGilyAL",
        "outputId": "2b33c9f3-c3b5-4aeb-a207-2cd26086166a"
      },
      "outputs": [
        {
          "output_type": "execute_result",
          "data": {
            "text/plain": [
              "Man                                                            45895\n",
              "Woman                                                           3835\n",
              "Non-binary, genderqueer, or gender non-conforming                385\n",
              "Man;Non-binary, genderqueer, or gender non-conforming            121\n",
              "Woman;Non-binary, genderqueer, or gender non-conforming           92\n",
              "Woman;Man                                                         73\n",
              "Woman;Man;Non-binary, genderqueer, or gender non-conforming       25\n",
              "Name: Gender, dtype: int64"
            ]
          },
          "metadata": {},
          "execution_count": 25
        }
      ],
      "source": [
        "anket_df['Gender'].value_counts()"
      ]
    },
    {
      "cell_type": "code",
      "execution_count": null,
      "metadata": {
        "id": "9HL98qaelyAM"
      },
      "outputs": [],
      "source": [
        "import numpy as np"
      ]
    },
    {
      "cell_type": "code",
      "execution_count": null,
      "metadata": {
        "id": "Hq8d7lmzlyAM"
      },
      "outputs": [],
      "source": [
        "anket_df.where(~(anket_df.Gender.str.contains(';', na=False)), np.nan, inplace=True)"
      ]
    },
    {
      "cell_type": "markdown",
      "metadata": {
        "id": "e7X4x7H5lyAM"
      },
      "source": [
        "Şimdi analiz için veri setini temizledik ve hazırladık. Veri çerçevesinden bir satır örneğine bakalım."
      ]
    },
    {
      "cell_type": "code",
      "execution_count": null,
      "metadata": {
        "colab": {
          "base_uri": "https://localhost:8080/",
          "height": 1000
        },
        "id": "dln2fC8ClyAN",
        "outputId": "4c84c954-c197-4e33-cfbf-5119fddefa5e"
      },
      "outputs": [
        {
          "output_type": "execute_result",
          "data": {
            "text/plain": [
              "                  Country   Age Gender  \\\n",
              "54356  Russian Federation   NaN    NaN   \n",
              "39211             Ukraine   NaN    NaN   \n",
              "58490             Ukraine  21.0    Man   \n",
              "945                Canada  14.0    Man   \n",
              "30801             Denmark  27.0    Man   \n",
              "41719             Hungary  28.0    Man   \n",
              "55499          Kazakhstan  34.0    Man   \n",
              "33436       United States  23.0    Man   \n",
              "45687         New Zealand  22.0    Man   \n",
              "17420              Brazil  25.0    Man   \n",
              "\n",
              "                                                 EdLevel  \\\n",
              "54356       Bachelor’s degree (B.A., B.S., B.Eng., etc.)   \n",
              "39211       Bachelor’s degree (B.A., B.S., B.Eng., etc.)   \n",
              "58490       Bachelor’s degree (B.A., B.S., B.Eng., etc.)   \n",
              "945    Secondary school (e.g. American high school, G...   \n",
              "30801    Master’s degree (M.A., M.S., M.Eng., MBA, etc.)   \n",
              "41719       Bachelor’s degree (B.A., B.S., B.Eng., etc.)   \n",
              "55499       Bachelor’s degree (B.A., B.S., B.Eng., etc.)   \n",
              "33436                Associate degree (A.A., A.S., etc.)   \n",
              "45687       Bachelor’s degree (B.A., B.S., B.Eng., etc.)   \n",
              "17420       Bachelor’s degree (B.A., B.S., B.Eng., etc.)   \n",
              "\n",
              "                                          UndergradMajor Hobbyist  Age1stCode  \\\n",
              "54356  Computer science, computer engineering, or sof...      Yes        12.0   \n",
              "39211  Computer science, computer engineering, or sof...       No        11.0   \n",
              "58490  Computer science, computer engineering, or sof...      Yes        15.0   \n",
              "945                                                  NaN      Yes        11.0   \n",
              "30801  A natural science (such as biology, chemistry,...       No        12.0   \n",
              "41719  Another engineering discipline (such as civil,...      Yes        19.0   \n",
              "55499  Computer science, computer engineering, or sof...      Yes        18.0   \n",
              "33436  A natural science (such as biology, chemistry,...      Yes        14.0   \n",
              "45687  Computer science, computer engineering, or sof...      Yes        12.0   \n",
              "17420  Another engineering discipline (such as civil,...      Yes        15.0   \n",
              "\n",
              "       YearsCode  YearsCodePro  \\\n",
              "54356       25.0          20.0   \n",
              "39211        7.0           3.0   \n",
              "58490        6.0           2.0   \n",
              "945          1.0           NaN   \n",
              "30801        7.0           3.0   \n",
              "41719       10.0           5.0   \n",
              "55499       17.0          12.0   \n",
              "33436        8.0           1.0   \n",
              "45687        7.0           1.0   \n",
              "17420       11.0           2.0   \n",
              "\n",
              "                                      LanguageWorkedWith  \\\n",
              "54356          C#;C++;HTML/CSS;JavaScript;SQL;TypeScript   \n",
              "39211                                                NaN   \n",
              "58490             HTML/CSS;JavaScript;PHP;SQL;TypeScript   \n",
              "945                                            C#;Python   \n",
              "30801  Bash/Shell/PowerShell;Go;HTML/CSS;JavaScript;P...   \n",
              "41719  Assembly;Bash/Shell/PowerShell;C;C++;Haskell;H...   \n",
              "55499            HTML/CSS;Java;JavaScript;SQL;TypeScript   \n",
              "33436  Bash/Shell/PowerShell;C#;HTML/CSS;JavaScript;P...   \n",
              "45687            Bash/Shell/PowerShell;JavaScript;Python   \n",
              "17420                              Assembly;C;C++;Python   \n",
              "\n",
              "                                  LanguageDesireNextYear          NEWLearn  \\\n",
              "54356      Haskell;Java;JavaScript;Rust;Scala;TypeScript  Every few months   \n",
              "39211                                                NaN               NaN   \n",
              "58490             HTML/CSS;JavaScript;PHP;SQL;TypeScript  Every few months   \n",
              "945       C#;C++;Dart;Go;HTML/CSS;Java;JavaScript;Python  Every few months   \n",
              "30801  Bash/Shell/PowerShell;Go;HTML/CSS;JavaScript;J...       Once a year   \n",
              "41719                             Haskell;Rust;Scala;SQL       Once a year   \n",
              "55499       Dart;HTML/CSS;Java;JavaScript;SQL;TypeScript       Once a year   \n",
              "33436  Bash/Shell/PowerShell;HTML/CSS;JavaScript;Juli...  Every few months   \n",
              "45687                                         C#;Go;Rust       Once a year   \n",
              "17420             Bash/Shell/PowerShell;C;C++;Python;SQL  Every few months   \n",
              "\n",
              "                                                NEWStuck          Employment  \\\n",
              "54356  Visit Stack Overflow;Go for a walk or other ph...                 NaN   \n",
              "39211                                                NaN  Employed full-time   \n",
              "58490  Play games;Call a coworker or friend;Visit Sta...  Employed full-time   \n",
              "945    Visit Stack Overflow;Watch help / tutorial videos             Student   \n",
              "30801  Visit Stack Overflow;Do other work and come ba...  Employed full-time   \n",
              "41719  Visit Stack Overflow;Go for a walk or other ph...  Employed full-time   \n",
              "55499  Visit Stack Overflow;Watch help / tutorial vid...  Employed full-time   \n",
              "33436  Visit Stack Overflow;Go for a walk or other ph...  Employed full-time   \n",
              "45687           Go for a walk or other physical activity  Employed full-time   \n",
              "17420  Meditate;Play games;Call a coworker or friend;...  Employed full-time   \n",
              "\n",
              "                                                 DevType  WorkWeekHrs  \\\n",
              "54356                                                NaN          NaN   \n",
              "39211                 Developer, back-end;Engineer, data          NaN   \n",
              "58490  Developer, back-end;Developer, front-end;Devel...          9.0   \n",
              "945                                                  NaN          NaN   \n",
              "30801  Developer, full-stack;Scientist;System adminis...         38.0   \n",
              "41719                                Developer, back-end         38.0   \n",
              "55499  Developer, back-end;Developer, full-stack;Deve...         40.0   \n",
              "33436  Data or business analyst;Data scientist or mac...         50.0   \n",
              "45687              Developer, back-end;DevOps specialist         40.0   \n",
              "17420  Academic researcher;Developer, embedded applic...         40.0   \n",
              "\n",
              "                                   JobSat  \\\n",
              "54356                  Slightly satisfied   \n",
              "39211                   Very dissatisfied   \n",
              "58490  Neither satisfied nor dissatisfied   \n",
              "945                                   NaN   \n",
              "30801                      Very satisfied   \n",
              "41719                      Very satisfied   \n",
              "55499  Neither satisfied nor dissatisfied   \n",
              "33436                  Slightly satisfied   \n",
              "45687               Slightly dissatisfied   \n",
              "17420                      Very satisfied   \n",
              "\n",
              "                                              JobFactors  \\\n",
              "54356  Remote work options;How widely used or impactf...   \n",
              "39211                                                NaN   \n",
              "58490  Flex time or a flexible schedule;Languages, fr...   \n",
              "945    Industry that I’d be working in;Languages, fra...   \n",
              "30801  Languages, frameworks, and other technologies ...   \n",
              "41719  Flex time or a flexible schedule;Languages, fr...   \n",
              "55499  Languages, frameworks, and other technologies ...   \n",
              "33436  Languages, frameworks, and other technologies ...   \n",
              "45687  Flex time or a flexible schedule;Languages, fr...   \n",
              "17420  Industry that I’d be working in;Remote work op...   \n",
              "\n",
              "                                             NEWOvertime  \\\n",
              "54356  Sometimes: 1-2 days per month but less than we...   \n",
              "39211                                                NaN   \n",
              "58490  Sometimes: 1-2 days per month but less than we...   \n",
              "945                                                  NaN   \n",
              "30801  Sometimes: 1-2 days per month but less than we...   \n",
              "41719                  Rarely: 1-2 days per year or less   \n",
              "55499  Sometimes: 1-2 days per month but less than we...   \n",
              "33436                  Rarely: 1-2 days per year or less   \n",
              "45687  Occasionally: 1-2 days per quarter but less th...   \n",
              "17420                   Often: 1-2 days per week or more   \n",
              "\n",
              "                                NEWEdImpt  \n",
              "54356  Not at all important/not necessary  \n",
              "39211                    Fairly important  \n",
              "58490                      Very important  \n",
              "945                                   NaN  \n",
              "30801                    Fairly important  \n",
              "41719                  Somewhat important  \n",
              "55499                    Fairly important  \n",
              "33436                    Fairly important  \n",
              "45687                Critically important  \n",
              "17420                      Very important  "
            ],
            "text/html": [
              "\n",
              "  <div id=\"df-3078ec5a-54ce-48c3-8e33-8a0736939847\">\n",
              "    <div class=\"colab-df-container\">\n",
              "      <div>\n",
              "<style scoped>\n",
              "    .dataframe tbody tr th:only-of-type {\n",
              "        vertical-align: middle;\n",
              "    }\n",
              "\n",
              "    .dataframe tbody tr th {\n",
              "        vertical-align: top;\n",
              "    }\n",
              "\n",
              "    .dataframe thead th {\n",
              "        text-align: right;\n",
              "    }\n",
              "</style>\n",
              "<table border=\"1\" class=\"dataframe\">\n",
              "  <thead>\n",
              "    <tr style=\"text-align: right;\">\n",
              "      <th></th>\n",
              "      <th>Country</th>\n",
              "      <th>Age</th>\n",
              "      <th>Gender</th>\n",
              "      <th>EdLevel</th>\n",
              "      <th>UndergradMajor</th>\n",
              "      <th>Hobbyist</th>\n",
              "      <th>Age1stCode</th>\n",
              "      <th>YearsCode</th>\n",
              "      <th>YearsCodePro</th>\n",
              "      <th>LanguageWorkedWith</th>\n",
              "      <th>LanguageDesireNextYear</th>\n",
              "      <th>NEWLearn</th>\n",
              "      <th>NEWStuck</th>\n",
              "      <th>Employment</th>\n",
              "      <th>DevType</th>\n",
              "      <th>WorkWeekHrs</th>\n",
              "      <th>JobSat</th>\n",
              "      <th>JobFactors</th>\n",
              "      <th>NEWOvertime</th>\n",
              "      <th>NEWEdImpt</th>\n",
              "    </tr>\n",
              "  </thead>\n",
              "  <tbody>\n",
              "    <tr>\n",
              "      <th>54356</th>\n",
              "      <td>Russian Federation</td>\n",
              "      <td>NaN</td>\n",
              "      <td>NaN</td>\n",
              "      <td>Bachelor’s degree (B.A., B.S., B.Eng., etc.)</td>\n",
              "      <td>Computer science, computer engineering, or sof...</td>\n",
              "      <td>Yes</td>\n",
              "      <td>12.0</td>\n",
              "      <td>25.0</td>\n",
              "      <td>20.0</td>\n",
              "      <td>C#;C++;HTML/CSS;JavaScript;SQL;TypeScript</td>\n",
              "      <td>Haskell;Java;JavaScript;Rust;Scala;TypeScript</td>\n",
              "      <td>Every few months</td>\n",
              "      <td>Visit Stack Overflow;Go for a walk or other ph...</td>\n",
              "      <td>NaN</td>\n",
              "      <td>NaN</td>\n",
              "      <td>NaN</td>\n",
              "      <td>Slightly satisfied</td>\n",
              "      <td>Remote work options;How widely used or impactf...</td>\n",
              "      <td>Sometimes: 1-2 days per month but less than we...</td>\n",
              "      <td>Not at all important/not necessary</td>\n",
              "    </tr>\n",
              "    <tr>\n",
              "      <th>39211</th>\n",
              "      <td>Ukraine</td>\n",
              "      <td>NaN</td>\n",
              "      <td>NaN</td>\n",
              "      <td>Bachelor’s degree (B.A., B.S., B.Eng., etc.)</td>\n",
              "      <td>Computer science, computer engineering, or sof...</td>\n",
              "      <td>No</td>\n",
              "      <td>11.0</td>\n",
              "      <td>7.0</td>\n",
              "      <td>3.0</td>\n",
              "      <td>NaN</td>\n",
              "      <td>NaN</td>\n",
              "      <td>NaN</td>\n",
              "      <td>NaN</td>\n",
              "      <td>Employed full-time</td>\n",
              "      <td>Developer, back-end;Engineer, data</td>\n",
              "      <td>NaN</td>\n",
              "      <td>Very dissatisfied</td>\n",
              "      <td>NaN</td>\n",
              "      <td>NaN</td>\n",
              "      <td>Fairly important</td>\n",
              "    </tr>\n",
              "    <tr>\n",
              "      <th>58490</th>\n",
              "      <td>Ukraine</td>\n",
              "      <td>21.0</td>\n",
              "      <td>Man</td>\n",
              "      <td>Bachelor’s degree (B.A., B.S., B.Eng., etc.)</td>\n",
              "      <td>Computer science, computer engineering, or sof...</td>\n",
              "      <td>Yes</td>\n",
              "      <td>15.0</td>\n",
              "      <td>6.0</td>\n",
              "      <td>2.0</td>\n",
              "      <td>HTML/CSS;JavaScript;PHP;SQL;TypeScript</td>\n",
              "      <td>HTML/CSS;JavaScript;PHP;SQL;TypeScript</td>\n",
              "      <td>Every few months</td>\n",
              "      <td>Play games;Call a coworker or friend;Visit Sta...</td>\n",
              "      <td>Employed full-time</td>\n",
              "      <td>Developer, back-end;Developer, front-end;Devel...</td>\n",
              "      <td>9.0</td>\n",
              "      <td>Neither satisfied nor dissatisfied</td>\n",
              "      <td>Flex time or a flexible schedule;Languages, fr...</td>\n",
              "      <td>Sometimes: 1-2 days per month but less than we...</td>\n",
              "      <td>Very important</td>\n",
              "    </tr>\n",
              "    <tr>\n",
              "      <th>945</th>\n",
              "      <td>Canada</td>\n",
              "      <td>14.0</td>\n",
              "      <td>Man</td>\n",
              "      <td>Secondary school (e.g. American high school, G...</td>\n",
              "      <td>NaN</td>\n",
              "      <td>Yes</td>\n",
              "      <td>11.0</td>\n",
              "      <td>1.0</td>\n",
              "      <td>NaN</td>\n",
              "      <td>C#;Python</td>\n",
              "      <td>C#;C++;Dart;Go;HTML/CSS;Java;JavaScript;Python</td>\n",
              "      <td>Every few months</td>\n",
              "      <td>Visit Stack Overflow;Watch help / tutorial videos</td>\n",
              "      <td>Student</td>\n",
              "      <td>NaN</td>\n",
              "      <td>NaN</td>\n",
              "      <td>NaN</td>\n",
              "      <td>Industry that I’d be working in;Languages, fra...</td>\n",
              "      <td>NaN</td>\n",
              "      <td>NaN</td>\n",
              "    </tr>\n",
              "    <tr>\n",
              "      <th>30801</th>\n",
              "      <td>Denmark</td>\n",
              "      <td>27.0</td>\n",
              "      <td>Man</td>\n",
              "      <td>Master’s degree (M.A., M.S., M.Eng., MBA, etc.)</td>\n",
              "      <td>A natural science (such as biology, chemistry,...</td>\n",
              "      <td>No</td>\n",
              "      <td>12.0</td>\n",
              "      <td>7.0</td>\n",
              "      <td>3.0</td>\n",
              "      <td>Bash/Shell/PowerShell;Go;HTML/CSS;JavaScript;P...</td>\n",
              "      <td>Bash/Shell/PowerShell;Go;HTML/CSS;JavaScript;J...</td>\n",
              "      <td>Once a year</td>\n",
              "      <td>Visit Stack Overflow;Do other work and come ba...</td>\n",
              "      <td>Employed full-time</td>\n",
              "      <td>Developer, full-stack;Scientist;System adminis...</td>\n",
              "      <td>38.0</td>\n",
              "      <td>Very satisfied</td>\n",
              "      <td>Languages, frameworks, and other technologies ...</td>\n",
              "      <td>Sometimes: 1-2 days per month but less than we...</td>\n",
              "      <td>Fairly important</td>\n",
              "    </tr>\n",
              "    <tr>\n",
              "      <th>41719</th>\n",
              "      <td>Hungary</td>\n",
              "      <td>28.0</td>\n",
              "      <td>Man</td>\n",
              "      <td>Bachelor’s degree (B.A., B.S., B.Eng., etc.)</td>\n",
              "      <td>Another engineering discipline (such as civil,...</td>\n",
              "      <td>Yes</td>\n",
              "      <td>19.0</td>\n",
              "      <td>10.0</td>\n",
              "      <td>5.0</td>\n",
              "      <td>Assembly;Bash/Shell/PowerShell;C;C++;Haskell;H...</td>\n",
              "      <td>Haskell;Rust;Scala;SQL</td>\n",
              "      <td>Once a year</td>\n",
              "      <td>Visit Stack Overflow;Go for a walk or other ph...</td>\n",
              "      <td>Employed full-time</td>\n",
              "      <td>Developer, back-end</td>\n",
              "      <td>38.0</td>\n",
              "      <td>Very satisfied</td>\n",
              "      <td>Flex time or a flexible schedule;Languages, fr...</td>\n",
              "      <td>Rarely: 1-2 days per year or less</td>\n",
              "      <td>Somewhat important</td>\n",
              "    </tr>\n",
              "    <tr>\n",
              "      <th>55499</th>\n",
              "      <td>Kazakhstan</td>\n",
              "      <td>34.0</td>\n",
              "      <td>Man</td>\n",
              "      <td>Bachelor’s degree (B.A., B.S., B.Eng., etc.)</td>\n",
              "      <td>Computer science, computer engineering, or sof...</td>\n",
              "      <td>Yes</td>\n",
              "      <td>18.0</td>\n",
              "      <td>17.0</td>\n",
              "      <td>12.0</td>\n",
              "      <td>HTML/CSS;Java;JavaScript;SQL;TypeScript</td>\n",
              "      <td>Dart;HTML/CSS;Java;JavaScript;SQL;TypeScript</td>\n",
              "      <td>Once a year</td>\n",
              "      <td>Visit Stack Overflow;Watch help / tutorial vid...</td>\n",
              "      <td>Employed full-time</td>\n",
              "      <td>Developer, back-end;Developer, full-stack;Deve...</td>\n",
              "      <td>40.0</td>\n",
              "      <td>Neither satisfied nor dissatisfied</td>\n",
              "      <td>Languages, frameworks, and other technologies ...</td>\n",
              "      <td>Sometimes: 1-2 days per month but less than we...</td>\n",
              "      <td>Fairly important</td>\n",
              "    </tr>\n",
              "    <tr>\n",
              "      <th>33436</th>\n",
              "      <td>United States</td>\n",
              "      <td>23.0</td>\n",
              "      <td>Man</td>\n",
              "      <td>Associate degree (A.A., A.S., etc.)</td>\n",
              "      <td>A natural science (such as biology, chemistry,...</td>\n",
              "      <td>Yes</td>\n",
              "      <td>14.0</td>\n",
              "      <td>8.0</td>\n",
              "      <td>1.0</td>\n",
              "      <td>Bash/Shell/PowerShell;C#;HTML/CSS;JavaScript;P...</td>\n",
              "      <td>Bash/Shell/PowerShell;HTML/CSS;JavaScript;Juli...</td>\n",
              "      <td>Every few months</td>\n",
              "      <td>Visit Stack Overflow;Go for a walk or other ph...</td>\n",
              "      <td>Employed full-time</td>\n",
              "      <td>Data or business analyst;Data scientist or mac...</td>\n",
              "      <td>50.0</td>\n",
              "      <td>Slightly satisfied</td>\n",
              "      <td>Languages, frameworks, and other technologies ...</td>\n",
              "      <td>Rarely: 1-2 days per year or less</td>\n",
              "      <td>Fairly important</td>\n",
              "    </tr>\n",
              "    <tr>\n",
              "      <th>45687</th>\n",
              "      <td>New Zealand</td>\n",
              "      <td>22.0</td>\n",
              "      <td>Man</td>\n",
              "      <td>Bachelor’s degree (B.A., B.S., B.Eng., etc.)</td>\n",
              "      <td>Computer science, computer engineering, or sof...</td>\n",
              "      <td>Yes</td>\n",
              "      <td>12.0</td>\n",
              "      <td>7.0</td>\n",
              "      <td>1.0</td>\n",
              "      <td>Bash/Shell/PowerShell;JavaScript;Python</td>\n",
              "      <td>C#;Go;Rust</td>\n",
              "      <td>Once a year</td>\n",
              "      <td>Go for a walk or other physical activity</td>\n",
              "      <td>Employed full-time</td>\n",
              "      <td>Developer, back-end;DevOps specialist</td>\n",
              "      <td>40.0</td>\n",
              "      <td>Slightly dissatisfied</td>\n",
              "      <td>Flex time or a flexible schedule;Languages, fr...</td>\n",
              "      <td>Occasionally: 1-2 days per quarter but less th...</td>\n",
              "      <td>Critically important</td>\n",
              "    </tr>\n",
              "    <tr>\n",
              "      <th>17420</th>\n",
              "      <td>Brazil</td>\n",
              "      <td>25.0</td>\n",
              "      <td>Man</td>\n",
              "      <td>Bachelor’s degree (B.A., B.S., B.Eng., etc.)</td>\n",
              "      <td>Another engineering discipline (such as civil,...</td>\n",
              "      <td>Yes</td>\n",
              "      <td>15.0</td>\n",
              "      <td>11.0</td>\n",
              "      <td>2.0</td>\n",
              "      <td>Assembly;C;C++;Python</td>\n",
              "      <td>Bash/Shell/PowerShell;C;C++;Python;SQL</td>\n",
              "      <td>Every few months</td>\n",
              "      <td>Meditate;Play games;Call a coworker or friend;...</td>\n",
              "      <td>Employed full-time</td>\n",
              "      <td>Academic researcher;Developer, embedded applic...</td>\n",
              "      <td>40.0</td>\n",
              "      <td>Very satisfied</td>\n",
              "      <td>Industry that I’d be working in;Remote work op...</td>\n",
              "      <td>Often: 1-2 days per week or more</td>\n",
              "      <td>Very important</td>\n",
              "    </tr>\n",
              "  </tbody>\n",
              "</table>\n",
              "</div>\n",
              "      <button class=\"colab-df-convert\" onclick=\"convertToInteractive('df-3078ec5a-54ce-48c3-8e33-8a0736939847')\"\n",
              "              title=\"Convert this dataframe to an interactive table.\"\n",
              "              style=\"display:none;\">\n",
              "        \n",
              "  <svg xmlns=\"http://www.w3.org/2000/svg\" height=\"24px\"viewBox=\"0 0 24 24\"\n",
              "       width=\"24px\">\n",
              "    <path d=\"M0 0h24v24H0V0z\" fill=\"none\"/>\n",
              "    <path d=\"M18.56 5.44l.94 2.06.94-2.06 2.06-.94-2.06-.94-.94-2.06-.94 2.06-2.06.94zm-11 1L8.5 8.5l.94-2.06 2.06-.94-2.06-.94L8.5 2.5l-.94 2.06-2.06.94zm10 10l.94 2.06.94-2.06 2.06-.94-2.06-.94-.94-2.06-.94 2.06-2.06.94z\"/><path d=\"M17.41 7.96l-1.37-1.37c-.4-.4-.92-.59-1.43-.59-.52 0-1.04.2-1.43.59L10.3 9.45l-7.72 7.72c-.78.78-.78 2.05 0 2.83L4 21.41c.39.39.9.59 1.41.59.51 0 1.02-.2 1.41-.59l7.78-7.78 2.81-2.81c.8-.78.8-2.07 0-2.86zM5.41 20L4 18.59l7.72-7.72 1.47 1.35L5.41 20z\"/>\n",
              "  </svg>\n",
              "      </button>\n",
              "      \n",
              "  <style>\n",
              "    .colab-df-container {\n",
              "      display:flex;\n",
              "      flex-wrap:wrap;\n",
              "      gap: 12px;\n",
              "    }\n",
              "\n",
              "    .colab-df-convert {\n",
              "      background-color: #E8F0FE;\n",
              "      border: none;\n",
              "      border-radius: 50%;\n",
              "      cursor: pointer;\n",
              "      display: none;\n",
              "      fill: #1967D2;\n",
              "      height: 32px;\n",
              "      padding: 0 0 0 0;\n",
              "      width: 32px;\n",
              "    }\n",
              "\n",
              "    .colab-df-convert:hover {\n",
              "      background-color: #E2EBFA;\n",
              "      box-shadow: 0px 1px 2px rgba(60, 64, 67, 0.3), 0px 1px 3px 1px rgba(60, 64, 67, 0.15);\n",
              "      fill: #174EA6;\n",
              "    }\n",
              "\n",
              "    [theme=dark] .colab-df-convert {\n",
              "      background-color: #3B4455;\n",
              "      fill: #D2E3FC;\n",
              "    }\n",
              "\n",
              "    [theme=dark] .colab-df-convert:hover {\n",
              "      background-color: #434B5C;\n",
              "      box-shadow: 0px 1px 3px 1px rgba(0, 0, 0, 0.15);\n",
              "      filter: drop-shadow(0px 1px 2px rgba(0, 0, 0, 0.3));\n",
              "      fill: #FFFFFF;\n",
              "    }\n",
              "  </style>\n",
              "\n",
              "      <script>\n",
              "        const buttonEl =\n",
              "          document.querySelector('#df-3078ec5a-54ce-48c3-8e33-8a0736939847 button.colab-df-convert');\n",
              "        buttonEl.style.display =\n",
              "          google.colab.kernel.accessAllowed ? 'block' : 'none';\n",
              "\n",
              "        async function convertToInteractive(key) {\n",
              "          const element = document.querySelector('#df-3078ec5a-54ce-48c3-8e33-8a0736939847');\n",
              "          const dataTable =\n",
              "            await google.colab.kernel.invokeFunction('convertToInteractive',\n",
              "                                                     [key], {});\n",
              "          if (!dataTable) return;\n",
              "\n",
              "          const docLinkHtml = 'Like what you see? Visit the ' +\n",
              "            '<a target=\"_blank\" href=https://colab.research.google.com/notebooks/data_table.ipynb>data table notebook</a>'\n",
              "            + ' to learn more about interactive tables.';\n",
              "          element.innerHTML = '';\n",
              "          dataTable['output_type'] = 'display_data';\n",
              "          await google.colab.output.renderOutput(dataTable, element);\n",
              "          const docLink = document.createElement('div');\n",
              "          docLink.innerHTML = docLinkHtml;\n",
              "          element.appendChild(docLink);\n",
              "        }\n",
              "      </script>\n",
              "    </div>\n",
              "  </div>\n",
              "  "
            ]
          },
          "metadata": {},
          "execution_count": 28
        }
      ],
      "source": [
        "anket_df.sample(10)"
      ]
    },
    {
      "cell_type": "markdown",
      "metadata": {
        "id": "wchuf6inlyAP"
      },
      "source": [
        "## Keşifsel Analiz ve Görselleştirme\n",
        "\n",
        "Anket yanıtları hakkında sorular sormadan önce, yanıtlayanların demografik özelliklerini, yani ülke, yaş, cinsiyet, eğitim düzeyi, istihdam düzeyi vb. anlamamıza yardımcı olacaktır. Anketin dünya çapındaki programlama topluluğunu ne kadar temsil ettiğini anlamak için bu değişkenleri araştırmak önemlidir. Bu ölçeğin bir anketi genellikle bazı [seçim yanlılığı](https://en.wikipedia.org/wiki/Selection_bias) olma eğilimindedir.\n",
        "\n",
        "`matplotlib.pyplot` ve `seaborn` dosyalarını içe aktararak başlayalım."
      ]
    },
    {
      "cell_type": "code",
      "execution_count": null,
      "metadata": {
        "id": "T8u31yH3lyAP"
      },
      "outputs": [],
      "source": [
        "import seaborn as sns\n",
        "import matplotlib\n",
        "import matplotlib.pyplot as plt\n",
        "%matplotlib inline\n",
        "\n",
        "sns.set_style('darkgrid')\n",
        "matplotlib.rcParams['font.size'] = 14\n",
        "matplotlib.rcParams['figure.figsize'] = (9, 5)\n",
        "matplotlib.rcParams['figure.facecolor'] = '#00000000'"
      ]
    },
    {
      "cell_type": "markdown",
      "metadata": {
        "id": "ELPAKIT0lyAQ"
      },
      "source": [
        "### Ülke\n",
        "\n",
        "Ankette yanıt verilen ülke sayısına bakalım ve en fazla yanıt alan on ülkeyi sıralayalım."
      ]
    },
    {
      "cell_type": "code",
      "execution_count": null,
      "metadata": {
        "id": "EWPwQa5mlyAQ",
        "colab": {
          "base_uri": "https://localhost:8080/",
          "height": 35
        },
        "outputId": "ae839ae0-fe0a-4128-94ff-70bcebe8b88e"
      },
      "outputs": [
        {
          "output_type": "execute_result",
          "data": {
            "text/plain": [
              "'Where do you live?'"
            ],
            "application/vnd.google.colaboratory.intrinsic+json": {
              "type": "string"
            }
          },
          "metadata": {},
          "execution_count": 30
        }
      ],
      "source": [
        "schema.Country"
      ]
    },
    {
      "cell_type": "code",
      "execution_count": null,
      "metadata": {
        "id": "R-yDTZLRlyAR",
        "colab": {
          "base_uri": "https://localhost:8080/"
        },
        "outputId": "28223751-36ae-4a6c-c0ae-2d626d5a5fc7"
      },
      "outputs": [
        {
          "output_type": "execute_result",
          "data": {
            "text/plain": [
              "183"
            ]
          },
          "metadata": {},
          "execution_count": 31
        }
      ],
      "source": [
        "anket_df.Country.nunique()"
      ]
    },
    {
      "cell_type": "markdown",
      "metadata": {
        "id": "Yvl-9UrGlyAR"
      },
      "source": [
        "`value_counts` yöntemini kullanarak en fazla yanıt veren ülkeleri belirleyebiliriz."
      ]
    },
    {
      "cell_type": "code",
      "execution_count": null,
      "metadata": {
        "id": "avJXwaxdlyAS",
        "colab": {
          "base_uri": "https://localhost:8080/"
        },
        "outputId": "6e43edcf-96e9-4ada-e2fb-47099a52cb21"
      },
      "outputs": [
        {
          "output_type": "execute_result",
          "data": {
            "text/plain": [
              "United States         12371\n",
              "India                  8364\n",
              "United Kingdom         3881\n",
              "Germany                3864\n",
              "Canada                 2175\n",
              "France                 1884\n",
              "Brazil                 1804\n",
              "Netherlands            1332\n",
              "Poland                 1259\n",
              "Australia              1199\n",
              "Spain                  1157\n",
              "Italy                  1115\n",
              "Russian Federation     1085\n",
              "Sweden                  879\n",
              "Pakistan                802\n",
              "Name: Country, dtype: int64"
            ]
          },
          "metadata": {},
          "execution_count": 32
        }
      ],
      "source": [
        "en_fazla_yanit_veren_ulkeler = anket_df.Country.value_counts().head(15)\n",
        "en_fazla_yanit_veren_ulkeler"
      ]
    },
    {
      "cell_type": "markdown",
      "metadata": {
        "id": "Rk7ZPlzdlyAS"
      },
      "source": [
        "Bu bilgiyi bir çubuk grafik kullanarak görselleştirebiliriz."
      ]
    },
    {
      "cell_type": "code",
      "execution_count": null,
      "metadata": {
        "id": "iN5dBZrRlyAT",
        "colab": {
          "base_uri": "https://localhost:8080/",
          "height": 518
        },
        "outputId": "3b825926-ba5d-4a37-88a0-e4ff9c29c69b"
      },
      "outputs": [
        {
          "output_type": "display_data",
          "data": {
            "text/plain": [
              "<Figure size 864x432 with 1 Axes>"
            ],
            "image/png": "[encoded data removed]"
          },
          "metadata": {
            "needs_background": "light"
          }
        }
      ],
      "source": [
        "plt.figure(figsize=(12,6))\n",
        "plt.xticks(rotation=90)\n",
        "plt.title(schema.Country)\n",
        "sns.barplot(x=en_fazla_yanit_veren_ulkeler.index, y=en_fazla_yanit_veren_ulkeler);"
      ]
    },
    {
      "cell_type": "markdown",
      "metadata": {
        "id": "lw_WiUWTlyAT"
      },
      "source": [
        "Muhtemelen anket İngilizce olduğu ve bu ülkelerde İngilizce konuşan nüfus en yüksek olduğu için, orantısız bir şekilde yüksek sayıda katılımcı ABD ve Hindistan'dan geliyor. Anketin, özellikle İngilizce konuşulmayan ülkelerdeki küresel programlama topluluğunu temsil etmeyebileceğini şimdiden görebiliyoruz. İngilizce konuşulmayan ülkelerden gelen programcılar hemen hemen kesinlikle yeterince temsil edilmiyor.\n",
        "\n",
        "**Alıştırma**:\n",
        "\n",
        "İngilizce konuşulan ve İngilizce konuşulmayan ülkelerden gelen yanıtların yüzdesini bulmaya çalışın. [Farklı ülkelerde konuşulan dillerin bu listesini](https://github.com/JovianML/opendatasets/blob/master/data/countries-languages-spoken/countries-languages.csv) kullanabiliriz."
      ]
    },
    {
      "cell_type": "markdown",
      "metadata": {
        "id": "5joWGBmTlyAU"
      },
      "source": [
        "### Yaş\n",
        "\n",
        "Katılımcıların yaş dağılımı, bakılması gereken bir diğer önemli faktördür. Görselleştirmek için bir histogram kullanabiliriz."
      ]
    },
    {
      "cell_type": "code",
      "execution_count": null,
      "metadata": {
        "id": "-f0U7SEKlyAU",
        "colab": {
          "base_uri": "https://localhost:8080/",
          "height": 416
        },
        "outputId": "dee8cca8-e287-4208-fc94-57baa5f943ed"
      },
      "outputs": [
        {
          "output_type": "display_data",
          "data": {
            "text/plain": [
              "<Figure size 864x432 with 1 Axes>"
            ],
            "image/png": "[encoded data removed]"
          },
          "metadata": {
            "needs_background": "light"
          }
        }
      ],
      "source": [
        "plt.figure(figsize=(12, 6))\n",
        "plt.title(schema.Age)\n",
        "plt.xlabel('Yaş')\n",
        "plt.ylabel('Yanıtlayanların sayısı')\n",
        "\n",
        "plt.hist(anket_df.Age, bins=np.arange(10,80,5), color='purple');"
      ]
    },
    {
      "cell_type": "markdown",
      "metadata": {
        "id": "nKY40UohlyAV"
      },
      "source": [
        "Ankete katılanların büyük bir yüzdesinin 20-45 yaşları arasında olduğu görülmektedir. Genel olarak programlama topluluğunu biraz temsil ediyor. Son 20 yılda pek çok genç bilgisayar bilimini çalışma alanı veya meslek olarak aldı.\n",
        "\n",
        "**Alıştırma**: Farklı yaş grupları için anket sonuçlarını analiz etmek ve karşılaştırmak isterseniz, yanıtları yaşa (veya yaş grubuna) göre filtrelemek isteyebilirsiniz. `10 yaşından az`, `10-18 yaş`, `18-30 yaş`, `30-45 yaş`, `45-60 yaş` ve `60'dan daha yaşlı` gibi değerleri içeren AgeGroup adlı yeni bir sütun oluşturalım. Ardından, bu notebook'un geri kalanındaki analizi her yaş grubu için tekrarlayalım."
      ]
    },
    {
      "cell_type": "markdown",
      "metadata": {
        "id": "3A5juCWnlyAV"
      },
      "source": [
        "### Cinsiyet\n",
        "\n",
        "Cinsiyet için verilen yanıtların dağılımına bakalım. Kadınların ve ikili olmayan cinsiyetlerin programlama topluluğunda yeterince temsil edilmediği bilinen bir gerçektir, bu nedenle burada simetrik olmayan bir dağılım görmeyi bekleyebiliriz."
      ]
    },
    {
      "cell_type": "code",
      "execution_count": null,
      "metadata": {
        "id": "5avzMWyMlyAW",
        "colab": {
          "base_uri": "https://localhost:8080/",
          "height": 35
        },
        "outputId": "464b016b-d1ec-4b5b-ac67-b0433e03e7de"
      },
      "outputs": [
        {
          "output_type": "execute_result",
          "data": {
            "text/plain": [
              "'Which of the following describe you, if any? Please check all that apply. If you prefer not to answer, you may leave this question blank.'"
            ],
            "application/vnd.google.colaboratory.intrinsic+json": {
              "type": "string"
            }
          },
          "metadata": {},
          "execution_count": 35
        }
      ],
      "source": [
        "schema.Gender"
      ]
    },
    {
      "cell_type": "code",
      "execution_count": null,
      "metadata": {
        "id": "184hCN6OlyAX",
        "colab": {
          "base_uri": "https://localhost:8080/"
        },
        "outputId": "88150edf-206d-453b-c36f-647f9d738bdc"
      },
      "outputs": [
        {
          "output_type": "execute_result",
          "data": {
            "text/plain": [
              "Man                                                  45895\n",
              "Woman                                                 3835\n",
              "Non-binary, genderqueer, or gender non-conforming      385\n",
              "Name: Gender, dtype: int64"
            ]
          },
          "metadata": {},
          "execution_count": 36
        }
      ],
      "source": [
        "cinsiyet_sayilari = anket_df.Gender.value_counts()\n",
        "cinsiyet_sayilari"
      ]
    },
    {
      "cell_type": "markdown",
      "metadata": {
        "id": "XOwZMyyslyAX"
      },
      "source": [
        "Bir pasta grafiği, dağılımı görselleştirmenin harika bir yolu olacaktır."
      ]
    },
    {
      "cell_type": "code",
      "execution_count": null,
      "metadata": {
        "id": "qpuJ7bkDlyAY",
        "colab": {
          "base_uri": "https://localhost:8080/",
          "height": 377
        },
        "outputId": "b7e58c85-2347-49c5-dd9d-995d14540f4e"
      },
      "outputs": [
        {
          "output_type": "display_data",
          "data": {
            "text/plain": [
              "<Figure size 864x432 with 1 Axes>"
            ],
            "image/png": "[encoded data removed]"
          },
          "metadata": {}
        }
      ],
      "source": [
        "plt.figure(figsize=(12,6))\n",
        "plt.title(schema.Gender)\n",
        "plt.pie(cinsiyet_sayilari, labels=cinsiyet_sayilari.index, autopct='%1.1f%%', startangle=180);"
      ]
    },
    {
      "cell_type": "markdown",
      "metadata": {
        "id": "m0CofF93lyAY"
      },
      "source": [
        "Soruyu yanıtlayan anket katılımcılarının yalnızca yaklaşık %8'i kadın veya ikili olmayan olarak tanımlamaktadır. Bu sayı, programlama topluluğundaki kadınların ve ikili olmayan cinsiyetlerin genel yüzdesinden daha düşüktür - yaklaşık %12 olduğu tahmin edilmektedir.\n",
        "\n",
        "**Alıştırma**: Anket yanıtlarını ve tercihlerini cinsiyetler arasında karşılaştırmak ilginç olurdu. Bu analizi, bu arızalarla tekrarlayalım. Göreceli eğitim seviyeleri cinsiyetler arasında nasıl farklılık gösteriyor? Maaşlar nasıl değişiyor? [Veri Biliminde Cinsiyet Ayrımı](https://medium.com/datadriveninvestor/exploratory-data-analysis-eda-understanding-the-gender-divide-in-data-science-roles-9faa5da44f5b) hakkındaki bu analizi faydalı bulabilirsiniz."
      ]
    },
    {
      "cell_type": "markdown",
      "metadata": {
        "id": "eZclxhyUlyAZ"
      },
      "source": [
        "### Eğitim Seviyesi\n",
        "\n",
        "Bilgisayar bilimlerinde örgün eğitim, programcı olmak için genellikle temel bir gereklilik olarak kabul edilir. Ancak, programlamayı öğrenmek için çevrimiçi olarak sunulan birçok ücretsiz kaynak ve eğitim vardır. Bu konuda bir fikir edinmek için katılımcıların eğitim düzeylerini karşılaştıralım. Burada yatay bir çubuk grafiği kullanacağız."
      ]
    },
    {
      "cell_type": "code",
      "execution_count": null,
      "metadata": {
        "id": "D8ME1GJPlyAZ",
        "colab": {
          "base_uri": "https://localhost:8080/",
          "height": 392
        },
        "outputId": "e845602b-a4a5-4f89-cc05-f2a82e3a0997"
      },
      "outputs": [
        {
          "output_type": "display_data",
          "data": {
            "text/plain": [
              "<Figure size 648x360 with 1 Axes>"
            ],
            "image/png": "[encoded data removed]"
          },
          "metadata": {
            "needs_background": "light"
          }
        }
      ],
      "source": [
        "sns.countplot(y=anket_df.EdLevel)\n",
        "plt.xticks(rotation=90);\n",
        "plt.title(schema['EdLevel'])\n",
        "plt.ylabel(None);"
      ]
    },
    {
      "cell_type": "markdown",
      "metadata": {
        "id": "CB0ScU2DlyAb"
      },
      "source": [
        "Ankete katılanların yarısından fazlasının bir lisans veya yüksek lisans derecesine sahip olduğu görülüyor, bu nedenle çoğu programcı biraz üniversite eğitimi almış gibi görünüyor. Ancak, sadece bu grafikten, bilgisayar bilimi diplomasına sahip olup olmadıkları net değil.\n",
        "\n",
        "**Alıştırma**: Grafik şu anda her seçenek için yanıt verenlerin sayısını göstermektedir. Bunun yerine yüzdeyi gösterecek şekilde değiştirebilir miyiz? Ayrıca, erkekler ve kadınlar için her derece için yüzdeleri karşılaştırmayı deneyelim."
      ]
    },
    {
      "cell_type": "markdown",
      "metadata": {
        "id": "cx8jvJbSlyAb"
      },
      "source": [
        "Ayrıca lisans bölümlerini de çizelim. Ancak bu sefer sayıları yüzdelere dönüştüreceğiz ve sıralamayı daha kolay hale getirmek için değerleri sıralayacağız."
      ]
    },
    {
      "cell_type": "code",
      "execution_count": null,
      "metadata": {
        "id": "wkyLA1WElyAc",
        "colab": {
          "base_uri": "https://localhost:8080/",
          "height": 35
        },
        "outputId": "a6664980-041a-41e9-c7a8-2a599c69b0a2"
      },
      "outputs": [
        {
          "output_type": "execute_result",
          "data": {
            "text/plain": [
              "'What was your primary field of study?'"
            ],
            "application/vnd.google.colaboratory.intrinsic+json": {
              "type": "string"
            }
          },
          "metadata": {},
          "execution_count": 39
        }
      ],
      "source": [
        "schema.UndergradMajor"
      ]
    },
    {
      "cell_type": "code",
      "execution_count": null,
      "metadata": {
        "id": "OG4v2_PqlyAd",
        "colab": {
          "base_uri": "https://localhost:8080/",
          "height": 362
        },
        "outputId": "13192b8d-4d63-433e-cd17-fdcff2586ba7"
      },
      "outputs": [
        {
          "output_type": "display_data",
          "data": {
            "text/plain": [
              "<Figure size 648x360 with 1 Axes>"
            ],
            "image/png": "[encoded data removed]"
          },
          "metadata": {
            "needs_background": "light"
          }
        }
      ],
      "source": [
        "lisans_yuzdesi = anket_df.UndergradMajor.value_counts() * 100 / anket_df.UndergradMajor.count()\n",
        "\n",
        "sns.barplot(x=lisans_yuzdesi, y=lisans_yuzdesi.index)\n",
        "\n",
        "plt.title(schema.UndergradMajor)\n",
        "plt.ylabel(None);\n",
        "plt.xlabel('Yüzde');"
      ]
    },
    {
      "cell_type": "markdown",
      "metadata": {
        "id": "0mvkTcDtlyAd"
      },
      "source": [
        "Üniversite diplomasına sahip programcıların %40'ının bilgisayar bilimi dışında bir çalışma alanına sahip olduğu ortaya çıktı - bu çok cesaretlendirici. Bir üniversite eğitimi genel olarak yardımcı olsa da, başarılı bir programcı olmak için bilgisayar bilimi alanında yüksek lisans yapmanıza gerek olmadığını öne sürüyor gibi görünüyor.\n",
        "\n",
        "**Alıştırma**: `NEWEdImpt` sütununu, üniversite diplomasına sahip olan ve olmayanlara kıyasla yanıtlayanlar için analiz edelim. Herhangi bir görüş farkı görüyor muyuz?"
      ]
    },
    {
      "cell_type": "code",
      "source": [
        "schema.NEWEdImpt"
      ],
      "metadata": {
        "colab": {
          "base_uri": "https://localhost:8080/",
          "height": 35
        },
        "id": "LUliT1DXbd4f",
        "outputId": "557b0dd9-f353-430a-9a62-0ce59bcb359d"
      },
      "execution_count": null,
      "outputs": [
        {
          "output_type": "execute_result",
          "data": {
            "text/plain": [
              "'How important is a formal education, such as a university degree in computer science, to your career?'"
            ],
            "application/vnd.google.colaboratory.intrinsic+json": {
              "type": "string"
            }
          },
          "metadata": {},
          "execution_count": 41
        }
      ]
    },
    {
      "cell_type": "markdown",
      "metadata": {
        "id": "85Bi1BOQlyAe"
      },
      "source": [
        "### Employment\n",
        "\n",
        "Serbest çalışma (freelancing) veya sözleşmeli çalışma (contract work), programcılar arasında yaygın bir seçimdir. Bu nedenle tam zamanlı, yarı zamanlı ve serbest çalışma arasındaki dağılımı karşılaştırmak ilginç olacaktır. `İstihdam` sütunundaki verileri görselleştirelim."
      ]
    },
    {
      "cell_type": "code",
      "execution_count": null,
      "metadata": {
        "id": "5QS6M-GclyAe",
        "colab": {
          "base_uri": "https://localhost:8080/",
          "height": 35
        },
        "outputId": "a04670bd-752e-4c7c-ea58-0873af5fb3cc"
      },
      "outputs": [
        {
          "output_type": "execute_result",
          "data": {
            "text/plain": [
              "'Which of the following best describes your current employment status?'"
            ],
            "application/vnd.google.colaboratory.intrinsic+json": {
              "type": "string"
            }
          },
          "metadata": {},
          "execution_count": 42
        }
      ],
      "source": [
        "schema.Employment"
      ]
    },
    {
      "cell_type": "code",
      "execution_count": null,
      "metadata": {
        "id": "qihsMkUqlyAf",
        "colab": {
          "base_uri": "https://localhost:8080/",
          "height": 362
        },
        "outputId": "3f40956a-feca-46b8-e612-9b230ff2b782"
      },
      "outputs": [
        {
          "output_type": "display_data",
          "data": {
            "text/plain": [
              "<Figure size 648x360 with 1 Axes>"
            ],
            "image/png": "[encoded data removed]"
          },
          "metadata": {
            "needs_background": "light"
          }
        }
      ],
      "source": [
        "(anket_df.Employment.value_counts(normalize=True, ascending=True)*100).plot(kind='barh', color='g')\n",
        "plt.title(schema.Employment)\n",
        "plt.xlabel('Yüzde');"
      ]
    },
    {
      "cell_type": "markdown",
      "metadata": {
        "id": "DHiyrlzSlyAf"
      },
      "source": [
        "Ankete katılanların %10'a yakınının yarı zamanlı veya serbest çalışan olarak çalıştığı görülmektedir.\n",
        "\n",
        "**Alıştırma**: `Enthusiast` (öğrenci veya çalışmıyor ancak iş arıyor, `Professional` (tam zamanlı, yarı zamanlı veya serbest çalışan) ve `Other` (çalışmıyor veya emekli değil) değerlerini içeren yeni bir `EmploymentType` sütunu ekleyelim. Aşağıdaki grafiklerin her biri için `Enthusiast` ve `Professional` arasındaki bir karşılaştırmayı gösterelim."
      ]
    },
    {
      "cell_type": "markdown",
      "metadata": {
        "id": "N5SmUGKplyAg"
      },
      "source": [
        "`DevType` alanı, yanıtlayanlar tarafından üstlenilen roller hakkında bilgi içerir. Soru birden fazla cevaba izin verdiğinden, doğrudan analiz etmeyi biraz zorlaştıran noktalı virgül `;` ile ayrılmış değer listelerini içerir."
      ]
    },
    {
      "cell_type": "code",
      "execution_count": null,
      "metadata": {
        "id": "e-hA9blflyAg",
        "colab": {
          "base_uri": "https://localhost:8080/",
          "height": 35
        },
        "outputId": "01a3f204-d7d3-4b14-e1a3-166834784fb0"
      },
      "outputs": [
        {
          "output_type": "execute_result",
          "data": {
            "text/plain": [
              "'Which of the following describe you? Please select all that apply.'"
            ],
            "application/vnd.google.colaboratory.intrinsic+json": {
              "type": "string"
            }
          },
          "metadata": {},
          "execution_count": 44
        }
      ],
      "source": [
        "schema.DevType"
      ]
    },
    {
      "cell_type": "code",
      "execution_count": null,
      "metadata": {
        "id": "6FT67GwAlyAh",
        "colab": {
          "base_uri": "https://localhost:8080/"
        },
        "outputId": "1be02ea0-6147-4834-fab0-ed5a1e2ea294"
      },
      "outputs": [
        {
          "output_type": "execute_result",
          "data": {
            "text/plain": [
              "Developer, full-stack                                                                                                                                                           4396\n",
              "Developer, back-end                                                                                                                                                             3056\n",
              "Developer, back-end;Developer, front-end;Developer, full-stack                                                                                                                  2214\n",
              "Developer, back-end;Developer, full-stack                                                                                                                                       1465\n",
              "Developer, front-end                                                                                                                                                            1390\n",
              "                                                                                                                                                                                ... \n",
              "Database administrator;Developer, back-end;Developer, front-end;Developer, full-stack;Developer, QA or test;Senior executive/VP                                                    1\n",
              "Database administrator;Developer, back-end;Developer, front-end;Developer, full-stack;Product manager;Senior executive/VP                                                          1\n",
              "Developer, back-end;Developer, full-stack;Developer, mobile;DevOps specialist;Educator;System administrator                                                                        1\n",
              "Data or business analyst;Database administrator;Developer, back-end;Developer, desktop or enterprise applications;Developer, front-end;Developer, mobile;Engineering manager       1\n",
              "Data or business analyst;Developer, mobile;Senior executive/VP;System administrator                                                                                                1\n",
              "Name: DevType, Length: 8213, dtype: int64"
            ]
          },
          "metadata": {},
          "execution_count": 45
        }
      ],
      "source": [
        "anket_df.DevType.value_counts()"
      ]
    },
    {
      "cell_type": "markdown",
      "metadata": {
        "id": "l4ruA7xulyAh"
      },
      "source": [
        "Değer listelerini içeren bir sütunu (`anket_df.DevType` gibi) her olası seçenek için sütun içeren bir veri çerçevesine dönüştüren yardımcı bir fonksiyon tanımlayalım."
      ]
    },
    {
      "cell_type": "code",
      "execution_count": null,
      "metadata": {
        "id": "GZDcAQQolyAh"
      },
      "outputs": [],
      "source": [
        "def split_multicolumn(col_series):\n",
        "    sonuc_df = col_series.to_frame()\n",
        "    options = []\n",
        "    # Iterate over the column\n",
        "    for idx, value  in col_series[col_series.notnull()].iteritems():\n",
        "        # Break each value into list of options\n",
        "        for option in value.split(';'):\n",
        "            # Add the option as a column to result\n",
        "            if not option in sonuc_df.columns:\n",
        "                options.append(option)\n",
        "                sonuc_df[option] = False\n",
        "            # Mark the value in the option column as True\n",
        "            sonuc_df.at[idx, option] = True\n",
        "    return sonuc_df[options]"
      ]
    },
    {
      "cell_type": "code",
      "execution_count": null,
      "metadata": {
        "id": "7X9usy4ilyAi"
      },
      "outputs": [],
      "source": [
        "dev_type_df = split_multicolumn(anket_df.DevType)"
      ]
    },
    {
      "cell_type": "code",
      "execution_count": null,
      "metadata": {
        "id": "ZTkxWUialyAj",
        "colab": {
          "base_uri": "https://localhost:8080/",
          "height": 557
        },
        "outputId": "854758e2-141e-4b68-90a7-0d41af99f340"
      },
      "outputs": [
        {
          "output_type": "execute_result",
          "data": {
            "text/plain": [
              "       Developer, desktop or enterprise applications  Developer, full-stack  \\\n",
              "0                                               True                   True   \n",
              "1                                              False                   True   \n",
              "2                                              False                  False   \n",
              "3                                              False                  False   \n",
              "4                                              False                  False   \n",
              "...                                              ...                    ...   \n",
              "64456                                          False                  False   \n",
              "64457                                          False                  False   \n",
              "64458                                          False                  False   \n",
              "64459                                          False                  False   \n",
              "64460                                          False                  False   \n",
              "\n",
              "       Developer, mobile  Designer  Developer, front-end  Developer, back-end  \\\n",
              "0                  False     False                 False                False   \n",
              "1                   True     False                 False                False   \n",
              "2                  False     False                 False                False   \n",
              "3                  False     False                 False                False   \n",
              "4                  False     False                 False                False   \n",
              "...                  ...       ...                   ...                  ...   \n",
              "64456              False     False                 False                False   \n",
              "64457              False     False                 False                False   \n",
              "64458              False     False                 False                False   \n",
              "64459              False     False                 False                False   \n",
              "64460              False     False                 False                False   \n",
              "\n",
              "       Developer, QA or test  DevOps specialist  Developer, game or graphics  \\\n",
              "0                      False              False                        False   \n",
              "1                      False              False                        False   \n",
              "2                      False              False                        False   \n",
              "3                      False              False                        False   \n",
              "4                      False              False                        False   \n",
              "...                      ...                ...                          ...   \n",
              "64456                  False              False                        False   \n",
              "64457                  False              False                        False   \n",
              "64458                  False              False                        False   \n",
              "64459                  False              False                        False   \n",
              "64460                  False              False                        False   \n",
              "\n",
              "       Database administrator  ...  System administrator  Engineering manager  \\\n",
              "0                       False  ...                 False                False   \n",
              "1                       False  ...                 False                False   \n",
              "2                       False  ...                 False                False   \n",
              "3                       False  ...                 False                False   \n",
              "4                       False  ...                 False                False   \n",
              "...                       ...  ...                   ...                  ...   \n",
              "64456                   False  ...                 False                False   \n",
              "64457                   False  ...                 False                False   \n",
              "64458                   False  ...                 False                False   \n",
              "64459                   False  ...                 False                False   \n",
              "64460                   False  ...                 False                False   \n",
              "\n",
              "       Product manager  Data or business analyst  Academic researcher  \\\n",
              "0                False                     False                False   \n",
              "1                False                     False                False   \n",
              "2                False                     False                False   \n",
              "3                False                     False                False   \n",
              "4                False                     False                False   \n",
              "...                ...                       ...                  ...   \n",
              "64456            False                     False                False   \n",
              "64457            False                     False                False   \n",
              "64458            False                     False                False   \n",
              "64459            False                     False                False   \n",
              "64460            False                     False                False   \n",
              "\n",
              "       Data scientist or machine learning specialist  Scientist  \\\n",
              "0                                              False      False   \n",
              "1                                              False      False   \n",
              "2                                              False      False   \n",
              "3                                              False      False   \n",
              "4                                              False      False   \n",
              "...                                              ...        ...   \n",
              "64456                                          False      False   \n",
              "64457                                          False      False   \n",
              "64458                                          False      False   \n",
              "64459                                          False      False   \n",
              "64460                                          False      False   \n",
              "\n",
              "       Senior executive/VP  Engineer, site reliability  \\\n",
              "0                    False                       False   \n",
              "1                    False                       False   \n",
              "2                    False                       False   \n",
              "3                    False                       False   \n",
              "4                    False                       False   \n",
              "...                    ...                         ...   \n",
              "64456                 True                       False   \n",
              "64457                False                       False   \n",
              "64458                False                       False   \n",
              "64459                False                       False   \n",
              "64460                False                       False   \n",
              "\n",
              "       Marketing or sales professional  \n",
              "0                                False  \n",
              "1                                False  \n",
              "2                                False  \n",
              "3                                False  \n",
              "4                                False  \n",
              "...                                ...  \n",
              "64456                            False  \n",
              "64457                            False  \n",
              "64458                            False  \n",
              "64459                            False  \n",
              "64460                            False  \n",
              "\n",
              "[64306 rows x 23 columns]"
            ],
            "text/html": [
              "\n",
              "  <div id=\"df-2f5199d2-00ab-4a81-9af7-33f95dc9d6a0\">\n",
              "    <div class=\"colab-df-container\">\n",
              "      <div>\n",
              "<style scoped>\n",
              "    .dataframe tbody tr th:only-of-type {\n",
              "        vertical-align: middle;\n",
              "    }\n",
              "\n",
              "    .dataframe tbody tr th {\n",
              "        vertical-align: top;\n",
              "    }\n",
              "\n",
              "    .dataframe thead th {\n",
              "        text-align: right;\n",
              "    }\n",
              "</style>\n",
              "<table border=\"1\" class=\"dataframe\">\n",
              "  <thead>\n",
              "    <tr style=\"text-align: right;\">\n",
              "      <th></th>\n",
              "      <th>Developer, desktop or enterprise applications</th>\n",
              "      <th>Developer, full-stack</th>\n",
              "      <th>Developer, mobile</th>\n",
              "      <th>Designer</th>\n",
              "      <th>Developer, front-end</th>\n",
              "      <th>Developer, back-end</th>\n",
              "      <th>Developer, QA or test</th>\n",
              "      <th>DevOps specialist</th>\n",
              "      <th>Developer, game or graphics</th>\n",
              "      <th>Database administrator</th>\n",
              "      <th>...</th>\n",
              "      <th>System administrator</th>\n",
              "      <th>Engineering manager</th>\n",
              "      <th>Product manager</th>\n",
              "      <th>Data or business analyst</th>\n",
              "      <th>Academic researcher</th>\n",
              "      <th>Data scientist or machine learning specialist</th>\n",
              "      <th>Scientist</th>\n",
              "      <th>Senior executive/VP</th>\n",
              "      <th>Engineer, site reliability</th>\n",
              "      <th>Marketing or sales professional</th>\n",
              "    </tr>\n",
              "  </thead>\n",
              "  <tbody>\n",
              "    <tr>\n",
              "      <th>0</th>\n",
              "      <td>True</td>\n",
              "      <td>True</td>\n",
              "      <td>False</td>\n",
              "      <td>False</td>\n",
              "      <td>False</td>\n",
              "      <td>False</td>\n",
              "      <td>False</td>\n",
              "      <td>False</td>\n",
              "      <td>False</td>\n",
              "      <td>False</td>\n",
              "      <td>...</td>\n",
              "      <td>False</td>\n",
              "      <td>False</td>\n",
              "      <td>False</td>\n",
              "      <td>False</td>\n",
              "      <td>False</td>\n",
              "      <td>False</td>\n",
              "      <td>False</td>\n",
              "      <td>False</td>\n",
              "      <td>False</td>\n",
              "      <td>False</td>\n",
              "    </tr>\n",
              "    <tr>\n",
              "      <th>1</th>\n",
              "      <td>False</td>\n",
              "      <td>True</td>\n",
              "      <td>True</td>\n",
              "      <td>False</td>\n",
              "      <td>False</td>\n",
              "      <td>False</td>\n",
              "      <td>False</td>\n",
              "      <td>False</td>\n",
              "      <td>False</td>\n",
              "      <td>False</td>\n",
              "      <td>...</td>\n",
              "      <td>False</td>\n",
              "      <td>False</td>\n",
              "      <td>False</td>\n",
              "      <td>False</td>\n",
              "      <td>False</td>\n",
              "      <td>False</td>\n",
              "      <td>False</td>\n",
              "      <td>False</td>\n",
              "      <td>False</td>\n",
              "      <td>False</td>\n",
              "    </tr>\n",
              "    <tr>\n",
              "      <th>2</th>\n",
              "      <td>False</td>\n",
              "      <td>False</td>\n",
              "      <td>False</td>\n",
              "      <td>False</td>\n",
              "      <td>False</td>\n",
              "      <td>False</td>\n",
              "      <td>False</td>\n",
              "      <td>False</td>\n",
              "      <td>False</td>\n",
              "      <td>False</td>\n",
              "      <td>...</td>\n",
              "      <td>False</td>\n",
              "      <td>False</td>\n",
              "      <td>False</td>\n",
              "      <td>False</td>\n",
              "      <td>False</td>\n",
              "      <td>False</td>\n",
              "      <td>False</td>\n",
              "      <td>False</td>\n",
              "      <td>False</td>\n",
              "      <td>False</td>\n",
              "    </tr>\n",
              "    <tr>\n",
              "      <th>3</th>\n",
              "      <td>False</td>\n",
              "      <td>False</td>\n",
              "      <td>False</td>\n",
              "      <td>False</td>\n",
              "      <td>False</td>\n",
              "      <td>False</td>\n",
              "      <td>False</td>\n",
              "      <td>False</td>\n",
              "      <td>False</td>\n",
              "      <td>False</td>\n",
              "      <td>...</td>\n",
              "      <td>False</td>\n",
              "      <td>False</td>\n",
              "      <td>False</td>\n",
              "      <td>False</td>\n",
              "      <td>False</td>\n",
              "      <td>False</td>\n",
              "      <td>False</td>\n",
              "      <td>False</td>\n",
              "      <td>False</td>\n",
              "      <td>False</td>\n",
              "    </tr>\n",
              "    <tr>\n",
              "      <th>4</th>\n",
              "      <td>False</td>\n",
              "      <td>False</td>\n",
              "      <td>False</td>\n",
              "      <td>False</td>\n",
              "      <td>False</td>\n",
              "      <td>False</td>\n",
              "      <td>False</td>\n",
              "      <td>False</td>\n",
              "      <td>False</td>\n",
              "      <td>False</td>\n",
              "      <td>...</td>\n",
              "      <td>False</td>\n",
              "      <td>False</td>\n",
              "      <td>False</td>\n",
              "      <td>False</td>\n",
              "      <td>False</td>\n",
              "      <td>False</td>\n",
              "      <td>False</td>\n",
              "      <td>False</td>\n",
              "      <td>False</td>\n",
              "      <td>False</td>\n",
              "    </tr>\n",
              "    <tr>\n",
              "      <th>...</th>\n",
              "      <td>...</td>\n",
              "      <td>...</td>\n",
              "      <td>...</td>\n",
              "      <td>...</td>\n",
              "      <td>...</td>\n",
              "      <td>...</td>\n",
              "      <td>...</td>\n",
              "      <td>...</td>\n",
              "      <td>...</td>\n",
              "      <td>...</td>\n",
              "      <td>...</td>\n",
              "      <td>...</td>\n",
              "      <td>...</td>\n",
              "      <td>...</td>\n",
              "      <td>...</td>\n",
              "      <td>...</td>\n",
              "      <td>...</td>\n",
              "      <td>...</td>\n",
              "      <td>...</td>\n",
              "      <td>...</td>\n",
              "      <td>...</td>\n",
              "    </tr>\n",
              "    <tr>\n",
              "      <th>64456</th>\n",
              "      <td>False</td>\n",
              "      <td>False</td>\n",
              "      <td>False</td>\n",
              "      <td>False</td>\n",
              "      <td>False</td>\n",
              "      <td>False</td>\n",
              "      <td>False</td>\n",
              "      <td>False</td>\n",
              "      <td>False</td>\n",
              "      <td>False</td>\n",
              "      <td>...</td>\n",
              "      <td>False</td>\n",
              "      <td>False</td>\n",
              "      <td>False</td>\n",
              "      <td>False</td>\n",
              "      <td>False</td>\n",
              "      <td>False</td>\n",
              "      <td>False</td>\n",
              "      <td>True</td>\n",
              "      <td>False</td>\n",
              "      <td>False</td>\n",
              "    </tr>\n",
              "    <tr>\n",
              "      <th>64457</th>\n",
              "      <td>False</td>\n",
              "      <td>False</td>\n",
              "      <td>False</td>\n",
              "      <td>False</td>\n",
              "      <td>False</td>\n",
              "      <td>False</td>\n",
              "      <td>False</td>\n",
              "      <td>False</td>\n",
              "      <td>False</td>\n",
              "      <td>False</td>\n",
              "      <td>...</td>\n",
              "      <td>False</td>\n",
              "      <td>False</td>\n",
              "      <td>False</td>\n",
              "      <td>False</td>\n",
              "      <td>False</td>\n",
              "      <td>False</td>\n",
              "      <td>False</td>\n",
              "      <td>False</td>\n",
              "      <td>False</td>\n",
              "      <td>False</td>\n",
              "    </tr>\n",
              "    <tr>\n",
              "      <th>64458</th>\n",
              "      <td>False</td>\n",
              "      <td>False</td>\n",
              "      <td>False</td>\n",
              "      <td>False</td>\n",
              "      <td>False</td>\n",
              "      <td>False</td>\n",
              "      <td>False</td>\n",
              "      <td>False</td>\n",
              "      <td>False</td>\n",
              "      <td>False</td>\n",
              "      <td>...</td>\n",
              "      <td>False</td>\n",
              "      <td>False</td>\n",
              "      <td>False</td>\n",
              "      <td>False</td>\n",
              "      <td>False</td>\n",
              "      <td>False</td>\n",
              "      <td>False</td>\n",
              "      <td>False</td>\n",
              "      <td>False</td>\n",
              "      <td>False</td>\n",
              "    </tr>\n",
              "    <tr>\n",
              "      <th>64459</th>\n",
              "      <td>False</td>\n",
              "      <td>False</td>\n",
              "      <td>False</td>\n",
              "      <td>False</td>\n",
              "      <td>False</td>\n",
              "      <td>False</td>\n",
              "      <td>False</td>\n",
              "      <td>False</td>\n",
              "      <td>False</td>\n",
              "      <td>False</td>\n",
              "      <td>...</td>\n",
              "      <td>False</td>\n",
              "      <td>False</td>\n",
              "      <td>False</td>\n",
              "      <td>False</td>\n",
              "      <td>False</td>\n",
              "      <td>False</td>\n",
              "      <td>False</td>\n",
              "      <td>False</td>\n",
              "      <td>False</td>\n",
              "      <td>False</td>\n",
              "    </tr>\n",
              "    <tr>\n",
              "      <th>64460</th>\n",
              "      <td>False</td>\n",
              "      <td>False</td>\n",
              "      <td>False</td>\n",
              "      <td>False</td>\n",
              "      <td>False</td>\n",
              "      <td>False</td>\n",
              "      <td>False</td>\n",
              "      <td>False</td>\n",
              "      <td>False</td>\n",
              "      <td>False</td>\n",
              "      <td>...</td>\n",
              "      <td>False</td>\n",
              "      <td>False</td>\n",
              "      <td>False</td>\n",
              "      <td>False</td>\n",
              "      <td>False</td>\n",
              "      <td>False</td>\n",
              "      <td>False</td>\n",
              "      <td>False</td>\n",
              "      <td>False</td>\n",
              "      <td>False</td>\n",
              "    </tr>\n",
              "  </tbody>\n",
              "</table>\n",
              "<p>64306 rows × 23 columns</p>\n",
              "</div>\n",
              "      <button class=\"colab-df-convert\" onclick=\"convertToInteractive('df-2f5199d2-00ab-4a81-9af7-33f95dc9d6a0')\"\n",
              "              title=\"Convert this dataframe to an interactive table.\"\n",
              "              style=\"display:none;\">\n",
              "        \n",
              "  <svg xmlns=\"http://www.w3.org/2000/svg\" height=\"24px\"viewBox=\"0 0 24 24\"\n",
              "       width=\"24px\">\n",
              "    <path d=\"M0 0h24v24H0V0z\" fill=\"none\"/>\n",
              "    <path d=\"M18.56 5.44l.94 2.06.94-2.06 2.06-.94-2.06-.94-.94-2.06-.94 2.06-2.06.94zm-11 1L8.5 8.5l.94-2.06 2.06-.94-2.06-.94L8.5 2.5l-.94 2.06-2.06.94zm10 10l.94 2.06.94-2.06 2.06-.94-2.06-.94-.94-2.06-.94 2.06-2.06.94z\"/><path d=\"M17.41 7.96l-1.37-1.37c-.4-.4-.92-.59-1.43-.59-.52 0-1.04.2-1.43.59L10.3 9.45l-7.72 7.72c-.78.78-.78 2.05 0 2.83L4 21.41c.39.39.9.59 1.41.59.51 0 1.02-.2 1.41-.59l7.78-7.78 2.81-2.81c.8-.78.8-2.07 0-2.86zM5.41 20L4 18.59l7.72-7.72 1.47 1.35L5.41 20z\"/>\n",
              "  </svg>\n",
              "      </button>\n",
              "      \n",
              "  <style>\n",
              "    .colab-df-container {\n",
              "      display:flex;\n",
              "      flex-wrap:wrap;\n",
              "      gap: 12px;\n",
              "    }\n",
              "\n",
              "    .colab-df-convert {\n",
              "      background-color: #E8F0FE;\n",
              "      border: none;\n",
              "      border-radius: 50%;\n",
              "      cursor: pointer;\n",
              "      display: none;\n",
              "      fill: #1967D2;\n",
              "      height: 32px;\n",
              "      padding: 0 0 0 0;\n",
              "      width: 32px;\n",
              "    }\n",
              "\n",
              "    .colab-df-convert:hover {\n",
              "      background-color: #E2EBFA;\n",
              "      box-shadow: 0px 1px 2px rgba(60, 64, 67, 0.3), 0px 1px 3px 1px rgba(60, 64, 67, 0.15);\n",
              "      fill: #174EA6;\n",
              "    }\n",
              "\n",
              "    [theme=dark] .colab-df-convert {\n",
              "      background-color: #3B4455;\n",
              "      fill: #D2E3FC;\n",
              "    }\n",
              "\n",
              "    [theme=dark] .colab-df-convert:hover {\n",
              "      background-color: #434B5C;\n",
              "      box-shadow: 0px 1px 3px 1px rgba(0, 0, 0, 0.15);\n",
              "      filter: drop-shadow(0px 1px 2px rgba(0, 0, 0, 0.3));\n",
              "      fill: #FFFFFF;\n",
              "    }\n",
              "  </style>\n",
              "\n",
              "      <script>\n",
              "        const buttonEl =\n",
              "          document.querySelector('#df-2f5199d2-00ab-4a81-9af7-33f95dc9d6a0 button.colab-df-convert');\n",
              "        buttonEl.style.display =\n",
              "          google.colab.kernel.accessAllowed ? 'block' : 'none';\n",
              "\n",
              "        async function convertToInteractive(key) {\n",
              "          const element = document.querySelector('#df-2f5199d2-00ab-4a81-9af7-33f95dc9d6a0');\n",
              "          const dataTable =\n",
              "            await google.colab.kernel.invokeFunction('convertToInteractive',\n",
              "                                                     [key], {});\n",
              "          if (!dataTable) return;\n",
              "\n",
              "          const docLinkHtml = 'Like what you see? Visit the ' +\n",
              "            '<a target=\"_blank\" href=https://colab.research.google.com/notebooks/data_table.ipynb>data table notebook</a>'\n",
              "            + ' to learn more about interactive tables.';\n",
              "          element.innerHTML = '';\n",
              "          dataTable['output_type'] = 'display_data';\n",
              "          await google.colab.output.renderOutput(dataTable, element);\n",
              "          const docLink = document.createElement('div');\n",
              "          docLink.innerHTML = docLinkHtml;\n",
              "          element.appendChild(docLink);\n",
              "        }\n",
              "      </script>\n",
              "    </div>\n",
              "  </div>\n",
              "  "
            ]
          },
          "metadata": {},
          "execution_count": 48
        }
      ],
      "source": [
        "dev_type_df"
      ]
    },
    {
      "cell_type": "markdown",
      "metadata": {
        "id": "_1T8tKSUlyAj"
      },
      "source": [
        "`dev_type_df`, yanıt olarak seçilebilecek her seçenek için bir sütuna sahiptir. Yanıtlayan bir seçenek belirlediyse, ilgili sütunun değeri `True` olur. Aksi takdirde, `False` olur.\n",
        "\n",
        "Artık en yaygın rolleri belirlemek için sütun bazında toplamları kullanabiliriz."
      ]
    },
    {
      "cell_type": "code",
      "execution_count": null,
      "metadata": {
        "id": "JelDQhAJlyAk"
      },
      "outputs": [],
      "source": [
        "dev_type_totals = dev_type_df.sum().sort_values(ascending=False)"
      ]
    },
    {
      "cell_type": "code",
      "source": [
        "dev_type_totals"
      ],
      "metadata": {
        "colab": {
          "base_uri": "https://localhost:8080/"
        },
        "id": "UscZ8JaJp8_R",
        "outputId": "4c49d995-cffa-48fa-ed13-424643014d1d"
      },
      "execution_count": null,
      "outputs": [
        {
          "output_type": "execute_result",
          "data": {
            "text/plain": [
              "Developer, back-end                              26996\n",
              "Developer, full-stack                            26915\n",
              "Developer, front-end                             18128\n",
              "Developer, desktop or enterprise applications    11687\n",
              "Developer, mobile                                 9406\n",
              "DevOps specialist                                 5915\n",
              "Database administrator                            5658\n",
              "Designer                                          5262\n",
              "System administrator                              5185\n",
              "Developer, embedded applications or devices       4701\n",
              "Data or business analyst                          3970\n",
              "Data scientist or machine learning specialist     3939\n",
              "Developer, QA or test                             3893\n",
              "Engineer, data                                    3700\n",
              "Academic researcher                               3502\n",
              "Educator                                          2895\n",
              "Developer, game or graphics                       2751\n",
              "Engineering manager                               2699\n",
              "Product manager                                   2471\n",
              "Scientist                                         2060\n",
              "Engineer, site reliability                        1921\n",
              "Senior executive/VP                               1292\n",
              "Marketing or sales professional                    625\n",
              "dtype: int64"
            ]
          },
          "metadata": {},
          "execution_count": 50
        }
      ]
    },
    {
      "cell_type": "markdown",
      "metadata": {
        "id": "rUjUBXjrlyAk"
      },
      "source": [
        "Tahmin edilebileceği gibi, en yaygın roller isimde \"Geliştirici (Developer)\"yi içerir.\n",
        "\n",
        "**Alıştırmalar**: \n",
        "\n",
        "* Ankete katılanların yüzde kaçının veri bilimi ile ilgili rollerde çalıştığını anlayabiliyor musunuz?\n",
        "* Hangi pozisyonlarda kadın oranı en yüksek?"
      ]
    },
    {
      "cell_type": "markdown",
      "metadata": {
        "id": "Ih-3SpR0lyAl"
      },
      "source": [
        "Seçtiğimiz 20 sütundan yalnızca birkaç sütunu inceledik. Aşağıdaki boş hücreleri kullanarak kalan sütunları keşfedelim ve görselleştirelim."
      ]
    },
    {
      "cell_type": "code",
      "execution_count": null,
      "metadata": {
        "id": "rfD4gb8HlyAl"
      },
      "outputs": [],
      "source": [
        ""
      ]
    },
    {
      "cell_type": "code",
      "execution_count": null,
      "metadata": {
        "id": "mRqTKa3IlyAl"
      },
      "outputs": [],
      "source": [
        ""
      ]
    },
    {
      "cell_type": "code",
      "execution_count": null,
      "metadata": {
        "id": "5v6wYQqYlyAm"
      },
      "outputs": [],
      "source": [
        ""
      ]
    },
    {
      "cell_type": "markdown",
      "metadata": {
        "id": "t0llaLQUlyAn"
      },
      "source": [
        "## Soru Sorma ve Cevaplama\n",
        "\n",
        "Veri kümesinin tek tek sütunlarını keşfederek yanıtlayanlar ve programlama topluluğu hakkında zaten birkaç fikir edindik. Bazı özel sorular soralım ve veri çerçevesi işlemlerini ve görselleştirmeleri kullanarak bunları yanıtlamaya çalışalım."
      ]
    },
    {
      "cell_type": "markdown",
      "metadata": {
        "id": "YS1TrxrclyAo"
      },
      "source": [
        "#### Soru: 2020'de en popüler programlama dilleri hangileri?\n",
        "\n",
        "Bunu yanıtlamak için `LanguageWorkedWith` sütununu kullanabiliriz. `DevType`'a benzer şekilde, yanıtlayanların burada birden fazla seçenek seçmesine izin verildi."
      ]
    },
    {
      "cell_type": "code",
      "execution_count": null,
      "metadata": {
        "id": "Hkpi2WI6lyAo",
        "colab": {
          "base_uri": "https://localhost:8080/"
        },
        "outputId": "272058f7-ef52-4d7c-ebdf-c6e4f1cf02d8"
      },
      "outputs": [
        {
          "output_type": "execute_result",
          "data": {
            "text/plain": [
              "0                                   C#;HTML/CSS;JavaScript\n",
              "1                                         JavaScript;Swift\n",
              "2                                 Objective-C;Python;Swift\n",
              "3                                                      NaN\n",
              "4                                        HTML/CSS;Ruby;SQL\n",
              "                               ...                        \n",
              "64456                                                  NaN\n",
              "64457    Assembly;Bash/Shell/PowerShell;C;C#;C++;Dart;G...\n",
              "64458                                                  NaN\n",
              "64459                                             HTML/CSS\n",
              "64460                      C#;HTML/CSS;Java;JavaScript;SQL\n",
              "Name: LanguageWorkedWith, Length: 64306, dtype: object"
            ]
          },
          "metadata": {},
          "execution_count": 51
        }
      ],
      "source": [
        "anket_df.LanguageWorkedWith"
      ]
    },
    {
      "cell_type": "markdown",
      "metadata": {
        "id": "HCd_uq8zlyAp"
      },
      "source": [
        "İlk olarak, bu sütunu, seçeneklerde listelenen her dilin bir sütununu içeren bir veri çerçevesine ayıracağız."
      ]
    },
    {
      "cell_type": "code",
      "execution_count": null,
      "metadata": {
        "id": "mssW1cPAlyAp"
      },
      "outputs": [],
      "source": [
        "languages_worked_df = split_multicolumn(anket_df.LanguageWorkedWith)"
      ]
    },
    {
      "cell_type": "code",
      "execution_count": null,
      "metadata": {
        "id": "3PnIBfCHlyAq",
        "colab": {
          "base_uri": "https://localhost:8080/",
          "height": 424
        },
        "outputId": "27b7a961-6d72-4b84-8c93-81b9c678c915"
      },
      "outputs": [
        {
          "output_type": "execute_result",
          "data": {
            "text/plain": [
              "          C#  HTML/CSS  JavaScript  Swift  Objective-C  Python   Ruby    SQL  \\\n",
              "0       True      True        True  False        False   False  False  False   \n",
              "1      False     False        True   True        False   False  False  False   \n",
              "2      False     False       False   True         True    True  False  False   \n",
              "3      False     False       False  False        False   False  False  False   \n",
              "4      False      True       False  False        False   False   True   True   \n",
              "...      ...       ...         ...    ...          ...     ...    ...    ...   \n",
              "64456  False     False       False  False        False   False  False  False   \n",
              "64457   True      True        True   True         True    True   True   True   \n",
              "64458  False     False       False  False        False   False  False  False   \n",
              "64459  False      True       False  False        False   False  False  False   \n",
              "64460   True      True        True  False        False   False  False   True   \n",
              "\n",
              "        Java    PHP  ...    VBA   Perl  Scala    C++     Go  Haskell   Rust  \\\n",
              "0      False  False  ...  False  False  False  False  False    False  False   \n",
              "1      False  False  ...  False  False  False  False  False    False  False   \n",
              "2      False  False  ...  False  False  False  False  False    False  False   \n",
              "3      False  False  ...  False  False  False  False  False    False  False   \n",
              "4      False  False  ...  False  False  False  False  False    False  False   \n",
              "...      ...    ...  ...    ...    ...    ...    ...    ...      ...    ...   \n",
              "64456  False  False  ...  False  False  False  False  False    False  False   \n",
              "64457   True   True  ...   True   True   True   True   True     True   True   \n",
              "64458  False  False  ...  False  False  False  False  False    False  False   \n",
              "64459  False  False  ...  False  False  False  False  False    False  False   \n",
              "64460   True  False  ...  False  False  False  False  False    False  False   \n",
              "\n",
              "        Dart  Julia  Assembly  \n",
              "0      False  False     False  \n",
              "1      False  False     False  \n",
              "2      False  False     False  \n",
              "3      False  False     False  \n",
              "4      False  False     False  \n",
              "...      ...    ...       ...  \n",
              "64456  False  False     False  \n",
              "64457   True   True      True  \n",
              "64458  False  False     False  \n",
              "64459  False  False     False  \n",
              "64460  False  False     False  \n",
              "\n",
              "[64306 rows x 25 columns]"
            ],
            "text/html": [
              "\n",
              "  <div id=\"df-080466ef-5f3c-4815-9d51-e762cfecdb30\">\n",
              "    <div class=\"colab-df-container\">\n",
              "      <div>\n",
              "<style scoped>\n",
              "    .dataframe tbody tr th:only-of-type {\n",
              "        vertical-align: middle;\n",
              "    }\n",
              "\n",
              "    .dataframe tbody tr th {\n",
              "        vertical-align: top;\n",
              "    }\n",
              "\n",
              "    .dataframe thead th {\n",
              "        text-align: right;\n",
              "    }\n",
              "</style>\n",
              "<table border=\"1\" class=\"dataframe\">\n",
              "  <thead>\n",
              "    <tr style=\"text-align: right;\">\n",
              "      <th></th>\n",
              "      <th>C#</th>\n",
              "      <th>HTML/CSS</th>\n",
              "      <th>JavaScript</th>\n",
              "      <th>Swift</th>\n",
              "      <th>Objective-C</th>\n",
              "      <th>Python</th>\n",
              "      <th>Ruby</th>\n",
              "      <th>SQL</th>\n",
              "      <th>Java</th>\n",
              "      <th>PHP</th>\n",
              "      <th>...</th>\n",
              "      <th>VBA</th>\n",
              "      <th>Perl</th>\n",
              "      <th>Scala</th>\n",
              "      <th>C++</th>\n",
              "      <th>Go</th>\n",
              "      <th>Haskell</th>\n",
              "      <th>Rust</th>\n",
              "      <th>Dart</th>\n",
              "      <th>Julia</th>\n",
              "      <th>Assembly</th>\n",
              "    </tr>\n",
              "  </thead>\n",
              "  <tbody>\n",
              "    <tr>\n",
              "      <th>0</th>\n",
              "      <td>True</td>\n",
              "      <td>True</td>\n",
              "      <td>True</td>\n",
              "      <td>False</td>\n",
              "      <td>False</td>\n",
              "      <td>False</td>\n",
              "      <td>False</td>\n",
              "      <td>False</td>\n",
              "      <td>False</td>\n",
              "      <td>False</td>\n",
              "      <td>...</td>\n",
              "      <td>False</td>\n",
              "      <td>False</td>\n",
              "      <td>False</td>\n",
              "      <td>False</td>\n",
              "      <td>False</td>\n",
              "      <td>False</td>\n",
              "      <td>False</td>\n",
              "      <td>False</td>\n",
              "      <td>False</td>\n",
              "      <td>False</td>\n",
              "    </tr>\n",
              "    <tr>\n",
              "      <th>1</th>\n",
              "      <td>False</td>\n",
              "      <td>False</td>\n",
              "      <td>True</td>\n",
              "      <td>True</td>\n",
              "      <td>False</td>\n",
              "      <td>False</td>\n",
              "      <td>False</td>\n",
              "      <td>False</td>\n",
              "      <td>False</td>\n",
              "      <td>False</td>\n",
              "      <td>...</td>\n",
              "      <td>False</td>\n",
              "      <td>False</td>\n",
              "      <td>False</td>\n",
              "      <td>False</td>\n",
              "      <td>False</td>\n",
              "      <td>False</td>\n",
              "      <td>False</td>\n",
              "      <td>False</td>\n",
              "      <td>False</td>\n",
              "      <td>False</td>\n",
              "    </tr>\n",
              "    <tr>\n",
              "      <th>2</th>\n",
              "      <td>False</td>\n",
              "      <td>False</td>\n",
              "      <td>False</td>\n",
              "      <td>True</td>\n",
              "      <td>True</td>\n",
              "      <td>True</td>\n",
              "      <td>False</td>\n",
              "      <td>False</td>\n",
              "      <td>False</td>\n",
              "      <td>False</td>\n",
              "      <td>...</td>\n",
              "      <td>False</td>\n",
              "      <td>False</td>\n",
              "      <td>False</td>\n",
              "      <td>False</td>\n",
              "      <td>False</td>\n",
              "      <td>False</td>\n",
              "      <td>False</td>\n",
              "      <td>False</td>\n",
              "      <td>False</td>\n",
              "      <td>False</td>\n",
              "    </tr>\n",
              "    <tr>\n",
              "      <th>3</th>\n",
              "      <td>False</td>\n",
              "      <td>False</td>\n",
              "      <td>False</td>\n",
              "      <td>False</td>\n",
              "      <td>False</td>\n",
              "      <td>False</td>\n",
              "      <td>False</td>\n",
              "      <td>False</td>\n",
              "      <td>False</td>\n",
              "      <td>False</td>\n",
              "      <td>...</td>\n",
              "      <td>False</td>\n",
              "      <td>False</td>\n",
              "      <td>False</td>\n",
              "      <td>False</td>\n",
              "      <td>False</td>\n",
              "      <td>False</td>\n",
              "      <td>False</td>\n",
              "      <td>False</td>\n",
              "      <td>False</td>\n",
              "      <td>False</td>\n",
              "    </tr>\n",
              "    <tr>\n",
              "      <th>4</th>\n",
              "      <td>False</td>\n",
              "      <td>True</td>\n",
              "      <td>False</td>\n",
              "      <td>False</td>\n",
              "      <td>False</td>\n",
              "      <td>False</td>\n",
              "      <td>True</td>\n",
              "      <td>True</td>\n",
              "      <td>False</td>\n",
              "      <td>False</td>\n",
              "      <td>...</td>\n",
              "      <td>False</td>\n",
              "      <td>False</td>\n",
              "      <td>False</td>\n",
              "      <td>False</td>\n",
              "      <td>False</td>\n",
              "      <td>False</td>\n",
              "      <td>False</td>\n",
              "      <td>False</td>\n",
              "      <td>False</td>\n",
              "      <td>False</td>\n",
              "    </tr>\n",
              "    <tr>\n",
              "      <th>...</th>\n",
              "      <td>...</td>\n",
              "      <td>...</td>\n",
              "      <td>...</td>\n",
              "      <td>...</td>\n",
              "      <td>...</td>\n",
              "      <td>...</td>\n",
              "      <td>...</td>\n",
              "      <td>...</td>\n",
              "      <td>...</td>\n",
              "      <td>...</td>\n",
              "      <td>...</td>\n",
              "      <td>...</td>\n",
              "      <td>...</td>\n",
              "      <td>...</td>\n",
              "      <td>...</td>\n",
              "      <td>...</td>\n",
              "      <td>...</td>\n",
              "      <td>...</td>\n",
              "      <td>...</td>\n",
              "      <td>...</td>\n",
              "      <td>...</td>\n",
              "    </tr>\n",
              "    <tr>\n",
              "      <th>64456</th>\n",
              "      <td>False</td>\n",
              "      <td>False</td>\n",
              "      <td>False</td>\n",
              "      <td>False</td>\n",
              "      <td>False</td>\n",
              "      <td>False</td>\n",
              "      <td>False</td>\n",
              "      <td>False</td>\n",
              "      <td>False</td>\n",
              "      <td>False</td>\n",
              "      <td>...</td>\n",
              "      <td>False</td>\n",
              "      <td>False</td>\n",
              "      <td>False</td>\n",
              "      <td>False</td>\n",
              "      <td>False</td>\n",
              "      <td>False</td>\n",
              "      <td>False</td>\n",
              "      <td>False</td>\n",
              "      <td>False</td>\n",
              "      <td>False</td>\n",
              "    </tr>\n",
              "    <tr>\n",
              "      <th>64457</th>\n",
              "      <td>True</td>\n",
              "      <td>True</td>\n",
              "      <td>True</td>\n",
              "      <td>True</td>\n",
              "      <td>True</td>\n",
              "      <td>True</td>\n",
              "      <td>True</td>\n",
              "      <td>True</td>\n",
              "      <td>True</td>\n",
              "      <td>True</td>\n",
              "      <td>...</td>\n",
              "      <td>True</td>\n",
              "      <td>True</td>\n",
              "      <td>True</td>\n",
              "      <td>True</td>\n",
              "      <td>True</td>\n",
              "      <td>True</td>\n",
              "      <td>True</td>\n",
              "      <td>True</td>\n",
              "      <td>True</td>\n",
              "      <td>True</td>\n",
              "    </tr>\n",
              "    <tr>\n",
              "      <th>64458</th>\n",
              "      <td>False</td>\n",
              "      <td>False</td>\n",
              "      <td>False</td>\n",
              "      <td>False</td>\n",
              "      <td>False</td>\n",
              "      <td>False</td>\n",
              "      <td>False</td>\n",
              "      <td>False</td>\n",
              "      <td>False</td>\n",
              "      <td>False</td>\n",
              "      <td>...</td>\n",
              "      <td>False</td>\n",
              "      <td>False</td>\n",
              "      <td>False</td>\n",
              "      <td>False</td>\n",
              "      <td>False</td>\n",
              "      <td>False</td>\n",
              "      <td>False</td>\n",
              "      <td>False</td>\n",
              "      <td>False</td>\n",
              "      <td>False</td>\n",
              "    </tr>\n",
              "    <tr>\n",
              "      <th>64459</th>\n",
              "      <td>False</td>\n",
              "      <td>True</td>\n",
              "      <td>False</td>\n",
              "      <td>False</td>\n",
              "      <td>False</td>\n",
              "      <td>False</td>\n",
              "      <td>False</td>\n",
              "      <td>False</td>\n",
              "      <td>False</td>\n",
              "      <td>False</td>\n",
              "      <td>...</td>\n",
              "      <td>False</td>\n",
              "      <td>False</td>\n",
              "      <td>False</td>\n",
              "      <td>False</td>\n",
              "      <td>False</td>\n",
              "      <td>False</td>\n",
              "      <td>False</td>\n",
              "      <td>False</td>\n",
              "      <td>False</td>\n",
              "      <td>False</td>\n",
              "    </tr>\n",
              "    <tr>\n",
              "      <th>64460</th>\n",
              "      <td>True</td>\n",
              "      <td>True</td>\n",
              "      <td>True</td>\n",
              "      <td>False</td>\n",
              "      <td>False</td>\n",
              "      <td>False</td>\n",
              "      <td>False</td>\n",
              "      <td>True</td>\n",
              "      <td>True</td>\n",
              "      <td>False</td>\n",
              "      <td>...</td>\n",
              "      <td>False</td>\n",
              "      <td>False</td>\n",
              "      <td>False</td>\n",
              "      <td>False</td>\n",
              "      <td>False</td>\n",
              "      <td>False</td>\n",
              "      <td>False</td>\n",
              "      <td>False</td>\n",
              "      <td>False</td>\n",
              "      <td>False</td>\n",
              "    </tr>\n",
              "  </tbody>\n",
              "</table>\n",
              "<p>64306 rows × 25 columns</p>\n",
              "</div>\n",
              "      <button class=\"colab-df-convert\" onclick=\"convertToInteractive('df-080466ef-5f3c-4815-9d51-e762cfecdb30')\"\n",
              "              title=\"Convert this dataframe to an interactive table.\"\n",
              "              style=\"display:none;\">\n",
              "        \n",
              "  <svg xmlns=\"http://www.w3.org/2000/svg\" height=\"24px\"viewBox=\"0 0 24 24\"\n",
              "       width=\"24px\">\n",
              "    <path d=\"M0 0h24v24H0V0z\" fill=\"none\"/>\n",
              "    <path d=\"M18.56 5.44l.94 2.06.94-2.06 2.06-.94-2.06-.94-.94-2.06-.94 2.06-2.06.94zm-11 1L8.5 8.5l.94-2.06 2.06-.94-2.06-.94L8.5 2.5l-.94 2.06-2.06.94zm10 10l.94 2.06.94-2.06 2.06-.94-2.06-.94-.94-2.06-.94 2.06-2.06.94z\"/><path d=\"M17.41 7.96l-1.37-1.37c-.4-.4-.92-.59-1.43-.59-.52 0-1.04.2-1.43.59L10.3 9.45l-7.72 7.72c-.78.78-.78 2.05 0 2.83L4 21.41c.39.39.9.59 1.41.59.51 0 1.02-.2 1.41-.59l7.78-7.78 2.81-2.81c.8-.78.8-2.07 0-2.86zM5.41 20L4 18.59l7.72-7.72 1.47 1.35L5.41 20z\"/>\n",
              "  </svg>\n",
              "      </button>\n",
              "      \n",
              "  <style>\n",
              "    .colab-df-container {\n",
              "      display:flex;\n",
              "      flex-wrap:wrap;\n",
              "      gap: 12px;\n",
              "    }\n",
              "\n",
              "    .colab-df-convert {\n",
              "      background-color: #E8F0FE;\n",
              "      border: none;\n",
              "      border-radius: 50%;\n",
              "      cursor: pointer;\n",
              "      display: none;\n",
              "      fill: #1967D2;\n",
              "      height: 32px;\n",
              "      padding: 0 0 0 0;\n",
              "      width: 32px;\n",
              "    }\n",
              "\n",
              "    .colab-df-convert:hover {\n",
              "      background-color: #E2EBFA;\n",
              "      box-shadow: 0px 1px 2px rgba(60, 64, 67, 0.3), 0px 1px 3px 1px rgba(60, 64, 67, 0.15);\n",
              "      fill: #174EA6;\n",
              "    }\n",
              "\n",
              "    [theme=dark] .colab-df-convert {\n",
              "      background-color: #3B4455;\n",
              "      fill: #D2E3FC;\n",
              "    }\n",
              "\n",
              "    [theme=dark] .colab-df-convert:hover {\n",
              "      background-color: #434B5C;\n",
              "      box-shadow: 0px 1px 3px 1px rgba(0, 0, 0, 0.15);\n",
              "      filter: drop-shadow(0px 1px 2px rgba(0, 0, 0, 0.3));\n",
              "      fill: #FFFFFF;\n",
              "    }\n",
              "  </style>\n",
              "\n",
              "      <script>\n",
              "        const buttonEl =\n",
              "          document.querySelector('#df-080466ef-5f3c-4815-9d51-e762cfecdb30 button.colab-df-convert');\n",
              "        buttonEl.style.display =\n",
              "          google.colab.kernel.accessAllowed ? 'block' : 'none';\n",
              "\n",
              "        async function convertToInteractive(key) {\n",
              "          const element = document.querySelector('#df-080466ef-5f3c-4815-9d51-e762cfecdb30');\n",
              "          const dataTable =\n",
              "            await google.colab.kernel.invokeFunction('convertToInteractive',\n",
              "                                                     [key], {});\n",
              "          if (!dataTable) return;\n",
              "\n",
              "          const docLinkHtml = 'Like what you see? Visit the ' +\n",
              "            '<a target=\"_blank\" href=https://colab.research.google.com/notebooks/data_table.ipynb>data table notebook</a>'\n",
              "            + ' to learn more about interactive tables.';\n",
              "          element.innerHTML = '';\n",
              "          dataTable['output_type'] = 'display_data';\n",
              "          await google.colab.output.renderOutput(dataTable, element);\n",
              "          const docLink = document.createElement('div');\n",
              "          docLink.innerHTML = docLinkHtml;\n",
              "          element.appendChild(docLink);\n",
              "        }\n",
              "      </script>\n",
              "    </div>\n",
              "  </div>\n",
              "  "
            ]
          },
          "metadata": {},
          "execution_count": 53
        }
      ],
      "source": [
        "languages_worked_df"
      ]
    },
    {
      "cell_type": "markdown",
      "metadata": {
        "id": "vv2yqFnjlyAq"
      },
      "source": [
        "Seçenekler arasında toplam 25 dilin yer aldığı görülüyor. Her bir dili seçen katılımcıların yüzdesini belirlemek için bunları birleştirelim."
      ]
    },
    {
      "cell_type": "code",
      "execution_count": null,
      "metadata": {
        "id": "WhGqosyFlyAr"
      },
      "outputs": [],
      "source": [
        "languages_worked_percentages = languages_worked_df.mean().sort_values(ascending=False) * 100"
      ]
    },
    {
      "cell_type": "code",
      "source": [
        "languages_worked_percentages"
      ],
      "metadata": {
        "colab": {
          "base_uri": "https://localhost:8080/"
        },
        "id": "TI_0htEHtU3M",
        "outputId": "b8166a01-31e6-4a4f-f228-d6973ba27c0f"
      },
      "execution_count": null,
      "outputs": [
        {
          "output_type": "execute_result",
          "data": {
            "text/plain": [
              "JavaScript               59.893323\n",
              "HTML/CSS                 55.801947\n",
              "SQL                      48.444935\n",
              "Python                   39.001026\n",
              "Java                     35.618760\n",
              "Bash/Shell/PowerShell    29.239884\n",
              "C#                       27.803004\n",
              "PHP                      23.130035\n",
              "TypeScript               22.461357\n",
              "C++                      21.114670\n",
              "C                        19.236152\n",
              "Go                        7.758219\n",
              "Kotlin                    6.887382\n",
              "Ruby                      6.229590\n",
              "Assembly                  5.447392\n",
              "VBA                       5.394520\n",
              "Swift                     5.226573\n",
              "R                         5.064846\n",
              "Rust                      4.498803\n",
              "Objective-C               3.603085\n",
              "Dart                      3.517557\n",
              "Scala                     3.150561\n",
              "Perl                      2.757130\n",
              "Haskell                   1.861413\n",
              "Julia                     0.782198\n",
              "dtype: float64"
            ]
          },
          "metadata": {},
          "execution_count": 55
        }
      ]
    },
    {
      "cell_type": "markdown",
      "metadata": {
        "id": "WJn8lNSHlyAt"
      },
      "source": [
        "Bu bilgiyi yatay bir çubuk grafik kullanarak çizebiliriz."
      ]
    },
    {
      "cell_type": "code",
      "execution_count": null,
      "metadata": {
        "id": "lhI8Nj7plyAt",
        "colab": {
          "base_uri": "https://localhost:8080/",
          "height": 742
        },
        "outputId": "59a7054b-a40b-4ad0-d7e4-a0ab79b62f0c"
      },
      "outputs": [
        {
          "output_type": "display_data",
          "data": {
            "text/plain": [
              "<Figure size 864x864 with 1 Axes>"
            ],
            "image/png": "[encoded data removed]"
          },
          "metadata": {
            "needs_background": "light"
          }
        }
      ],
      "source": [
        "plt.figure(figsize=(12, 12))\n",
        "sns.barplot(x=languages_worked_percentages, y=languages_worked_percentages.index)\n",
        "plt.title(\"Geçen Sene Kullanılan Diller\");\n",
        "plt.xlabel('count');"
      ]
    },
    {
      "cell_type": "markdown",
      "metadata": {
        "id": "TOOmYdKjlyAu"
      },
      "source": [
        "Web geliştirme günümüzün en çok aranan becerilerinden biri olduğu için Javascript ve HTML/CSS belki de şaşırtıcı olmayan bir şekilde en üst sıralarda yer alıyor. Ayrıca, başlaması en kolay olanlardan biri olur. SQL, ilişkisel veritabanlarıyla çalışmak için gereklidir. Bu nedenle çoğu programcının SQL ile düzenli olarak çalışması şaşırtıcı değildir. Python, yirmi yılı aşkın süredir sunucu ve uygulama geliştirme için endüstri standardı olan Java'yı geride bırakarak diğer geliştirme biçimleri için popüler bir seçim gibi görünüyor.\n",
        "\n",
        "**Alıştırmalar**:\n",
        "\n",
        "* Öğrencilerin en çok kullandığı diller nelerdir? Liste, profesyonel geliştiriciler tarafından kullanılan en yaygın dillerle nasıl karşılaştırılır?\n",
        "* Kendilerini \"Developer, front-end\" olarak tanımlamayan katılımcılar arasında en yaygın kullanılan diller nelerdir?\n",
        "* Veri bilimi ile ilgili alanlarda çalışan katılımcılar arasında en yaygın kullanılan diller nelerdir?\n",
        "* 35 yaşından büyük developer'lar tarafından en yaygın kullanılan diller nelerdir?\n",
        "* Kendi ülkenizde developer'lar tarafından en yaygın olarak kullanılan diller nelerdir?"
      ]
    },
    {
      "cell_type": "markdown",
      "metadata": {
        "id": "4Z2P8g1LlyAv"
      },
      "source": [
        "#### Soru: İnsanlar önümüzdeki yıl en çok hangi dilleri öğrenmek istiyor?\n",
        "\n",
        "Bunun için, bir öncekine benzer işlemlerle `LanguageDesireNextYear` sütununu kullanabiliriz."
      ]
    },
    {
      "cell_type": "code",
      "execution_count": null,
      "metadata": {
        "id": "5wxS8KvllyAv"
      },
      "outputs": [],
      "source": [
        "ilgilenilen_diller_df = split_multicolumn(anket_df.LanguageDesireNextYear)"
      ]
    },
    {
      "cell_type": "code",
      "source": [
        "ilgilenilen_dillerin_orani = ilgilenilen_diller_df.mean().sort_values(ascending=False) * 100"
      ],
      "metadata": {
        "id": "aF8599A1u7no"
      },
      "execution_count": null,
      "outputs": []
    },
    {
      "cell_type": "code",
      "source": [
        "ilgilenilen_dillerin_orani"
      ],
      "metadata": {
        "colab": {
          "base_uri": "https://localhost:8080/"
        },
        "id": "btr19d3su9I2",
        "outputId": "30545497-252a-4d04-b74f-131e8cdf281e"
      },
      "execution_count": null,
      "outputs": [
        {
          "output_type": "execute_result",
          "data": {
            "text/plain": [
              "Python                   41.143906\n",
              "JavaScript               40.425466\n",
              "HTML/CSS                 32.028116\n",
              "SQL                      30.799614\n",
              "TypeScript               26.451653\n",
              "C#                       21.058688\n",
              "Java                     20.464653\n",
              "Go                       19.432090\n",
              "Bash/Shell/PowerShell    18.057413\n",
              "Rust                     16.270643\n",
              "C++                      15.014151\n",
              "Kotlin                   14.760676\n",
              "PHP                      10.947657\n",
              "C                         9.359935\n",
              "Swift                     8.692812\n",
              "Dart                      7.308805\n",
              "R                         6.571704\n",
              "Ruby                      6.425528\n",
              "Scala                     5.326097\n",
              "Haskell                   4.593662\n",
              "Assembly                  3.766367\n",
              "Julia                     2.540976\n",
              "Objective-C               2.338818\n",
              "Perl                      1.761888\n",
              "VBA                       1.611047\n",
              "dtype: float64"
            ]
          },
          "metadata": {},
          "execution_count": 71
        }
      ]
    },
    {
      "cell_type": "code",
      "execution_count": null,
      "metadata": {
        "scrolled": false,
        "id": "tyUv3eTXlyAw",
        "colab": {
          "base_uri": "https://localhost:8080/",
          "height": 744
        },
        "outputId": "92256fba-0861-4f03-8e0a-abf76cee4062"
      },
      "outputs": [
        {
          "output_type": "display_data",
          "data": {
            "text/plain": [
              "<Figure size 864x864 with 1 Axes>"
            ],
            "image/png": "[encoded data removed]"
          },
          "metadata": {
            "needs_background": "light"
          }
        }
      ],
      "source": [
        "plt.figure(figsize=(12, 12))\n",
        "sns.barplot(x=ilgilenilen_dillerin_orani, y=ilgilenilen_dillerin_orani.index)\n",
        "plt.title(\"İnsanların gelecek yıl öğrenmekle ilgileneceği diller\");\n",
        "plt.xlabel('count');"
      ]
    },
    {
      "cell_type": "markdown",
      "metadata": {
        "id": "diaDqElrlyAw"
      },
      "source": [
        "Bir kez daha, Python'un çoğu insanın öğrenmekle ilgilendiği dil olması şaşırtıcı değil. Çünkü öğrenmesi kolay, genel amaçlı bir programlama dilidir ve çeşitli alanlara çok uygundur: uygulama geliştirme, sayısal hesaplama, veri analizi, makine öğrenme, büyük veri (big data), bulut otomasyonu (cloud automation), web kazıma (web scraping), komut dosyası oluşturma (scripting) vb. Bu analiz için Python kullanıyoruz, bu yüzden iyi bir şirketteyiz!\n",
        "\n",
        "**Alıştırmalar**: \"En yaygın dilleri\" \"insanların öğrenmek/kullanmakla ilgilendikleri diller\" ile değiştirerek önceki sorudaki alıştırmaları tekrarlayalım."
      ]
    },
    {
      "cell_type": "markdown",
      "metadata": {
        "id": "6EgvG8IHlyAw"
      },
      "source": [
        "#### Q:  Which are the most loved languages, i.e., a high percentage of people who have used the language want to continue learning & using it over the next year?\n",
        "\n",
        "While this question may seem tricky at first, it's straightforward to solve using Pandas array operations. Here's what we can do:\n",
        "\n",
        "- Create a new data frame `languages_loved_df` that contains a `True` value for a language only if the corresponding values in `languages_worked_df` and `languages_interested_df` are both `True`\n",
        "- Take the column-wise sum of `languages_loved_df` and divide it by the column-wise sum of `languages_worked_df` to get the percentage of respondents who \"love\" the language\n",
        "- Sort the results in decreasing order and plot a horizontal bar graph"
      ]
    },
    {
      "cell_type": "code",
      "execution_count": null,
      "metadata": {
        "id": "mtUUVmJYlyAx"
      },
      "outputs": [],
      "source": [
        "sevilen_diller_df = languages_worked_df & languages_interested_df"
      ]
    },
    {
      "cell_type": "code",
      "execution_count": null,
      "metadata": {
        "id": "ZwW8ktcRlyAx"
      },
      "outputs": [],
      "source": [
        "sevilen_diller_orani = (sevilen_diller_df.sum() * 100/ languages_worked_df.sum()).sort_values(ascending=False)"
      ]
    },
    {
      "cell_type": "code",
      "execution_count": null,
      "metadata": {
        "id": "_PtRAK-KlyAy",
        "colab": {
          "base_uri": "https://localhost:8080/",
          "height": 742
        },
        "outputId": "c4fb6f94-bd39-4847-b193-e98df6f1afda"
      },
      "outputs": [
        {
          "output_type": "display_data",
          "data": {
            "text/plain": [
              "<Figure size 864x864 with 1 Axes>"
            ],
            "image/png": "[encoded data removed]"
          },
          "metadata": {
            "needs_background": "light"
          }
        }
      ],
      "source": [
        "plt.figure(figsize=(12, 12))\n",
        "sns.barplot(x=sevilen_diller_orani, y=sevilen_diller_orani.index)\n",
        "plt.title(\"En çok sevilen diller\");\n",
        "plt.xlabel('count');"
      ]
    },
    {
      "cell_type": "markdown",
      "metadata": {
        "id": "MKNzNU-elyAy"
      },
      "source": [
        "[Rust](https://www.rust-lang.org) has been StackOverflow's most-loved language for [four years in a row](https://stackoverflow.blog/2020/01/20/what-is-rust-and-why-is-it-so-popular/). The second most-loved language is TypeScript, a popular alternative to JavaScript for web development.\n",
        "\n",
        "Python features at number 3, despite already being one of the most widely-used languages in the world. Python has a solid foundation, is easy to learn & use, has a large ecosystem of domain-specific libraries, and a massive worldwide community.\n",
        "\n",
        "**Exercises:** What are the most dreaded languages, i.e., languages which people have used in the past year but do not want to learn/use over the next year. Hint: `~languages_interested_df`."
      ]
    },
    {
      "cell_type": "markdown",
      "metadata": {
        "id": "9hUYuUe6lyAz"
      },
      "source": [
        "#### Q: In which countries do developers work the highest number of hours per week? Consider countries with more than 250 responses only.\n",
        "\n",
        "To answer this question, we'll need to use the `groupby` data frame method to aggregate the rows for each country. We'll also need to filter the results to only include the countries with more than 250 respondents."
      ]
    },
    {
      "cell_type": "code",
      "execution_count": null,
      "metadata": {
        "id": "9yDBDgarlyA0"
      },
      "outputs": [],
      "source": [
        "ulkeler_df = anket_df.groupby('Country')[['WorkWeekHrs']].mean().sort_values('WorkWeekHrs', ascending=False)"
      ]
    },
    {
      "cell_type": "code",
      "execution_count": null,
      "metadata": {
        "id": "AqSqp9a1lyA0"
      },
      "outputs": [],
      "source": [
        "high_response_countries_df = ulkeler_df.loc[anket_df.Country.value_counts() > 250].head(15)"
      ]
    },
    {
      "cell_type": "code",
      "execution_count": null,
      "metadata": {
        "id": "NopeYRzklyA0",
        "colab": {
          "base_uri": "https://localhost:8080/",
          "height": 551
        },
        "outputId": "62d8721b-4f6a-4dcb-d4e8-8e36e0591b94"
      },
      "outputs": [
        {
          "output_type": "execute_result",
          "data": {
            "text/plain": [
              "               WorkWeekHrs\n",
              "Country                   \n",
              "Iran             44.337748\n",
              "Israel           43.915094\n",
              "China            42.150000\n",
              "United States    41.802982\n",
              "Greece           41.402724\n",
              "Viet Nam         41.391667\n",
              "South Africa     41.023460\n",
              "Turkey           40.982143\n",
              "Sri Lanka        40.612245\n",
              "New Zealand      40.457551\n",
              "Belgium          40.444444\n",
              "Canada           40.208837\n",
              "Hungary          40.194340\n",
              "Bangladesh       40.097458\n",
              "India            40.090603"
            ],
            "text/html": [
              "\n",
              "  <div id=\"df-6e1cea0a-984c-49a5-8db2-d7ac2d56a556\">\n",
              "    <div class=\"colab-df-container\">\n",
              "      <div>\n",
              "<style scoped>\n",
              "    .dataframe tbody tr th:only-of-type {\n",
              "        vertical-align: middle;\n",
              "    }\n",
              "\n",
              "    .dataframe tbody tr th {\n",
              "        vertical-align: top;\n",
              "    }\n",
              "\n",
              "    .dataframe thead th {\n",
              "        text-align: right;\n",
              "    }\n",
              "</style>\n",
              "<table border=\"1\" class=\"dataframe\">\n",
              "  <thead>\n",
              "    <tr style=\"text-align: right;\">\n",
              "      <th></th>\n",
              "      <th>WorkWeekHrs</th>\n",
              "    </tr>\n",
              "    <tr>\n",
              "      <th>Country</th>\n",
              "      <th></th>\n",
              "    </tr>\n",
              "  </thead>\n",
              "  <tbody>\n",
              "    <tr>\n",
              "      <th>Iran</th>\n",
              "      <td>44.337748</td>\n",
              "    </tr>\n",
              "    <tr>\n",
              "      <th>Israel</th>\n",
              "      <td>43.915094</td>\n",
              "    </tr>\n",
              "    <tr>\n",
              "      <th>China</th>\n",
              "      <td>42.150000</td>\n",
              "    </tr>\n",
              "    <tr>\n",
              "      <th>United States</th>\n",
              "      <td>41.802982</td>\n",
              "    </tr>\n",
              "    <tr>\n",
              "      <th>Greece</th>\n",
              "      <td>41.402724</td>\n",
              "    </tr>\n",
              "    <tr>\n",
              "      <th>Viet Nam</th>\n",
              "      <td>41.391667</td>\n",
              "    </tr>\n",
              "    <tr>\n",
              "      <th>South Africa</th>\n",
              "      <td>41.023460</td>\n",
              "    </tr>\n",
              "    <tr>\n",
              "      <th>Turkey</th>\n",
              "      <td>40.982143</td>\n",
              "    </tr>\n",
              "    <tr>\n",
              "      <th>Sri Lanka</th>\n",
              "      <td>40.612245</td>\n",
              "    </tr>\n",
              "    <tr>\n",
              "      <th>New Zealand</th>\n",
              "      <td>40.457551</td>\n",
              "    </tr>\n",
              "    <tr>\n",
              "      <th>Belgium</th>\n",
              "      <td>40.444444</td>\n",
              "    </tr>\n",
              "    <tr>\n",
              "      <th>Canada</th>\n",
              "      <td>40.208837</td>\n",
              "    </tr>\n",
              "    <tr>\n",
              "      <th>Hungary</th>\n",
              "      <td>40.194340</td>\n",
              "    </tr>\n",
              "    <tr>\n",
              "      <th>Bangladesh</th>\n",
              "      <td>40.097458</td>\n",
              "    </tr>\n",
              "    <tr>\n",
              "      <th>India</th>\n",
              "      <td>40.090603</td>\n",
              "    </tr>\n",
              "  </tbody>\n",
              "</table>\n",
              "</div>\n",
              "      <button class=\"colab-df-convert\" onclick=\"convertToInteractive('df-6e1cea0a-984c-49a5-8db2-d7ac2d56a556')\"\n",
              "              title=\"Convert this dataframe to an interactive table.\"\n",
              "              style=\"display:none;\">\n",
              "        \n",
              "  <svg xmlns=\"http://www.w3.org/2000/svg\" height=\"24px\"viewBox=\"0 0 24 24\"\n",
              "       width=\"24px\">\n",
              "    <path d=\"M0 0h24v24H0V0z\" fill=\"none\"/>\n",
              "    <path d=\"M18.56 5.44l.94 2.06.94-2.06 2.06-.94-2.06-.94-.94-2.06-.94 2.06-2.06.94zm-11 1L8.5 8.5l.94-2.06 2.06-.94-2.06-.94L8.5 2.5l-.94 2.06-2.06.94zm10 10l.94 2.06.94-2.06 2.06-.94-2.06-.94-.94-2.06-.94 2.06-2.06.94z\"/><path d=\"M17.41 7.96l-1.37-1.37c-.4-.4-.92-.59-1.43-.59-.52 0-1.04.2-1.43.59L10.3 9.45l-7.72 7.72c-.78.78-.78 2.05 0 2.83L4 21.41c.39.39.9.59 1.41.59.51 0 1.02-.2 1.41-.59l7.78-7.78 2.81-2.81c.8-.78.8-2.07 0-2.86zM5.41 20L4 18.59l7.72-7.72 1.47 1.35L5.41 20z\"/>\n",
              "  </svg>\n",
              "      </button>\n",
              "      \n",
              "  <style>\n",
              "    .colab-df-container {\n",
              "      display:flex;\n",
              "      flex-wrap:wrap;\n",
              "      gap: 12px;\n",
              "    }\n",
              "\n",
              "    .colab-df-convert {\n",
              "      background-color: #E8F0FE;\n",
              "      border: none;\n",
              "      border-radius: 50%;\n",
              "      cursor: pointer;\n",
              "      display: none;\n",
              "      fill: #1967D2;\n",
              "      height: 32px;\n",
              "      padding: 0 0 0 0;\n",
              "      width: 32px;\n",
              "    }\n",
              "\n",
              "    .colab-df-convert:hover {\n",
              "      background-color: #E2EBFA;\n",
              "      box-shadow: 0px 1px 2px rgba(60, 64, 67, 0.3), 0px 1px 3px 1px rgba(60, 64, 67, 0.15);\n",
              "      fill: #174EA6;\n",
              "    }\n",
              "\n",
              "    [theme=dark] .colab-df-convert {\n",
              "      background-color: #3B4455;\n",
              "      fill: #D2E3FC;\n",
              "    }\n",
              "\n",
              "    [theme=dark] .colab-df-convert:hover {\n",
              "      background-color: #434B5C;\n",
              "      box-shadow: 0px 1px 3px 1px rgba(0, 0, 0, 0.15);\n",
              "      filter: drop-shadow(0px 1px 2px rgba(0, 0, 0, 0.3));\n",
              "      fill: #FFFFFF;\n",
              "    }\n",
              "  </style>\n",
              "\n",
              "      <script>\n",
              "        const buttonEl =\n",
              "          document.querySelector('#df-6e1cea0a-984c-49a5-8db2-d7ac2d56a556 button.colab-df-convert');\n",
              "        buttonEl.style.display =\n",
              "          google.colab.kernel.accessAllowed ? 'block' : 'none';\n",
              "\n",
              "        async function convertToInteractive(key) {\n",
              "          const element = document.querySelector('#df-6e1cea0a-984c-49a5-8db2-d7ac2d56a556');\n",
              "          const dataTable =\n",
              "            await google.colab.kernel.invokeFunction('convertToInteractive',\n",
              "                                                     [key], {});\n",
              "          if (!dataTable) return;\n",
              "\n",
              "          const docLinkHtml = 'Like what you see? Visit the ' +\n",
              "            '<a target=\"_blank\" href=https://colab.research.google.com/notebooks/data_table.ipynb>data table notebook</a>'\n",
              "            + ' to learn more about interactive tables.';\n",
              "          element.innerHTML = '';\n",
              "          dataTable['output_type'] = 'display_data';\n",
              "          await google.colab.output.renderOutput(dataTable, element);\n",
              "          const docLink = document.createElement('div');\n",
              "          docLink.innerHTML = docLinkHtml;\n",
              "          element.appendChild(docLink);\n",
              "        }\n",
              "      </script>\n",
              "    </div>\n",
              "  </div>\n",
              "  "
            ]
          },
          "metadata": {},
          "execution_count": 66
        }
      ],
      "source": [
        "high_response_countries_df"
      ]
    },
    {
      "cell_type": "markdown",
      "metadata": {
        "id": "M07iy3vdlyA1"
      },
      "source": [
        "The Asian countries like Iran, China, and Israel have the highest working hours, followed by the United States. However, there isn't too much variation overall, and the average working hours seem to be around 40 hours per week.\n",
        "\n",
        "**Exercises:**\n",
        "\n",
        "* How do the average work hours compare across continents? You may find this list of [countries in each continent](https://hub.jovian.ml/wp-content/uploads/2020/09/countries.csv) useful.\n",
        "* Which role has the highest average number of hours worked per week? Which one has the lowest?\n",
        "* How do the hours worked compare between freelancers and developers working full-time?"
      ]
    },
    {
      "cell_type": "markdown",
      "metadata": {
        "id": "qQAhDeTAlyA2"
      },
      "source": [
        "#### Q: How important is it to start young to build a career in programming?\n",
        "\n",
        "Let's create a scatter plot of `Age` vs. `YearsCodePro` (i.e., years of coding experience) to answer this question."
      ]
    },
    {
      "cell_type": "code",
      "execution_count": null,
      "metadata": {
        "id": "Q3bhNtYZlyA3",
        "colab": {
          "base_uri": "https://localhost:8080/",
          "height": 35
        },
        "outputId": "b821d823-8874-42cc-ad44-a9be3b2b0603"
      },
      "outputs": [
        {
          "output_type": "execute_result",
          "data": {
            "text/plain": [
              "'NOT including education, how many years have you coded professionally (as a part of your work)?'"
            ],
            "application/vnd.google.colaboratory.intrinsic+json": {
              "type": "string"
            }
          },
          "metadata": {},
          "execution_count": 67
        }
      ],
      "source": [
        "schema.YearsCodePro"
      ]
    },
    {
      "cell_type": "code",
      "execution_count": null,
      "metadata": {
        "id": "vj0ZCVehlyA4",
        "colab": {
          "base_uri": "https://localhost:8080/",
          "height": 200
        },
        "outputId": "de5c62fa-0cac-401e-e917-72c65befe800"
      },
      "outputs": [
        {
          "output_type": "error",
          "ename": "NameError",
          "evalue": "ignored",
          "traceback": [
            "\u001b[0;31m---------------------------------------------------------------------------\u001b[0m",
            "\u001b[0;31mNameError\u001b[0m                                 Traceback (most recent call last)",
            "\u001b[0;32m<ipython-input-68-7b11341e1442>\u001b[0m in \u001b[0;36m<module>\u001b[0;34m()\u001b[0m\n\u001b[0;32m----> 1\u001b[0;31m \u001b[0msns\u001b[0m\u001b[0;34m.\u001b[0m\u001b[0mscatterplot\u001b[0m\u001b[0;34m(\u001b[0m\u001b[0mx\u001b[0m\u001b[0;34m=\u001b[0m\u001b[0;34m'Age'\u001b[0m\u001b[0;34m,\u001b[0m \u001b[0my\u001b[0m\u001b[0;34m=\u001b[0m\u001b[0;34m'YearsCodePro'\u001b[0m\u001b[0;34m,\u001b[0m \u001b[0mhue\u001b[0m\u001b[0;34m=\u001b[0m\u001b[0;34m'Hobbyist'\u001b[0m\u001b[0;34m,\u001b[0m \u001b[0mdata\u001b[0m\u001b[0;34m=\u001b[0m\u001b[0msurvey_df\u001b[0m\u001b[0;34m)\u001b[0m\u001b[0;34m\u001b[0m\u001b[0;34m\u001b[0m\u001b[0m\n\u001b[0m\u001b[1;32m      2\u001b[0m \u001b[0mplt\u001b[0m\u001b[0;34m.\u001b[0m\u001b[0mxlabel\u001b[0m\u001b[0;34m(\u001b[0m\u001b[0;34m\"Age\"\u001b[0m\u001b[0;34m)\u001b[0m\u001b[0;34m\u001b[0m\u001b[0;34m\u001b[0m\u001b[0m\n\u001b[1;32m      3\u001b[0m \u001b[0mplt\u001b[0m\u001b[0;34m.\u001b[0m\u001b[0mylabel\u001b[0m\u001b[0;34m(\u001b[0m\u001b[0;34m\"Years of professional coding experience\"\u001b[0m\u001b[0;34m)\u001b[0m\u001b[0;34m;\u001b[0m\u001b[0;34m\u001b[0m\u001b[0;34m\u001b[0m\u001b[0m\n",
            "\u001b[0;31mNameError\u001b[0m: name 'survey_df' is not defined"
          ]
        }
      ],
      "source": [
        "sns.scatterplot(x='Age', y='YearsCodePro', hue='Hobbyist', data=survey_df)\n",
        "plt.xlabel(\"Age\")\n",
        "plt.ylabel(\"Years of professional coding experience\");"
      ]
    },
    {
      "cell_type": "markdown",
      "metadata": {
        "id": "tmaieJ8UlyA4"
      },
      "source": [
        "You can see points all over the graph, which indicates that you can **start programming professionally at any age**. Many people who have been coding for several decades professionally also seem to enjoy it as a hobby.\n",
        "\n",
        "We can also view the distribution of the `Age1stCode` column to see when the respondents tried programming for the first time."
      ]
    },
    {
      "cell_type": "code",
      "execution_count": null,
      "metadata": {
        "id": "wNYCEOIVlyA5"
      },
      "outputs": [],
      "source": [
        "plt.title(schema.Age1stCode)\n",
        "sns.histplot(x=survey_df.Age1stCode, bins=30, kde=True);"
      ]
    },
    {
      "cell_type": "markdown",
      "metadata": {
        "id": "5OCitXeVlyA6"
      },
      "source": [
        "As you might expect, most people seem to have had some exposure to programming before the age of 40. However, but there are people of all ages and walks of life learning to code.\n",
        "\n",
        "**Exercises**:\n",
        "\n",
        "* How does programming experience change opinions & preferences? Repeat the entire analysis while comparing the responses of people who have more than ten years of professional programming experience vs. those who don't. Do you see any interesting trends?\n",
        "* Compare the years of professional coding experience across different genders. \n"
      ]
    },
    {
      "cell_type": "code",
      "execution_count": null,
      "metadata": {
        "id": "Srsw0-dclyA7"
      },
      "outputs": [],
      "source": [
        ""
      ]
    },
    {
      "cell_type": "markdown",
      "metadata": {
        "id": "7xULmK_RlyA7"
      },
      "source": [
        "Hopefully, you are already thinking of many more questions you'd like to answer using this data. Use the empty cells below to ask and answer more questions."
      ]
    },
    {
      "cell_type": "code",
      "execution_count": null,
      "metadata": {
        "id": "bCpMHDaSlyA8"
      },
      "outputs": [],
      "source": [
        ""
      ]
    },
    {
      "cell_type": "code",
      "execution_count": null,
      "metadata": {
        "id": "YU_VnLlWlyA8"
      },
      "outputs": [],
      "source": [
        ""
      ]
    },
    {
      "cell_type": "code",
      "execution_count": null,
      "metadata": {
        "id": "JSU5XD3wlyA9"
      },
      "outputs": [],
      "source": [
        ""
      ]
    },
    {
      "cell_type": "markdown",
      "metadata": {
        "id": "5iKU4Sf2lyA-"
      },
      "source": [
        "## Inferences and Conclusions\n",
        "\n",
        "We've drawn many inferences from the survey. Here's a summary of a few of them:\n",
        "\n",
        "- Based on the survey respondents' demographics, we can infer that the survey is somewhat representative of the overall programming community. However, it has fewer responses from programmers in non-English-speaking countries and women & non-binary genders.\n",
        "\n",
        "- The programming community is not as diverse as it can be. Although things are improving, we should make more efforts to support & encourage underrepresented communities, whether in terms of age, country, race, gender, or otherwise.\n",
        "\n",
        "\n",
        "- Although most programmers hold a college degree, a reasonably large percentage did not have computer science as their college major. Hence, a computer science degree isn't compulsory for learning to code or building a career in programming.\n",
        "\n",
        "- A significant percentage of programmers either work part-time or as freelancers, which can be a great way to break into the field, especially when you're just getting started.\n",
        "\n",
        "- Javascript & HTML/CSS are the most used programming languages in 2020, closely followed by SQL & Python.\n",
        "\n",
        "- Python is the language most people are interested in learning - since it is an easy-to-learn general-purpose programming language well suited for various domains.\n",
        "\n",
        "- Rust and TypeScript are the most \"loved\" languages in 2020, both of which have small but fast-growing communities. Python is a close third, despite already being a widely used language.\n",
        "\n",
        "- Programmers worldwide seem to be working for around 40 hours a week on average, with slight variations by country.\n",
        "\n",
        "- You can learn and start programming professionally at any age. You're likely to have a long and fulfilling career if you also enjoy programming as a hobby.\n"
      ]
    },
    {
      "cell_type": "markdown",
      "metadata": {
        "id": "mWfKqz7flyA_"
      },
      "source": [
        "## Alıştırmalar\n",
        "\n",
        "There's a wealth of information to be discovered using the survey, and we've barely scratched the surface. Here are some ideas for further exploration:\n",
        "\n",
        "- Repeat the analysis for different age groups & genders, and compare the results\n",
        "- Pick a different set of columns (we chose 20 out of 65) to analyze other facets of the data\n",
        "- Prepare an analysis focusing on diversity - and identify areas where underrepresented communities are at par with the majority (e.g., education) and where they aren't (e.g., salaries)\n",
        "- Compare the results of this year's survey with the previous years and identify interesting trends\n"
      ]
    },
    {
      "cell_type": "markdown",
      "metadata": {
        "id": "0A_AZXMTlyA_"
      },
      "source": [
        "## Referanslar ve Gelecek Çalışmalar\n",
        "\n",
        "Bu not defterinde kullanılan veri kümesi ve araçlar hakkında daha fazla bilgi edinmek için aşağıdaki kaynaklara göz atalım:\n",
        "\n",
        "- Stack Overflow Developer Anketi: https://insights.stackoverflow.com/survey\n",
        "- Pandas kullanım kılavuzu: https://pandas.pydata.org/docs/user_guide/index.html\n",
        "- Matplotlib kullanım kılavuzu: https://matplotlib.org/3.3.1/users/index.html\n",
        "- Seaborn kullanım kılavuzu & tutorial: https://seaborn.pydata.org/tutorial.html\n",
        "- `opendatasets` Python kütüphanesi: https://github.com/JovianML/opendatasets"
      ]
    }
  ],
  "metadata": {
    "kernelspec": {
      "display_name": "Python 3",
      "language": "python",
      "name": "python3"
    },
    "language_info": {
      "codemirror_mode": {
        "name": "ipython",
        "version": 3
      },
      "file_extension": ".py",
      "mimetype": "text/x-python",
      "name": "python",
      "nbconvert_exporter": "python",
      "pygments_lexer": "ipython3",
      "version": "3.8.5"
    },
    "colab": {
      "name": "9 - Keşifsel Veri Analizi - Stack Overflow Anketi.ipynb",
      "provenance": [],
      "collapsed_sections": [
        "5iKU4Sf2lyA-",
        "mWfKqz7flyA_"
      ]
    }
  },
  "nbformat": 4,
  "nbformat_minor": 0
}