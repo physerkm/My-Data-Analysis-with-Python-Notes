{
  "nbformat": 4,
  "nbformat_minor": 0,
  "metadata": {
    "colab": {
      "name": "5 - işletim sistemi (os) ve dosya sistemi (filesystem).ipynb",
      "provenance": [],
      "collapsed_sections": []
    },
    "kernelspec": {
      "name": "python3",
      "display_name": "Python 3"
    },
    "language_info": {
      "name": "python"
    }
  },
  "cells": [
    {
      "cell_type": "markdown",
      "metadata": {
        "id": "GWcsIfcv0Epo"
      },
      "source": [
        "# Python kullanarak Dosyalardan Okuma ve Dosyalara Yazma\n",
        "\n",
        "![](https://i.imgur.com/rv8wZ7l.png)\n",
        "\n",
        "\n",
        "Bu eğitim serisi, Python programlama dilini kullanarak programlama ve veri analizine yeni başlayanlara uygun bir giriş niteliğindedir. Bu eğitimler, pratik ve kodlama odaklı bir yaklaşım benimsiyor. Materyalleri öğrenmenin en iyi yolu, kodu çalıştırıp kendimizin denemesidir. Serinin tamamına buradan göz atabiliriz:\n",
        "\n",
        "1. Python ve Jupyter ile İlk Adımlar\n",
        "2. Değişkenler ve Veri Türleri ile Hızlı Bir Tur\n",
        "3. Koşullu İfadeler ve Döngüler Kullanarak Dallanma\n",
        "4. Fonksiyonları Kullanarak Yeniden Kullanılabilir Kod Yazma\n",
        "5. Dosyalardan Okuma ve Dosyalara Yazma\n",
        "6. Python ve Numpy ile Sayısal Hesaplama\n",
        "7. Pandas Kullanarak Tablo Verilerini Analiz Etme\n",
        "8. Matplotlib & Seaborn kullanarak Veri Görselleştirme\n",
        "9. Keşifsel Veri Analizi - Bir Vaka Çalışması"
      ]
    },
    {
      "cell_type": "markdown",
      "metadata": {
        "id": "RJMcRDsF2d6Q"
      },
      "source": [
        "Bu eğitim aşağıdaki konuları kapsar:\n",
        "\n",
        "- `os` modülünü kullanarak dosya sistemi ile etkileşim\n",
        "- `urllib` modülünü kullanarak internetten dosya indirme\n",
        "- Metin (text) dosyalarından veri okuma ve işleme\n",
        "- CSV dosyalarından sözlüklere (dictionaries) ve listelere (lists) veri ayrıştırma\n",
        "- Biçimlendirilmiş verileri metin dosyalarına geri yazma"
      ]
    },
    {
      "cell_type": "markdown",
      "metadata": {
        "id": "HFzUHRyV3czg"
      },
      "source": [
        "## OS (Operating System/İşletim Sistemi) ve dosya sistemi ile etkileşim\n",
        "\n",
        "Python'daki `os` modülü, os (işletim sistemi) ve dosya sistemi ile etkileşim için birçok fonksiyon sağlar. Şimdi içe aktaralım (import) ve bazı örnekler deneyelim."
      ]
    },
    {
      "cell_type": "code",
      "metadata": {
        "id": "r-dDe1bP4MbC"
      },
      "source": [
        "import os"
      ],
      "execution_count": null,
      "outputs": []
    },
    {
      "cell_type": "markdown",
      "metadata": {
        "id": "Fx2VCzxz4SeI"
      },
      "source": [
        "`os.getcwd` fonksiyonunu kullanarak mevcut çalışma dizinini kontrol edebiliriz.\n",
        "\n"
      ]
    },
    {
      "cell_type": "code",
      "metadata": {
        "colab": {
          "base_uri": "https://localhost:8080/",
          "height": 35
        },
        "id": "b93htjwN4jNZ",
        "outputId": "fb891962-eb7d-48d0-da87-5b9102818b9b"
      },
      "source": [
        "os.getcwd()"
      ],
      "execution_count": null,
      "outputs": [
        {
          "output_type": "execute_result",
          "data": {
            "application/vnd.google.colaboratory.intrinsic+json": {
              "type": "string"
            },
            "text/plain": [
              "'/content'"
            ]
          },
          "metadata": {},
          "execution_count": 2
        }
      ]
    },
    {
      "cell_type": "markdown",
      "metadata": {
        "id": "Q6Ld_n-aLImT"
      },
      "source": [
        "Bir dizindeki dosyaların listesini almak için os.listdir'i kullanılır. Fonksiyona argüman olarak bir dizinin mutlak/kesin veya göreceli yolunu iletiriz."
      ]
    },
    {
      "cell_type": "code",
      "metadata": {
        "colab": {
          "base_uri": "https://localhost:8080/"
        },
        "id": "X5cVwmeNMtZZ",
        "outputId": "8c4096a9-2304-4ea2-ada5-2b62779ce769"
      },
      "source": [
        "help(os.listdir)"
      ],
      "execution_count": null,
      "outputs": [
        {
          "output_type": "stream",
          "name": "stdout",
          "text": [
            "Help on built-in function listdir in module posix:\n",
            "\n",
            "listdir(path=None)\n",
            "    Return a list containing the names of the files in the directory.\n",
            "    \n",
            "    path can be specified as either str, bytes, or a path-like object.  If path is bytes,\n",
            "      the filenames returned will also be bytes; in all other circumstances\n",
            "      the filenames returned will be str.\n",
            "    If path is None, uses the path='.'.\n",
            "    On some platforms, path may also be specified as an open file descriptor;\\\n",
            "      the file descriptor must refer to a directory.\n",
            "      If this functionality is unavailable, using it raises NotImplementedError.\n",
            "    \n",
            "    The list is in arbitrary order.  It does not include the special\n",
            "    entries '.' and '..' even if they are present in the directory.\n",
            "\n"
          ]
        }
      ]
    },
    {
      "cell_type": "code",
      "metadata": {
        "colab": {
          "base_uri": "https://localhost:8080/"
        },
        "id": "tWstrlcWMzJr",
        "outputId": "4ec0bffa-e69e-422c-8332-c7182efdb17d"
      },
      "source": [
        "os.listdir('.') # göreceli yol (relative path)"
      ],
      "execution_count": null,
      "outputs": [
        {
          "output_type": "execute_result",
          "data": {
            "text/plain": [
              "['.config', 'sample_data']"
            ]
          },
          "metadata": {},
          "execution_count": 4
        }
      ]
    },
    {
      "cell_type": "code",
      "metadata": {
        "colab": {
          "base_uri": "https://localhost:8080/"
        },
        "id": "T_W3OlV_NDLS",
        "outputId": "8188722a-f1aa-427e-ca75-bb2e0980de89"
      },
      "source": [
        "os.listdir('/usr') # mutlak/kesin yol (absolute path)"
      ],
      "execution_count": null,
      "outputs": [
        {
          "output_type": "execute_result",
          "data": {
            "text/plain": [
              "['bin',\n",
              " 'games',\n",
              " 'include',\n",
              " 'local',\n",
              " 'sbin',\n",
              " 'lib',\n",
              " 'share',\n",
              " 'src',\n",
              " 'grte',\n",
              " 'lib32']"
            ]
          },
          "metadata": {},
          "execution_count": 5
        }
      ]
    },
    {
      "cell_type": "markdown",
      "metadata": {
        "id": "rF0ltkC7NW2z"
      },
      "source": [
        "`os.makedirs` kullanarak yeni bir dizin (directory) oluşturabiliriz. Daha sonra bazı dosyaları indireceğimiz `data` adında yeni bir dizin (directory) oluşturalım."
      ]
    },
    {
      "cell_type": "code",
      "metadata": {
        "id": "wxywm3CIN2cB"
      },
      "source": [
        "os.makedirs('./data', exist_ok=True)"
      ],
      "execution_count": null,
      "outputs": []
    },
    {
      "cell_type": "markdown",
      "metadata": {
        "id": "OgSjSXjyN7UJ"
      },
      "source": [
        "`exist_ok` argümanının ne işe yaradığını anlayabiliyor muyuz? `help` işlevini kullanmayı deneyelim veya [belgeleri okuyalım](https://docs.python.org/3/library/os.html#os.makedirs).\n",
        "\n",
        "Dizinin (directory) oluşturulduğunu ve şu anda boş olduğunu doğrulayalım."
      ]
    },
    {
      "cell_type": "code",
      "metadata": {
        "colab": {
          "base_uri": "https://localhost:8080/"
        },
        "id": "JIz3dQntRZgC",
        "outputId": "59c612f4-e8ad-426b-fd14-f06bf843ddf8"
      },
      "source": [
        "'data' in os.listdir('.')"
      ],
      "execution_count": null,
      "outputs": [
        {
          "output_type": "execute_result",
          "data": {
            "text/plain": [
              "True"
            ]
          },
          "metadata": {},
          "execution_count": 7
        }
      ]
    },
    {
      "cell_type": "code",
      "metadata": {
        "colab": {
          "base_uri": "https://localhost:8080/"
        },
        "id": "814Jhg_CRcqo",
        "outputId": "8772438f-5706-48c9-87d1-60f4ea09b9d8"
      },
      "source": [
        "os.listdir('./data')"
      ],
      "execution_count": null,
      "outputs": [
        {
          "output_type": "execute_result",
          "data": {
            "text/plain": [
              "[]"
            ]
          },
          "metadata": {},
          "execution_count": 8
        }
      ]
    },
    {
      "cell_type": "markdown",
      "metadata": {
        "id": "jRb4pvloRxmx"
      },
      "source": [
        "`urllib` modülünü kullanarak bazı dosyaları `data` dizinine (directory) indirelim."
      ]
    },
    {
      "cell_type": "code",
      "metadata": {
        "id": "DFxr8j46SAdQ"
      },
      "source": [
        "url1 = 'https://gist.githubusercontent.com/aakashns/257f6e6c8719c17d0e498ea287d1a386/raw/7def9ef4234ddf0bc82f855ad67dac8b971852ef/loans1.txt'\n",
        "url2 = 'https://gist.githubusercontent.com/aakashns/257f6e6c8719c17d0e498ea287d1a386/raw/7def9ef4234ddf0bc82f855ad67dac8b971852ef/loans2.txt'\n",
        "url3 = 'https://gist.githubusercontent.com/aakashns/257f6e6c8719c17d0e498ea287d1a386/raw/7def9ef4234ddf0bc82f855ad67dac8b971852ef/loans3.txt'"
      ],
      "execution_count": null,
      "outputs": []
    },
    {
      "cell_type": "code",
      "metadata": {
        "id": "DzUNmvPLSD2I"
      },
      "source": [
        "from urllib.request import urlretrieve"
      ],
      "execution_count": null,
      "outputs": []
    },
    {
      "cell_type": "code",
      "metadata": {
        "colab": {
          "base_uri": "https://localhost:8080/"
        },
        "id": "b598AZ8YSHOA",
        "outputId": "8eccb644-8acc-42d2-eb92-18f5570c8e1a"
      },
      "source": [
        "urlretrieve(url1, './data/loans1.txt')"
      ],
      "execution_count": null,
      "outputs": [
        {
          "output_type": "execute_result",
          "data": {
            "text/plain": [
              "('./data/loans1.txt', <http.client.HTTPMessage at 0x7fc0413a7550>)"
            ]
          },
          "metadata": {},
          "execution_count": 11
        }
      ]
    },
    {
      "cell_type": "code",
      "metadata": {
        "colab": {
          "base_uri": "https://localhost:8080/"
        },
        "id": "saCwpkr6SJFo",
        "outputId": "93f51e0f-dc12-464c-a2f9-95b31b9b6874"
      },
      "source": [
        "urlretrieve(url2, './data/loans2.txt')"
      ],
      "execution_count": null,
      "outputs": [
        {
          "output_type": "execute_result",
          "data": {
            "text/plain": [
              "('./data/loans2.txt', <http.client.HTTPMessage at 0x7fc0413ac610>)"
            ]
          },
          "metadata": {},
          "execution_count": 12
        }
      ]
    },
    {
      "cell_type": "code",
      "metadata": {
        "colab": {
          "base_uri": "https://localhost:8080/"
        },
        "id": "FPzj6uXRSLU4",
        "outputId": "4bcb25a7-b63c-4bbc-c537-09697e4d7b35"
      },
      "source": [
        "urlretrieve(url3, './data/loans3.txt')"
      ],
      "execution_count": null,
      "outputs": [
        {
          "output_type": "execute_result",
          "data": {
            "text/plain": [
              "('./data/loans3.txt', <http.client.HTTPMessage at 0x7fc0413ace90>)"
            ]
          },
          "metadata": {},
          "execution_count": 13
        }
      ]
    },
    {
      "cell_type": "markdown",
      "metadata": {
        "id": "GEm2OQFtSRTq"
      },
      "source": [
        "Dosyaların indirildiğini doğrulayalım."
      ]
    },
    {
      "cell_type": "code",
      "metadata": {
        "colab": {
          "base_uri": "https://localhost:8080/"
        },
        "id": "75MwmyH4SRrI",
        "outputId": "77538813-09ab-4371-9b57-873f175ad0ec"
      },
      "source": [
        "os.listdir('./data')"
      ],
      "execution_count": null,
      "outputs": [
        {
          "output_type": "execute_result",
          "data": {
            "text/plain": [
              "['loans3.txt', 'loans2.txt', 'loans1.txt']"
            ]
          },
          "metadata": {},
          "execution_count": 14
        }
      ]
    },
    {
      "cell_type": "markdown",
      "metadata": {
        "id": "tBSmCnQoSWw4"
      },
      "source": [
        "URL'leri indirmek için [`requests`](https://docs.python-requests.org/en/master/) kütüphanesini de kullanabiliriz, ancak sayfanın içeriğini bir dosyaya kaydetmek için [bazı ek kodlar yazmamız](https://stackoverflow.com/questions/44699682/how-to-save-a-file-downloaded-from-requests-to-another-directory) gerekecektir."
      ]
    },
    {
      "cell_type": "markdown",
      "metadata": {
        "id": "Yy6yyiXfUOQD"
      },
      "source": [
        "## Dosyadan okuma\n",
        "\n",
        "Bir dosyanın içeriğini okumak için, önce yerleşik `open` fonksiyonunu kullanarak dosyayı açmamız gerekir. `open` fonksiyonu bir dosya nesnesi döndürür (return) ve dosyanın içeriğiyle etkileşim için çeşitli yöntemler sağlar."
      ]
    },
    {
      "cell_type": "code",
      "metadata": {
        "id": "wHdAf5nKT7T5"
      },
      "source": [
        "dosya1 = open('./data/loans1.txt', mode='r')"
      ],
      "execution_count": null,
      "outputs": []
    },
    {
      "cell_type": "markdown",
      "metadata": {
        "id": "ND-ErqitVsFa"
      },
      "source": [
        "`open` fonksiyonu, dosyayla nasıl etkileşime geçebileceğimizi belirtmek için bir `mode` argümanını da kabul eder. Aşağıdaki seçenekler desteklenir:\n",
        "\n",
        "```\n",
        "    ========= ===============================================================\n",
        "    Karakter  Anlamı\n",
        "    --------- ---------------------------------------------------------------\n",
        "    'r'       okumaya açık (varsayılan)\n",
        "    'w'       önce dosyayı kes, sonra yazmak için aç\n",
        "    'x'       yeni bir dosya oluştur ve yazmak için aç\n",
        "    'a'       yazmak için açın, varsa dosyanın sonuna ekleyin\n",
        "    'b'       ikili (binary) mod\n",
        "    't'       metin (text) modu (varsayılan)\n",
        "    '+'       güncellemek için bir disk dosyası açma (okuma ve yazma)\n",
        "    'U'       evrensel yeni satır (newline) modu (pek kullanılmıyor)\n",
        "    ========= ===============================================================\n",
        "```\n",
        "Dosyanın içeriğini görüntülemek için dosya nesnesinin `read` yöntemini kullanabiliriz."
      ]
    },
    {
      "cell_type": "code",
      "metadata": {
        "id": "mO-6kITr5IsU"
      },
      "source": [
        "dosya1_contents = dosya1.read()"
      ],
      "execution_count": null,
      "outputs": []
    },
    {
      "cell_type": "code",
      "metadata": {
        "id": "Cr-tdWtj5L_K",
        "colab": {
          "base_uri": "https://localhost:8080/"
        },
        "outputId": "dc12c8df-70c2-4555-87dd-4eaf93edecc8"
      },
      "source": [
        "print(dosya1_contents)"
      ],
      "execution_count": null,
      "outputs": [
        {
          "output_type": "stream",
          "name": "stdout",
          "text": [
            "amount,duration,rate,down_payment\n",
            "100000,36,0.08,20000\n",
            "200000,12,0.1,\n",
            "628400,120,0.12,100000\n",
            "4637400,240,0.06,\n",
            "42900,90,0.07,8900\n",
            "916000,16,0.13,\n",
            "45230,48,0.08,4300\n",
            "991360,99,0.08,\n",
            "423000,27,0.09,47200\n"
          ]
        }
      ]
    },
    {
      "cell_type": "markdown",
      "metadata": {
        "id": "EioUCJ7Z5Qqq"
      },
      "source": [
        "Dosya (file), krediler hakkında bilgi içerir. Virgülle ayrılmış değerler/comma-separated values (CSV) kümesidir.\n",
        "\n",
        "> **CSV'ler**: Virgülle ayrılmış değerler (CSV) dosyası, değerleri ayırmak için virgül kullanan sınırlandırılmış bir metin dosyasıdır. Dosyanın her satırı bir veri kaydıdır. Her kayıt, virgülle ayrılmış bir veya daha fazla alandan oluşur. Bir CSV dosyası genel olarak tablo verilerini (sayılar ve metin) düz metin olarak depolar; bu durumda her satırda aynı sayıda alan bulunur. (Wikipedia)\n",
        "\n",
        "Dosyanın ilk satırı, kalan satırlardaki sayıların her birinin neyi temsil ettiğini gösteren başlıktır. Kalan satırların her biri bir kredi hakkında bilgi sağlar. Böylece, ikinci satır `10000,36,0.08,20000` ile bir krediyi temsil eder:\n",
        "\n",
        "* *tutar*: `$10000`,\n",
        "* *süre*: `36` ay,\n",
        "* *faiz oranı*: yıllık `%8`\n",
        "* *peşinat*: `$20000`\n",
        "\n",
        "CSV, analiz ve görselleştirme ve verileri paylaşmak için kullanılan standart bir dosya biçimidir. Bu eğitim boyunca, bu CSV dosyalarından verileri okuyacağız, işleyeceğiz ve sonuçları tekrar dosyalara yazacağız. Devam etmeden önce dosyayı `close` yöntemini kullanarak kapatalım. (aksi takdirde Python tüm dosyayı RAM'de tutmaya devam edecektir.)"
      ]
    },
    {
      "cell_type": "code",
      "metadata": {
        "id": "wGijChDg9rst"
      },
      "source": [
        "dosya1.close()"
      ],
      "execution_count": null,
      "outputs": []
    },
    {
      "cell_type": "markdown",
      "metadata": {
        "id": "Mw2sMPj50P6u"
      },
      "source": [
        "Bir dosya kapatıldığında, artık ondan okuyamayız."
      ]
    },
    {
      "cell_type": "code",
      "metadata": {
        "id": "hJ7OXmxK0TfN",
        "colab": {
          "base_uri": "https://localhost:8080/",
          "height": 165
        },
        "outputId": "ed6bf78f-7914-43ae-9476-e91cd02f7b41"
      },
      "source": [
        "dosya1.read()"
      ],
      "execution_count": null,
      "outputs": [
        {
          "output_type": "error",
          "ename": "ValueError",
          "evalue": "ignored",
          "traceback": [
            "\u001b[0;31m---------------------------------------------------------------------------\u001b[0m",
            "\u001b[0;31mValueError\u001b[0m                                Traceback (most recent call last)",
            "\u001b[0;32m<ipython-input-19-8c5c45b4bd9c>\u001b[0m in \u001b[0;36m<module>\u001b[0;34m()\u001b[0m\n\u001b[0;32m----> 1\u001b[0;31m \u001b[0mdosya1\u001b[0m\u001b[0;34m.\u001b[0m\u001b[0mread\u001b[0m\u001b[0;34m(\u001b[0m\u001b[0;34m)\u001b[0m\u001b[0;34m\u001b[0m\u001b[0;34m\u001b[0m\u001b[0m\n\u001b[0m",
            "\u001b[0;31mValueError\u001b[0m: I/O operation on closed file."
          ]
        }
      ]
    },
    {
      "cell_type": "markdown",
      "metadata": {
        "id": "p3NE11xT0g8l"
      },
      "source": [
        "## Dosyaları `with` kullanarak otomatik olarak kapatma\n",
        "\n",
        "Bir dosyayı işledikten (process) sonra otomatik olarak kapatmak için `with` ifadesini kullanarak açabiliriz."
      ]
    },
    {
      "cell_type": "code",
      "metadata": {
        "id": "1HDzQNbs1LlX",
        "colab": {
          "base_uri": "https://localhost:8080/"
        },
        "outputId": "6511c374-2cf5-4eb7-96a1-3b4a739fd083"
      },
      "source": [
        "with open('./data/loans2.txt') as dosya2:\n",
        "    dosya2_contents = dosya2.read()\n",
        "    print(dosya2_contents)"
      ],
      "execution_count": null,
      "outputs": [
        {
          "output_type": "stream",
          "name": "stdout",
          "text": [
            "amount,duration,rate,down_payment\n",
            "828400,120,0.11,100000\n",
            "4633400,240,0.06,\n",
            "42900,90,0.08,8900\n",
            "983000,16,0.14,\n",
            "15230,48,0.07,4300\n"
          ]
        }
      ]
    },
    {
      "cell_type": "markdown",
      "metadata": {
        "id": "C6Id6fYK1VfW"
      },
      "source": [
        "`with` bloğundaki ifadeler yürütüldüğünde (execute), `dosya2` üzerindeki `.close` yöntemi otomatik olarak çağrılır. Dosya nesnesinden tekrar okumayı deneyerek bunu doğrulayalım."
      ]
    },
    {
      "cell_type": "code",
      "metadata": {
        "id": "K-JbsA0U2JTp",
        "colab": {
          "base_uri": "https://localhost:8080/",
          "height": 165
        },
        "outputId": "0e21e5e0-9adb-4e20-97af-270a7096c982"
      },
      "source": [
        "dosya2.read()"
      ],
      "execution_count": null,
      "outputs": [
        {
          "output_type": "error",
          "ename": "ValueError",
          "evalue": "ignored",
          "traceback": [
            "\u001b[0;31m---------------------------------------------------------------------------\u001b[0m",
            "\u001b[0;31mValueError\u001b[0m                                Traceback (most recent call last)",
            "\u001b[0;32m<ipython-input-21-53aa541188e0>\u001b[0m in \u001b[0;36m<module>\u001b[0;34m()\u001b[0m\n\u001b[0;32m----> 1\u001b[0;31m \u001b[0mdosya2\u001b[0m\u001b[0;34m.\u001b[0m\u001b[0mread\u001b[0m\u001b[0;34m(\u001b[0m\u001b[0;34m)\u001b[0m\u001b[0;34m\u001b[0m\u001b[0;34m\u001b[0m\u001b[0m\n\u001b[0m",
            "\u001b[0;31mValueError\u001b[0m: I/O operation on closed file."
          ]
        }
      ]
    },
    {
      "cell_type": "markdown",
      "metadata": {
        "id": "rHGfjrH12T_1"
      },
      "source": [
        "## Bir dosyayı satır satır okuma\n",
        "\n",
        "Dosya nesneleri, bir dosyayı satır satır okumak için bir `readlines` yöntemi sağlar."
      ]
    },
    {
      "cell_type": "code",
      "metadata": {
        "id": "6udyb10V2s1I"
      },
      "source": [
        "with open('./data/loans3.txt', 'r') as dosya3:\n",
        "    dosya3_lines = dosya3.readlines()"
      ],
      "execution_count": null,
      "outputs": []
    },
    {
      "cell_type": "code",
      "metadata": {
        "id": "3m7e3y8J2x6r",
        "colab": {
          "base_uri": "https://localhost:8080/"
        },
        "outputId": "1158ef82-87f6-4366-97d5-0ad2f4fbd382"
      },
      "source": [
        "dosya3_lines"
      ],
      "execution_count": null,
      "outputs": [
        {
          "output_type": "execute_result",
          "data": {
            "text/plain": [
              "['amount,duration,rate,down_payment\\n',\n",
              " '45230,48,0.07,4300\\n',\n",
              " '883000,16,0.14,\\n',\n",
              " '100000,12,0.1,\\n',\n",
              " '728400,120,0.12,100000\\n',\n",
              " '3637400,240,0.06,\\n',\n",
              " '82900,90,0.07,8900\\n',\n",
              " '316000,16,0.13,\\n',\n",
              " '15230,48,0.08,4300\\n',\n",
              " '991360,99,0.08,\\n',\n",
              " '323000,27,0.09,4720010000,36,0.08,20000\\n',\n",
              " '528400,120,0.11,100000\\n',\n",
              " '8633400,240,0.06,\\n',\n",
              " '12900,90,0.08,8900']"
            ]
          },
          "metadata": {},
          "execution_count": 23
        }
      ]
    },
    {
      "cell_type": "markdown",
      "metadata": {
        "id": "SI04y9ua31pq"
      },
      "source": [
        "## Dosyalardan veri işleme\n",
        "\n",
        "Bir dosyada depolanan veriler üzerinde herhangi bir işlem gerçekleştirmeden önce, dosyanın içeriğini büyük bir dizeden (string) Python veri türlerine dönüştürmemiz gerekir. Krediler hakkında CSV formatında bilgi içeren `loans1.txt` dosyası için şunları yapabiliriz:\n",
        "\n",
        "* Dosyayı satır satır okuyalım.\n",
        "* Sütun adlarının veya başlıklarının bir listesini almak için ilk satırı ayrıştıralım (parse).\n",
        "* Kalan her satırı bölelim (split) ve her değeri bir float'a dönüştürelim.\n",
        "* Başlıkları anahtar olarak kullanarak her kredi (loan) için bir sözlük (dictionary) oluşturalım.\n",
        "* Tüm kredileri (loans) takip etmek için bir sözlük (dictionary) listesi oluşturalım.\n",
        "\n",
        "Aynı işlemleri birden fazla dosya için yapacağımız için bir `read_csv` fonksiyonu tanımlamamız faydalı olacaktır. İşlevselliği adım adım oluşturmak için bazı yardımcı fonksiyonlar da tanımlayacağız.\n",
        "\n",
        "Girdi (input) olarak bir satır al'an ve sütun (column) başlıklarının bir listesini döndüren bir `parse_header` fonksiyonu tanımlayarak başlayalım."
      ]
    },
    {
      "cell_type": "code",
      "metadata": {
        "id": "-AQX6dyh8KwT"
      },
      "source": [
        "def parse_headers(header_line):\n",
        "    return header_line.strip().split(',')"
      ],
      "execution_count": null,
      "outputs": []
    },
    {
      "cell_type": "markdown",
      "metadata": {
        "id": "tT1C9Pcy9lgB"
      },
      "source": [
        "`strip` yöntemi, fazladan boşlukları ve yeni satır karakteri `\\n`'i kaldırır. `split` yöntemi, verilen ayırıcıyı (bu durumda `,`) kullanarak bir dizeyi (string) listeye (list) böler."
      ]
    },
    {
      "cell_type": "code",
      "metadata": {
        "id": "ZQAa4OdU-JYg",
        "colab": {
          "base_uri": "https://localhost:8080/",
          "height": 35
        },
        "outputId": "fffa5a6b-5110-49a6-bfa6-f6db9a59ae1f"
      },
      "source": [
        "dosya3_lines[0]"
      ],
      "execution_count": null,
      "outputs": [
        {
          "output_type": "execute_result",
          "data": {
            "application/vnd.google.colaboratory.intrinsic+json": {
              "type": "string"
            },
            "text/plain": [
              "'amount,duration,rate,down_payment\\n'"
            ]
          },
          "metadata": {},
          "execution_count": 25
        }
      ]
    },
    {
      "cell_type": "code",
      "metadata": {
        "id": "Hdar0tr1-PuN"
      },
      "source": [
        "basliklar = parse_headers(dosya3_lines[0])"
      ],
      "execution_count": null,
      "outputs": []
    },
    {
      "cell_type": "code",
      "metadata": {
        "id": "VKiQUtWx-RwV",
        "colab": {
          "base_uri": "https://localhost:8080/"
        },
        "outputId": "53186c10-29cc-4dba-e7d3-54a740faa671"
      },
      "source": [
        "basliklar"
      ],
      "execution_count": null,
      "outputs": [
        {
          "output_type": "execute_result",
          "data": {
            "text/plain": [
              "['amount', 'duration', 'rate', 'down_payment']"
            ]
          },
          "metadata": {},
          "execution_count": 27
        }
      ]
    },
    {
      "cell_type": "markdown",
      "metadata": {
        "id": "E29J3MTIa331"
      },
      "source": [
        "Ardından, bazı veriler içeren bir satır al'an ve float sayıların bir listesini döndüren (return eden) bir `parse_values` fonksiyonunu tanımlayalım."
      ]
    },
    {
      "cell_type": "code",
      "metadata": {
        "id": "7PlessvObXru"
      },
      "source": [
        "def parse_values(data_line):\n",
        "    degerler = []\n",
        "    for item in data_line.strip().split(','):\n",
        "        degerler.append(float(item))\n",
        "    return degerler"
      ],
      "execution_count": null,
      "outputs": []
    },
    {
      "cell_type": "code",
      "metadata": {
        "id": "kqIn_cVMbbPW",
        "colab": {
          "base_uri": "https://localhost:8080/",
          "height": 35
        },
        "outputId": "18cf322b-c5a8-46d3-ccd8-8538405e631b"
      },
      "source": [
        "dosya3_lines[1]"
      ],
      "execution_count": null,
      "outputs": [
        {
          "output_type": "execute_result",
          "data": {
            "application/vnd.google.colaboratory.intrinsic+json": {
              "type": "string"
            },
            "text/plain": [
              "'45230,48,0.07,4300\\n'"
            ]
          },
          "metadata": {},
          "execution_count": 29
        }
      ]
    },
    {
      "cell_type": "code",
      "metadata": {
        "id": "XllgkSb5bfbO",
        "colab": {
          "base_uri": "https://localhost:8080/"
        },
        "outputId": "bb189cd8-115e-400d-b832-f95e4fcb98cc"
      },
      "source": [
        "parse_values(dosya3_lines[1])"
      ],
      "execution_count": null,
      "outputs": [
        {
          "output_type": "execute_result",
          "data": {
            "text/plain": [
              "[45230.0, 48.0, 0.07, 4300.0]"
            ]
          },
          "metadata": {},
          "execution_count": 30
        }
      ]
    },
    {
      "cell_type": "markdown",
      "metadata": {
        "id": "AcxcTLRgblwe"
      },
      "source": [
        "Değerler, beklendiği gibi ayrıştırıldı (parse edildi) ve float'a dönüştürüldü. Peşinat için bir değer içermeyen dosyadan başka bir satır için deneyelim."
      ]
    },
    {
      "cell_type": "code",
      "metadata": {
        "id": "2HxGjlO8cKYh",
        "colab": {
          "base_uri": "https://localhost:8080/",
          "height": 35
        },
        "outputId": "396bcf93-6d59-43c8-92a1-fda2e010c7ac"
      },
      "source": [
        "dosya3_lines[2]"
      ],
      "execution_count": null,
      "outputs": [
        {
          "output_type": "execute_result",
          "data": {
            "application/vnd.google.colaboratory.intrinsic+json": {
              "type": "string"
            },
            "text/plain": [
              "'883000,16,0.14,\\n'"
            ]
          },
          "metadata": {},
          "execution_count": 31
        }
      ]
    },
    {
      "cell_type": "code",
      "metadata": {
        "id": "UEd3TMcncPKf",
        "colab": {
          "base_uri": "https://localhost:8080/",
          "height": 269
        },
        "outputId": "f5003f70-b281-4405-9858-0fb478ee09d1"
      },
      "source": [
        "parse_values(dosya3_lines[2])"
      ],
      "execution_count": null,
      "outputs": [
        {
          "output_type": "error",
          "ename": "ValueError",
          "evalue": "ignored",
          "traceback": [
            "\u001b[0;31m---------------------------------------------------------------------------\u001b[0m",
            "\u001b[0;31mValueError\u001b[0m                                Traceback (most recent call last)",
            "\u001b[0;32m<ipython-input-32-50ad4fc5b505>\u001b[0m in \u001b[0;36m<module>\u001b[0;34m()\u001b[0m\n\u001b[0;32m----> 1\u001b[0;31m \u001b[0mparse_values\u001b[0m\u001b[0;34m(\u001b[0m\u001b[0mdosya3_lines\u001b[0m\u001b[0;34m[\u001b[0m\u001b[0;36m2\u001b[0m\u001b[0;34m]\u001b[0m\u001b[0;34m)\u001b[0m\u001b[0;34m\u001b[0m\u001b[0;34m\u001b[0m\u001b[0m\n\u001b[0m",
            "\u001b[0;32m<ipython-input-28-3872e03e5327>\u001b[0m in \u001b[0;36mparse_values\u001b[0;34m(data_line)\u001b[0m\n\u001b[1;32m      2\u001b[0m     \u001b[0mdegerler\u001b[0m \u001b[0;34m=\u001b[0m \u001b[0;34m[\u001b[0m\u001b[0;34m]\u001b[0m\u001b[0;34m\u001b[0m\u001b[0;34m\u001b[0m\u001b[0m\n\u001b[1;32m      3\u001b[0m     \u001b[0;32mfor\u001b[0m \u001b[0mitem\u001b[0m \u001b[0;32min\u001b[0m \u001b[0mdata_line\u001b[0m\u001b[0;34m.\u001b[0m\u001b[0mstrip\u001b[0m\u001b[0;34m(\u001b[0m\u001b[0;34m)\u001b[0m\u001b[0;34m.\u001b[0m\u001b[0msplit\u001b[0m\u001b[0;34m(\u001b[0m\u001b[0;34m','\u001b[0m\u001b[0;34m)\u001b[0m\u001b[0;34m:\u001b[0m\u001b[0;34m\u001b[0m\u001b[0;34m\u001b[0m\u001b[0m\n\u001b[0;32m----> 4\u001b[0;31m         \u001b[0mdegerler\u001b[0m\u001b[0;34m.\u001b[0m\u001b[0mappend\u001b[0m\u001b[0;34m(\u001b[0m\u001b[0mfloat\u001b[0m\u001b[0;34m(\u001b[0m\u001b[0mitem\u001b[0m\u001b[0;34m)\u001b[0m\u001b[0;34m)\u001b[0m\u001b[0;34m\u001b[0m\u001b[0;34m\u001b[0m\u001b[0m\n\u001b[0m\u001b[1;32m      5\u001b[0m     \u001b[0;32mreturn\u001b[0m \u001b[0mdegerler\u001b[0m\u001b[0;34m\u001b[0m\u001b[0;34m\u001b[0m\u001b[0m\n",
            "\u001b[0;31mValueError\u001b[0m: could not convert string to float: "
          ]
        }
      ]
    },
    {
      "cell_type": "markdown",
      "metadata": {
        "id": "YtiDu3vRcS05"
      },
      "source": [
        "Yukarıdaki kod bir `ValueError`e yol açar çünkü `''` boş string'i float'a dönüştürülemez. Bu *edge case*'i ele almak için `parse_values` fonksiyonunu geliştirebiliriz. Değerin float olmadığı durumu da ele alacağız."
      ]
    },
    {
      "cell_type": "code",
      "metadata": {
        "id": "T-x-fqiIdu6M"
      },
      "source": [
        "def parse_values(data_line):\n",
        "    degerler = []\n",
        "    for item in data_line.strip().split(','):\n",
        "        if item == '':\n",
        "            degerler.append(0.0)\n",
        "        else:\n",
        "            try:\n",
        "                degerler.append(float(item))\n",
        "            except ValueError:\n",
        "                degerler.append(item)\n",
        "    return degerler"
      ],
      "execution_count": null,
      "outputs": []
    },
    {
      "cell_type": "code",
      "metadata": {
        "id": "QswDFC9zdxjR",
        "colab": {
          "base_uri": "https://localhost:8080/",
          "height": 35
        },
        "outputId": "3cc97785-5bd5-438e-a346-493f280210a1"
      },
      "source": [
        "dosya3_lines[2]"
      ],
      "execution_count": null,
      "outputs": [
        {
          "output_type": "execute_result",
          "data": {
            "application/vnd.google.colaboratory.intrinsic+json": {
              "type": "string"
            },
            "text/plain": [
              "'883000,16,0.14,\\n'"
            ]
          },
          "metadata": {},
          "execution_count": 34
        }
      ]
    },
    {
      "cell_type": "code",
      "metadata": {
        "id": "-ceDR53nd0Md",
        "colab": {
          "base_uri": "https://localhost:8080/"
        },
        "outputId": "c5596750-327c-436b-c371-45be9a554094"
      },
      "source": [
        "parse_values(dosya3_lines[2])"
      ],
      "execution_count": null,
      "outputs": [
        {
          "output_type": "execute_result",
          "data": {
            "text/plain": [
              "[883000.0, 16.0, 0.14, 0.0]"
            ]
          },
          "metadata": {},
          "execution_count": 35
        }
      ]
    },
    {
      "cell_type": "markdown",
      "metadata": {
        "id": "bE4r_bqad3z0"
      },
      "source": [
        "Daha sonra, girdi (input) olarak bir değerler listesi ve bir başlık (header) listesi alan ve ilgili başlıklarla ilişkili değerlerle anahtar olarak bir sözlük (dictionary) döndüren `create_item_dict` fonksiyonu tanımlayalım."
      ]
    },
    {
      "cell_type": "code",
      "metadata": {
        "id": "-2zhV47efeoV"
      },
      "source": [
        "def create_item_dict(degerler, basliklar):\n",
        "    sonuc = {}\n",
        "    for deger, baslik in zip(degerler, basliklar):\n",
        "        sonuc[baslik] = deger\n",
        "    return sonuc"
      ],
      "execution_count": null,
      "outputs": []
    },
    {
      "cell_type": "markdown",
      "metadata": {
        "id": "F3lyECiDfjRy"
      },
      "source": [
        "Python yerleşik işlevi 'zip'in ne yaptığını bulabilir misiniz? Bir örnek deneyin veya [belgeleri okuyun](https://docs.python.org/3.3/library/functions.html#zip)."
      ]
    },
    {
      "cell_type": "code",
      "metadata": {
        "id": "lFqLNUEEfiz-",
        "colab": {
          "base_uri": "https://localhost:8080/"
        },
        "outputId": "9843f09d-3bcd-44a0-8bab-3ff83baff0ab"
      },
      "source": [
        "for item in zip([1,2,3], ['a', 'b', 'c']):\n",
        "    print(item)"
      ],
      "execution_count": null,
      "outputs": [
        {
          "output_type": "stream",
          "name": "stdout",
          "text": [
            "(1, 'a')\n",
            "(2, 'b')\n",
            "(3, 'c')\n"
          ]
        }
      ]
    },
    {
      "cell_type": "markdown",
      "metadata": {
        "id": "CxD6Z9LnTAf2"
      },
      "source": [
        "Birkaç örnekle `create_item_dict`i deneyelim."
      ]
    },
    {
      "cell_type": "code",
      "metadata": {
        "id": "tESJN3BETKW_",
        "colab": {
          "base_uri": "https://localhost:8080/",
          "height": 35
        },
        "outputId": "94a2c673-7e59-4859-c925-f13bc162138d"
      },
      "source": [
        "dosya3_lines[1]"
      ],
      "execution_count": null,
      "outputs": [
        {
          "output_type": "execute_result",
          "data": {
            "application/vnd.google.colaboratory.intrinsic+json": {
              "type": "string"
            },
            "text/plain": [
              "'45230,48,0.07,4300\\n'"
            ]
          },
          "metadata": {},
          "execution_count": 38
        }
      ]
    },
    {
      "cell_type": "code",
      "metadata": {
        "id": "OcVkCYVfTYIS",
        "colab": {
          "base_uri": "https://localhost:8080/"
        },
        "outputId": "91d8b12b-0154-4dfc-8bee-ce4257182267"
      },
      "source": [
        "degerler1 = parse_values(dosya3_lines[1])\n",
        "create_item_dict(degerler1, basliklar)"
      ],
      "execution_count": null,
      "outputs": [
        {
          "output_type": "execute_result",
          "data": {
            "text/plain": [
              "{'amount': 45230.0, 'down_payment': 4300.0, 'duration': 48.0, 'rate': 0.07}"
            ]
          },
          "metadata": {},
          "execution_count": 39
        }
      ]
    },
    {
      "cell_type": "code",
      "metadata": {
        "id": "gwZTrRYATZyp",
        "colab": {
          "base_uri": "https://localhost:8080/",
          "height": 35
        },
        "outputId": "c684019c-6928-4934-dbb8-f2bf7bc52b7e"
      },
      "source": [
        "dosya3_lines[2]"
      ],
      "execution_count": null,
      "outputs": [
        {
          "output_type": "execute_result",
          "data": {
            "application/vnd.google.colaboratory.intrinsic+json": {
              "type": "string"
            },
            "text/plain": [
              "'883000,16,0.14,\\n'"
            ]
          },
          "metadata": {},
          "execution_count": 40
        }
      ]
    },
    {
      "cell_type": "code",
      "metadata": {
        "id": "HspYbnrBTcG0",
        "colab": {
          "base_uri": "https://localhost:8080/"
        },
        "outputId": "74d35c8b-eb89-4288-8ceb-c762ccdb0638"
      },
      "source": [
        "degerler2 = parse_values(dosya3_lines[2])\n",
        "create_item_dict(degerler2, basliklar)"
      ],
      "execution_count": null,
      "outputs": [
        {
          "output_type": "execute_result",
          "data": {
            "text/plain": [
              "{'amount': 883000.0, 'down_payment': 0.0, 'duration': 16.0, 'rate': 0.14}"
            ]
          },
          "metadata": {},
          "execution_count": 41
        }
      ]
    },
    {
      "cell_type": "markdown",
      "metadata": {
        "id": "7bCn3ky0Tekr"
      },
      "source": [
        "Beklendiği gibi, değerler (values) ve başlık (header), uygun anahtar-değer çiftleriyle bir sözlük oluşturmak için birleştirilir.\n",
        "\n",
        "Artık hepsini bir araya getirmeye ve `read_csv` fonksiyonunu tanımlamaya hazırız."
      ]
    },
    {
      "cell_type": "code",
      "metadata": {
        "id": "LNWIdlwOUPty"
      },
      "source": [
        "def read_csv(path):\n",
        "    sonuc = []\n",
        "    # Dosyayı okuma modunda açalım.\n",
        "    with open(path, 'r') as f:\n",
        "        # Satırların bir listesini alalım.\n",
        "        satirlar = f.readlines()\n",
        "        # Başlığı ayrıştıralım.\n",
        "        basliklar = parse_headers(satirlar[0])\n",
        "        # Kalan satırlar üzerinde döngü\n",
        "        for data_line in satirlar[1:]:\n",
        "            # Değerleri ayrıştıralım.\n",
        "            degerler = parse_values(data_line)\n",
        "            # Değerleri ve başlıkları kullanarak bir sözlük oluşturalım.\n",
        "            item_dict = create_item_dict(degerler, basliklar)\n",
        "            # Sonuca sözlüğü ekleyelim.\n",
        "            sonuc.append(item_dict)\n",
        "    return sonuc"
      ],
      "execution_count": null,
      "outputs": []
    },
    {
      "cell_type": "markdown",
      "metadata": {
        "id": "4W-i6TXkUTTF"
      },
      "source": [
        "Hadi deneyelim!"
      ]
    },
    {
      "cell_type": "code",
      "metadata": {
        "id": "2TNSwGb9UTv5",
        "colab": {
          "base_uri": "https://localhost:8080/"
        },
        "outputId": "ba4dc0b1-bb62-4446-ab31-3395b5c6b679"
      },
      "source": [
        "with open('./data/loans2.txt') as dosya2:\n",
        "    print(dosya2.read())"
      ],
      "execution_count": null,
      "outputs": [
        {
          "output_type": "stream",
          "name": "stdout",
          "text": [
            "amount,duration,rate,down_payment\n",
            "828400,120,0.11,100000\n",
            "4633400,240,0.06,\n",
            "42900,90,0.08,8900\n",
            "983000,16,0.14,\n",
            "15230,48,0.07,4300\n"
          ]
        }
      ]
    },
    {
      "cell_type": "code",
      "metadata": {
        "id": "faK5HOFGUV2a",
        "colab": {
          "base_uri": "https://localhost:8080/"
        },
        "outputId": "d18d9de9-7362-4a51-df3f-3074c94870ef"
      },
      "source": [
        "read_csv('./data/loans2.txt')"
      ],
      "execution_count": null,
      "outputs": [
        {
          "output_type": "execute_result",
          "data": {
            "text/plain": [
              "[{'amount': 828400.0,\n",
              "  'down_payment': 100000.0,\n",
              "  'duration': 120.0,\n",
              "  'rate': 0.11},\n",
              " {'amount': 4633400.0, 'down_payment': 0.0, 'duration': 240.0, 'rate': 0.06},\n",
              " {'amount': 42900.0, 'down_payment': 8900.0, 'duration': 90.0, 'rate': 0.08},\n",
              " {'amount': 983000.0, 'down_payment': 0.0, 'duration': 16.0, 'rate': 0.14},\n",
              " {'amount': 15230.0, 'down_payment': 4300.0, 'duration': 48.0, 'rate': 0.07}]"
            ]
          },
          "metadata": {},
          "execution_count": 44
        }
      ]
    },
    {
      "cell_type": "markdown",
      "metadata": {
        "id": "5FZC5JK5WJfA"
      },
      "source": [
        "Dosya, beklendiği gibi okunur ve bir sözlük listesine dönüştürülür. `read_csv` dosyası, herhangi bir sayıda satır veya sütunla CSV biçimindeki herhangi bir dosyayı ayrıştırabilecek kadar geneldir. İşte yardımcı fonksiyonlarla birlikte `read_csv` için tam kod:"
      ]
    },
    {
      "cell_type": "code",
      "metadata": {
        "id": "oy41GzxyYJ8X"
      },
      "source": [
        "def parse_headers(header_line):\n",
        "    return header_line.strip().split(',')\n",
        "\n",
        "def parse_values(data_line):\n",
        "    degerler = []\n",
        "    for item in data_line.strip().split(','):\n",
        "        if item == '':\n",
        "            degerler.append(0.0)\n",
        "        else:\n",
        "            try:\n",
        "                degerler.append(float(item))\n",
        "            except ValueError:\n",
        "                degerler.append(item)\n",
        "    return degerler\n",
        "\n",
        "def create_item_dict(degerler, basliklar):\n",
        "    sonuc = {}\n",
        "    for deger, baslik in zip(degerler, basliklar):\n",
        "        sonuc[baslik] = deger\n",
        "    return sonuc\n",
        "\n",
        "def read_csv(path):\n",
        "    sonuc = []\n",
        "    # Dosyayı okuma modunda açalım.\n",
        "    with open(path, 'r') as f:\n",
        "        # Satırların bir listesini alalım.\n",
        "        satirlar = f.readlines()\n",
        "        # Başlığı ayrıştıralım.\n",
        "        basliklar = parse_headers(satirlar[0])\n",
        "        # Kalan satırlar üzerinde döngü\n",
        "        for data_line in satirlar[1:]:\n",
        "            # Değerleri ayrıştıralım.\n",
        "            degerler = parse_values(data_line)\n",
        "            # Değerleri ve başlıkları kullanarak bir sözlük oluşturalım.\n",
        "            item_dict = create_item_dict(degerler, basliklar)\n",
        "            # Sonuca sözlüğü ekleyelim.\n",
        "            sonuc.append(item_dict)\n",
        "    return sonuc"
      ],
      "execution_count": null,
      "outputs": []
    },
    {
      "cell_type": "markdown",
      "metadata": {
        "id": "PR1FwEu2YNoH"
      },
      "source": [
        "Mümkün olduğunda küçük, genel ve yeniden kullanılabilir fonksiyonlar oluşturmaya çalışalım. Muhtemelen eldeki sorunun ötesinde faydalı olacaklar ve gelecekte bizi önemli ölçüde çabadan kurtaracaklar.\n",
        "\n",
        "[Önceki eğitimde](https://jovian.ml/aakashns/python-functions-and-scope), bir kredinin eşit aylık taksitlerini hesaplamak için bir fonksiyon tanımladık. İşte böyle görünüyordu:"
      ]
    },
    {
      "cell_type": "code",
      "metadata": {
        "id": "uHvzlztzZbpu"
      },
      "source": [
        "import math\n",
        "\n",
        "def kredi_esit_aylik_taksit(tutar, sure, oran, pesinat=0):\n",
        "    \"\"\"Bir kredi için eşit aylık taksiti (EAT) hesaplar.\n",
        "    \n",
        "    Argümanlar:\n",
        "        tutar - Harcanacak toplam tutar (kredi + peşinat)\n",
        "        sure - Kredinin süresi (ay olarak)\n",
        "        oran - Faiz oranı (aylık)\n",
        "        pesinat (isteğe bağlı) - İsteğe bağlı ilk ödeme (tutardan düşülür)\n",
        "    \"\"\"\n",
        "    kredi_tutari = tutar - pesinat\n",
        "    try:\n",
        "        eat = kredi_tutari * oran * ((1+oran)**sure) / (((1+oran)**sure)-1)\n",
        "    except ZeroDivisionError:\n",
        "        eat = kredi_tutari / sure\n",
        "    eat = math.ceil(eat)\n",
        "    return eat"
      ],
      "execution_count": null,
      "outputs": []
    },
    {
      "cell_type": "markdown",
      "metadata": {
        "id": "E2cfTbQuZkxY"
      },
      "source": [
        "Bir dosyadaki tüm krediler için Eşit Aylık Taksit'leri hesaplamak için bu fonksiyonu kullanabiliriz."
      ]
    },
    {
      "cell_type": "code",
      "metadata": {
        "id": "cGiJ_2l7Zyf2"
      },
      "source": [
        "kredi2 = read_csv('./data/loans2.txt')"
      ],
      "execution_count": null,
      "outputs": []
    },
    {
      "cell_type": "code",
      "metadata": {
        "id": "-2BwJg8TZ0NO",
        "colab": {
          "base_uri": "https://localhost:8080/"
        },
        "outputId": "859cdc8b-6a58-4ee7-da65-94bcf34cdcbf"
      },
      "source": [
        "kredi2"
      ],
      "execution_count": null,
      "outputs": [
        {
          "output_type": "execute_result",
          "data": {
            "text/plain": [
              "[{'amount': 828400.0,\n",
              "  'down_payment': 100000.0,\n",
              "  'duration': 120.0,\n",
              "  'rate': 0.11},\n",
              " {'amount': 4633400.0, 'down_payment': 0.0, 'duration': 240.0, 'rate': 0.06},\n",
              " {'amount': 42900.0, 'down_payment': 8900.0, 'duration': 90.0, 'rate': 0.08},\n",
              " {'amount': 983000.0, 'down_payment': 0.0, 'duration': 16.0, 'rate': 0.14},\n",
              " {'amount': 15230.0, 'down_payment': 4300.0, 'duration': 48.0, 'rate': 0.07}]"
            ]
          },
          "metadata": {},
          "execution_count": 48
        }
      ]
    },
    {
      "cell_type": "code",
      "metadata": {
        "id": "MZgySgFTZ2PG"
      },
      "source": [
        "for kredi in kredi2:\n",
        "    kredi['emi'] = kredi_esit_aylik_taksit(kredi['amount'], \n",
        "                           kredi['duration'], \n",
        "                           kredi['rate']/12, # the CSV contains yearly rates\n",
        "                           kredi['down_payment'])"
      ],
      "execution_count": null,
      "outputs": []
    },
    {
      "cell_type": "code",
      "metadata": {
        "id": "ndSiUo5LZ4IW",
        "colab": {
          "base_uri": "https://localhost:8080/"
        },
        "outputId": "6129b820-8d4c-4b01-d19f-6f7a22b8e897"
      },
      "source": [
        "kredi2"
      ],
      "execution_count": null,
      "outputs": [
        {
          "output_type": "execute_result",
          "data": {
            "text/plain": [
              "[{'amount': 828400.0,\n",
              "  'down_payment': 100000.0,\n",
              "  'duration': 120.0,\n",
              "  'emi': 10034,\n",
              "  'rate': 0.11},\n",
              " {'amount': 4633400.0,\n",
              "  'down_payment': 0.0,\n",
              "  'duration': 240.0,\n",
              "  'emi': 33196,\n",
              "  'rate': 0.06},\n",
              " {'amount': 42900.0,\n",
              "  'down_payment': 8900.0,\n",
              "  'duration': 90.0,\n",
              "  'emi': 504,\n",
              "  'rate': 0.08},\n",
              " {'amount': 983000.0,\n",
              "  'down_payment': 0.0,\n",
              "  'duration': 16.0,\n",
              "  'emi': 67707,\n",
              "  'rate': 0.14},\n",
              " {'amount': 15230.0,\n",
              "  'down_payment': 4300.0,\n",
              "  'duration': 48.0,\n",
              "  'emi': 262,\n",
              "  'rate': 0.07}]"
            ]
          },
          "metadata": {},
          "execution_count": 50
        }
      ]
    },
    {
      "cell_type": "markdown",
      "metadata": {
        "id": "tXV33t0lZ73e"
      },
      "source": [
        "Şimdi, her kredinin kredi için EMI sağlayan yeni bir `emi` anahtarına sahip olduğunu görebilirsiniz. Bu mantığı başka dosyalar için de kullanabilmemiz için bir fonksiyona çıkartabiliriz."
      ]
    },
    {
      "cell_type": "code",
      "metadata": {
        "id": "tcen1KdbbOmN"
      },
      "source": [
        "def compute_emis(krediler):\n",
        "    for kredi in krediler:\n",
        "        kredi['emi'] = kredi_esit_aylik_taksit(\n",
        "            kredi['amount'], \n",
        "            kredi['duration'], \n",
        "            kredi['rate']/12, # the CSV contains yearly rates\n",
        "            kredi['down_payment'])"
      ],
      "execution_count": null,
      "outputs": []
    },
    {
      "cell_type": "markdown",
      "metadata": {
        "id": "lHAaWyOHbRn6"
      },
      "source": [
        "## Dosyalara yazma\n",
        "\n",
        "Artık veriler üzerinde bazı işlemler gerçekleştirdiğimize göre, sonuçları bir CSV dosyasına geri yazmak iyi olur. `open` kullanarak `w` modunda bir dosya oluşturabilir/açabilir ve `.write` yöntemini kullanarak ona yazabiliriz. String `format` yöntemi burada kullanışlı olacaktır."
      ]
    },
    {
      "cell_type": "code",
      "metadata": {
        "id": "ds4Lz6gqdGI-"
      },
      "source": [
        "kredi2 = read_csv('./data/loans2.txt')"
      ],
      "execution_count": null,
      "outputs": []
    },
    {
      "cell_type": "code",
      "metadata": {
        "id": "15f5BVJAdH5s"
      },
      "source": [
        "compute_emis(kredi2)"
      ],
      "execution_count": null,
      "outputs": []
    },
    {
      "cell_type": "code",
      "metadata": {
        "id": "AlPQh2T0dJqu",
        "colab": {
          "base_uri": "https://localhost:8080/"
        },
        "outputId": "931a8103-d8b0-4736-f061-dd9702060733"
      },
      "source": [
        "kredi2"
      ],
      "execution_count": null,
      "outputs": [
        {
          "output_type": "execute_result",
          "data": {
            "text/plain": [
              "[{'amount': 828400.0,\n",
              "  'down_payment': 100000.0,\n",
              "  'duration': 120.0,\n",
              "  'emi': 10034,\n",
              "  'rate': 0.11},\n",
              " {'amount': 4633400.0,\n",
              "  'down_payment': 0.0,\n",
              "  'duration': 240.0,\n",
              "  'emi': 33196,\n",
              "  'rate': 0.06},\n",
              " {'amount': 42900.0,\n",
              "  'down_payment': 8900.0,\n",
              "  'duration': 90.0,\n",
              "  'emi': 504,\n",
              "  'rate': 0.08},\n",
              " {'amount': 983000.0,\n",
              "  'down_payment': 0.0,\n",
              "  'duration': 16.0,\n",
              "  'emi': 67707,\n",
              "  'rate': 0.14},\n",
              " {'amount': 15230.0,\n",
              "  'down_payment': 4300.0,\n",
              "  'duration': 48.0,\n",
              "  'emi': 262,\n",
              "  'rate': 0.07}]"
            ]
          },
          "metadata": {},
          "execution_count": 54
        }
      ]
    },
    {
      "cell_type": "code",
      "metadata": {
        "id": "aShqwl4kdLxO"
      },
      "source": [
        "with open('./data/emis2.txt', 'w') as f:\n",
        "    for kredi in kredi2:\n",
        "        f.write('{},{},{},{},{}\\n'.format(\n",
        "            kredi['amount'], \n",
        "            kredi['duration'], \n",
        "            kredi['rate'], \n",
        "            kredi['down_payment'], \n",
        "            kredi['emi']))"
      ],
      "execution_count": null,
      "outputs": []
    },
    {
      "cell_type": "markdown",
      "metadata": {
        "id": "aoLsWbHudSzu"
      },
      "source": [
        "Dosyanın beklendiği gibi oluşturulduğunu ve yazıldığını doğrulayalım."
      ]
    },
    {
      "cell_type": "code",
      "metadata": {
        "id": "gIedb42WdU1O",
        "colab": {
          "base_uri": "https://localhost:8080/"
        },
        "outputId": "520c73af-6ead-4591-acd3-b3fb0e25fbb1"
      },
      "source": [
        "os.listdir('data')"
      ],
      "execution_count": null,
      "outputs": [
        {
          "output_type": "execute_result",
          "data": {
            "text/plain": [
              "['loans3.txt', 'loans2.txt', 'loans1.txt', 'emis2.txt']"
            ]
          },
          "metadata": {},
          "execution_count": 56
        }
      ]
    },
    {
      "cell_type": "code",
      "metadata": {
        "id": "GpcCDgahdXP0",
        "colab": {
          "base_uri": "https://localhost:8080/"
        },
        "outputId": "b42e8f1b-ae01-4276-ce4a-cb382217dd7d"
      },
      "source": [
        "with open('./data/emis2.txt', 'r') as f:\n",
        "    print(f.read())"
      ],
      "execution_count": null,
      "outputs": [
        {
          "output_type": "stream",
          "name": "stdout",
          "text": [
            "828400.0,120.0,0.11,100000.0,10034\n",
            "4633400.0,240.0,0.06,0.0,33196\n",
            "42900.0,90.0,0.08,8900.0,504\n",
            "983000.0,16.0,0.14,0.0,67707\n",
            "15230.0,48.0,0.07,4300.0,262\n",
            "\n"
          ]
        }
      ]
    },
    {
      "cell_type": "markdown",
      "metadata": {
        "id": "FcMkglFBdZ_Y"
      },
      "source": [
        "Harika! Kredi ayrıntıları (hesaplanan Eşit Aylık Taksit'lerle birlikte) dosyaya yazılmış gibi görünüyor.\n",
        "\n",
        "Sözlüklerin bir listesini alan ve onu CSV formatında bir dosyaya yazan genel bir `write_csv` fonksiyonu tanımlayalım. Sütun başlıklarını da ilk satıra ekleyeceğiz."
      ]
    },
    {
      "cell_type": "code",
      "metadata": {
        "id": "80ql1YazeJFM"
      },
      "source": [
        "def write_csv(items, path):\n",
        "    # Open the file in write mode\n",
        "    with open(path, 'w') as f:\n",
        "        # Return if there's nothing to write\n",
        "        if len(items) == 0:\n",
        "            return\n",
        "        \n",
        "        # Write the headers in the first line\n",
        "        basliklar = list(items[0].keys())\n",
        "        f.write(','.join(basliklar) + '\\n')\n",
        "        \n",
        "        # Write one item per line\n",
        "        for item in items:\n",
        "            degerler = []\n",
        "            for baslik in basliklar:\n",
        "                degerler.append(str(item.get(baslik, \"\")))\n",
        "            f.write(','.join(degerler) + \"\\n\")"
      ],
      "execution_count": null,
      "outputs": []
    },
    {
      "cell_type": "markdown",
      "metadata": {
        "id": "-To2_gb4eWRv"
      },
      "source": [
        "Fonksiyonun nasıl çalıştığını anlıyor muyuz? Şimdiyse, nasıl çalıştığını anlamak için her bir ifadeyi satır satır veya farklı bir hücrede yürütmeyi deneyelim.\n",
        "\n",
        "Hadi deneyelim!"
      ]
    },
    {
      "cell_type": "code",
      "metadata": {
        "id": "moKhGaVMe8WD"
      },
      "source": [
        "kredi3 = read_csv('./data/loans3.txt')"
      ],
      "execution_count": null,
      "outputs": []
    },
    {
      "cell_type": "code",
      "metadata": {
        "id": "7CE1vNqDe91j"
      },
      "source": [
        "compute_emis(kredi3)"
      ],
      "execution_count": null,
      "outputs": []
    },
    {
      "cell_type": "code",
      "metadata": {
        "id": "n8Kk90J2e_Ys"
      },
      "source": [
        "write_csv(kredi3, './data/emis3.txt')"
      ],
      "execution_count": null,
      "outputs": []
    },
    {
      "cell_type": "code",
      "metadata": {
        "id": "oXmTKLWZfA8L",
        "colab": {
          "base_uri": "https://localhost:8080/"
        },
        "outputId": "9ea89e24-3f88-48c7-e49b-2e40615ebf85"
      },
      "source": [
        "with open('./data/emis3.txt', 'r') as f:\n",
        "    print(f.read())"
      ],
      "execution_count": null,
      "outputs": [
        {
          "output_type": "stream",
          "name": "stdout",
          "text": [
            "amount,duration,rate,down_payment,emi\n",
            "45230.0,48.0,0.07,4300.0,981\n",
            "883000.0,16.0,0.14,0.0,60819\n",
            "100000.0,12.0,0.1,0.0,8792\n",
            "728400.0,120.0,0.12,100000.0,9016\n",
            "3637400.0,240.0,0.06,0.0,26060\n",
            "82900.0,90.0,0.07,8900.0,1060\n",
            "316000.0,16.0,0.13,0.0,21618\n",
            "15230.0,48.0,0.08,4300.0,267\n",
            "991360.0,99.0,0.08,0.0,13712\n",
            "323000.0,27.0,0.09,4720010000.0,-193751447\n",
            "528400.0,120.0,0.11,100000.0,5902\n",
            "8633400.0,240.0,0.06,0.0,61853\n",
            "12900.0,90.0,0.08,8900.0,60\n",
            "\n"
          ]
        }
      ]
    },
    {
      "cell_type": "markdown",
      "metadata": {
        "id": "ZmUzlJF5fLez"
      },
      "source": [
        "Yalnızca dört satır kodla artık indirilen her dosyayı okuyabilir, Eşit Aylık Taksit'leri hesaplayabilir ve sonuçları yeni dosyalara geri yazabiliriz:"
      ]
    },
    {
      "cell_type": "code",
      "metadata": {
        "id": "R9IK8exNfTMz"
      },
      "source": [
        "for i in range(1,4):\n",
        "    krediler = read_csv('./data/loans{}.txt'.format(i))\n",
        "    compute_emis(krediler)\n",
        "    write_csv(krediler, './data/emis{}.txt'.format(i))"
      ],
      "execution_count": null,
      "outputs": []
    },
    {
      "cell_type": "code",
      "metadata": {
        "id": "_lXFPMwJfU3j",
        "colab": {
          "base_uri": "https://localhost:8080/"
        },
        "outputId": "9cd49c12-6ce5-4a57-ae73-7253dd5ff0f6"
      },
      "source": [
        "os.listdir('./data')"
      ],
      "execution_count": null,
      "outputs": [
        {
          "output_type": "execute_result",
          "data": {
            "text/plain": [
              "['loans3.txt',\n",
              " 'loans2.txt',\n",
              " 'loans1.txt',\n",
              " 'emis3.txt',\n",
              " 'emis2.txt',\n",
              " 'emis1.txt']"
            ]
          },
          "metadata": {},
          "execution_count": 64
        }
      ]
    },
    {
      "cell_type": "markdown",
      "metadata": {
        "id": "XYu4T4Y2f5pW"
      },
      "source": [
        "Bu harika değil mi? Tüm fonksiyonlar tanımlandıktan sonra, sadece birkaç satır kodla birçok dosyada binlerce hatta milyonlarca kredi için EMI'leri saniyeler içinde hesaplayabiliriz. Şimdi verileri işlemek için Python gibi bir programlama dili kullanmanın gerçek gücünü görmeye başlıyoruz!"
      ]
    },
    {
      "cell_type": "markdown",
      "metadata": {
        "id": "OPtB80Q-gon8"
      },
      "source": [
        "## CSV'leri Okumak ve Yazmak için Pandas Kullanma\n",
        "\n",
        "Yukarıda tanımladığımız `read_csv` ve `write_csv` fonksiyonlarında bazı sınırlamalar var:\n",
        "\n",
        "* CSV dosyalarındaki değerlerden herhangi biri virgül içeriyorsa, `read_csv` fonksiyonu uygun bir sözlük oluşturamaz.\n",
        "\n",
        "* Yazılacak değerlerden herhangi biri virgül içeriyorsa, `write_csv` fonksiyonu uygun bir CSV oluşturamaz.\n",
        "\n",
        "CSV dosyasındaki bir değer virgül (`,`) içerdiğinde, değer genellikle çift tırnak içine alınır. Değerlerdeki çift tırnaklar (`\"`) iki çift tırnak işaretine (`\"\"`) dönüştürülür. İşte bir örnek:\n",
        "\n",
        "\n",
        "```\n",
        "başlık, açıklama\n",
        "Hızlı ve Öfkeli, \"Film, yarış, franchise\"\n",
        "Kara Şövalye, \"Gotham, \"\"Batman\"\", ve Joker\"\n",
        "Akıl Defteri, Bir adam her 15 dakikada bir her şeyi unutur\n",
        "\n",
        "```\n",
        "\n",
        "Hadi deneyelim."
      ]
    },
    {
      "cell_type": "code",
      "metadata": {
        "id": "_f8Us7i7nUYf"
      },
      "source": [
        "fimler_url = \"https://gist.githubusercontent.com/aakashns/afee0a407d44bbc02321993548021af9/raw/6d7473f0ac4c54aca65fc4b06ed831b8a4840190/movies.csv\""
      ],
      "execution_count": null,
      "outputs": []
    },
    {
      "cell_type": "code",
      "metadata": {
        "id": "HM7aTNN_nWlG",
        "colab": {
          "base_uri": "https://localhost:8080/"
        },
        "outputId": "6af9aad6-7cc3-4c43-dff3-64f9d47ebb0b"
      },
      "source": [
        "urlretrieve(fimler_url, 'data/movies.csv')"
      ],
      "execution_count": null,
      "outputs": [
        {
          "output_type": "execute_result",
          "data": {
            "text/plain": [
              "('data/movies.csv', <http.client.HTTPMessage at 0x7fc040e7d810>)"
            ]
          },
          "metadata": {},
          "execution_count": 66
        }
      ]
    },
    {
      "cell_type": "code",
      "metadata": {
        "id": "WMDH2oz6nYWu"
      },
      "source": [
        "fimler = read_csv('data/movies.csv')"
      ],
      "execution_count": null,
      "outputs": []
    },
    {
      "cell_type": "code",
      "metadata": {
        "id": "HB8hP5nynaNg",
        "colab": {
          "base_uri": "https://localhost:8080/"
        },
        "outputId": "dc716458-a2c3-4cf2-bd94-9030a07b7a0e"
      },
      "source": [
        "fimler"
      ],
      "execution_count": null,
      "outputs": [
        {
          "output_type": "execute_result",
          "data": {
            "text/plain": [
              "[{'description': '\"A movie', 'title': 'Fast & Furious'},\n",
              " {'description': '\"Gotham', 'title': 'The Dark Knight'},\n",
              " {'description': 'A guy forgets everything every 15 minutes',\n",
              "  'title': 'Memento'}]"
            ]
          },
          "metadata": {},
          "execution_count": 68
        }
      ]
    },
    {
      "cell_type": "markdown",
      "metadata": {
        "id": "Q7tG0Xiood8x"
      },
      "source": [
        "Yukarıda da görebileceğiniz gibi, film açıklamaları düzgün bir şekilde ayrıştırılmamış.\n",
        "\n",
        "Bu CSV'yi düzgün okumak için `pandas` kütüphanesini kullanabiliriz."
      ]
    },
    {
      "cell_type": "code",
      "source": [
        "from urllib.request import urlretrieve"
      ],
      "metadata": {
        "id": "eEf6T3wHTh5L"
      },
      "execution_count": null,
      "outputs": []
    },
    {
      "cell_type": "code",
      "metadata": {
        "id": "EaP8-X_bowr2"
      },
      "source": [
        "import pandas as pd"
      ],
      "execution_count": null,
      "outputs": []
    },
    {
      "cell_type": "code",
      "source": [
        "urlretrieve(fimler_url, 'movies.csv')"
      ],
      "metadata": {
        "colab": {
          "base_uri": "https://localhost:8080/"
        },
        "id": "Rd1KWyJDTnyb",
        "outputId": "30a9b8e7-bdeb-4e37-bec8-49d6757fcb9a"
      },
      "execution_count": null,
      "outputs": [
        {
          "output_type": "execute_result",
          "data": {
            "text/plain": [
              "('movies.csv', <http.client.HTTPMessage at 0x7fc040eb3710>)"
            ]
          },
          "metadata": {},
          "execution_count": 71
        }
      ]
    },
    {
      "cell_type": "markdown",
      "metadata": {
        "id": "pF4b0e9Iozem"
      },
      "source": [
        "`pd.read_csv` fonksiyonu, CSV dosyasını bir pandas veri çerçevesine okumak için kullanılabilir: Verileri analiz etmek ve işlemek için elektronik tablo benzeri bir nesne. Gelecekteki bir derste veri çerçeveleri hakkında daha fazla bilgi edineceğiz."
      ]
    },
    {
      "cell_type": "code",
      "metadata": {
        "id": "ux9YxdSbplvW"
      },
      "source": [
        "movies_dataframe = pd.read_csv('movies.csv')"
      ],
      "execution_count": null,
      "outputs": []
    },
    {
      "cell_type": "code",
      "metadata": {
        "id": "Jrr8HjpTpnZV",
        "colab": {
          "base_uri": "https://localhost:8080/",
          "height": 143
        },
        "outputId": "3725631d-45bf-4c7e-af61-866a5bd873fc"
      },
      "source": [
        "movies_dataframe"
      ],
      "execution_count": null,
      "outputs": [
        {
          "output_type": "execute_result",
          "data": {
            "text/html": [
              "\n",
              "  <div id=\"df-38980f2b-545d-49e2-b775-36a0552e7213\">\n",
              "    <div class=\"colab-df-container\">\n",
              "      <div>\n",
              "<style scoped>\n",
              "    .dataframe tbody tr th:only-of-type {\n",
              "        vertical-align: middle;\n",
              "    }\n",
              "\n",
              "    .dataframe tbody tr th {\n",
              "        vertical-align: top;\n",
              "    }\n",
              "\n",
              "    .dataframe thead th {\n",
              "        text-align: right;\n",
              "    }\n",
              "</style>\n",
              "<table border=\"1\" class=\"dataframe\">\n",
              "  <thead>\n",
              "    <tr style=\"text-align: right;\">\n",
              "      <th></th>\n",
              "      <th>title</th>\n",
              "      <th>description</th>\n",
              "    </tr>\n",
              "  </thead>\n",
              "  <tbody>\n",
              "    <tr>\n",
              "      <th>0</th>\n",
              "      <td>Fast &amp; Furious</td>\n",
              "      <td>A movie, a race, a franchise</td>\n",
              "    </tr>\n",
              "    <tr>\n",
              "      <th>1</th>\n",
              "      <td>The Dark Knight</td>\n",
              "      <td>Gotham, the \"Batman\", and the Joker</td>\n",
              "    </tr>\n",
              "    <tr>\n",
              "      <th>2</th>\n",
              "      <td>Memento</td>\n",
              "      <td>A guy forgets everything every 15 minutes</td>\n",
              "    </tr>\n",
              "  </tbody>\n",
              "</table>\n",
              "</div>\n",
              "      <button class=\"colab-df-convert\" onclick=\"convertToInteractive('df-38980f2b-545d-49e2-b775-36a0552e7213')\"\n",
              "              title=\"Convert this dataframe to an interactive table.\"\n",
              "              style=\"display:none;\">\n",
              "        \n",
              "  <svg xmlns=\"http://www.w3.org/2000/svg\" height=\"24px\"viewBox=\"0 0 24 24\"\n",
              "       width=\"24px\">\n",
              "    <path d=\"M0 0h24v24H0V0z\" fill=\"none\"/>\n",
              "    <path d=\"M18.56 5.44l.94 2.06.94-2.06 2.06-.94-2.06-.94-.94-2.06-.94 2.06-2.06.94zm-11 1L8.5 8.5l.94-2.06 2.06-.94-2.06-.94L8.5 2.5l-.94 2.06-2.06.94zm10 10l.94 2.06.94-2.06 2.06-.94-2.06-.94-.94-2.06-.94 2.06-2.06.94z\"/><path d=\"M17.41 7.96l-1.37-1.37c-.4-.4-.92-.59-1.43-.59-.52 0-1.04.2-1.43.59L10.3 9.45l-7.72 7.72c-.78.78-.78 2.05 0 2.83L4 21.41c.39.39.9.59 1.41.59.51 0 1.02-.2 1.41-.59l7.78-7.78 2.81-2.81c.8-.78.8-2.07 0-2.86zM5.41 20L4 18.59l7.72-7.72 1.47 1.35L5.41 20z\"/>\n",
              "  </svg>\n",
              "      </button>\n",
              "      \n",
              "  <style>\n",
              "    .colab-df-container {\n",
              "      display:flex;\n",
              "      flex-wrap:wrap;\n",
              "      gap: 12px;\n",
              "    }\n",
              "\n",
              "    .colab-df-convert {\n",
              "      background-color: #E8F0FE;\n",
              "      border: none;\n",
              "      border-radius: 50%;\n",
              "      cursor: pointer;\n",
              "      display: none;\n",
              "      fill: #1967D2;\n",
              "      height: 32px;\n",
              "      padding: 0 0 0 0;\n",
              "      width: 32px;\n",
              "    }\n",
              "\n",
              "    .colab-df-convert:hover {\n",
              "      background-color: #E2EBFA;\n",
              "      box-shadow: 0px 1px 2px rgba(60, 64, 67, 0.3), 0px 1px 3px 1px rgba(60, 64, 67, 0.15);\n",
              "      fill: #174EA6;\n",
              "    }\n",
              "\n",
              "    [theme=dark] .colab-df-convert {\n",
              "      background-color: #3B4455;\n",
              "      fill: #D2E3FC;\n",
              "    }\n",
              "\n",
              "    [theme=dark] .colab-df-convert:hover {\n",
              "      background-color: #434B5C;\n",
              "      box-shadow: 0px 1px 3px 1px rgba(0, 0, 0, 0.15);\n",
              "      filter: drop-shadow(0px 1px 2px rgba(0, 0, 0, 0.3));\n",
              "      fill: #FFFFFF;\n",
              "    }\n",
              "  </style>\n",
              "\n",
              "      <script>\n",
              "        const buttonEl =\n",
              "          document.querySelector('#df-38980f2b-545d-49e2-b775-36a0552e7213 button.colab-df-convert');\n",
              "        buttonEl.style.display =\n",
              "          google.colab.kernel.accessAllowed ? 'block' : 'none';\n",
              "\n",
              "        async function convertToInteractive(key) {\n",
              "          const element = document.querySelector('#df-38980f2b-545d-49e2-b775-36a0552e7213');\n",
              "          const dataTable =\n",
              "            await google.colab.kernel.invokeFunction('convertToInteractive',\n",
              "                                                     [key], {});\n",
              "          if (!dataTable) return;\n",
              "\n",
              "          const docLinkHtml = 'Like what you see? Visit the ' +\n",
              "            '<a target=\"_blank\" href=https://colab.research.google.com/notebooks/data_table.ipynb>data table notebook</a>'\n",
              "            + ' to learn more about interactive tables.';\n",
              "          element.innerHTML = '';\n",
              "          dataTable['output_type'] = 'display_data';\n",
              "          await google.colab.output.renderOutput(dataTable, element);\n",
              "          const docLink = document.createElement('div');\n",
              "          docLink.innerHTML = docLinkHtml;\n",
              "          element.appendChild(docLink);\n",
              "        }\n",
              "      </script>\n",
              "    </div>\n",
              "  </div>\n",
              "  "
            ],
            "text/plain": [
              "             title                                description\n",
              "0   Fast & Furious               A movie, a race, a franchise\n",
              "1  The Dark Knight        Gotham, the \"Batman\", and the Joker\n",
              "2          Memento  A guy forgets everything every 15 minutes"
            ]
          },
          "metadata": {},
          "execution_count": 73
        }
      ]
    },
    {
      "cell_type": "markdown",
      "metadata": {
        "id": "5PViS_v8p3nG"
      },
      "source": [
        "Bir veri çerçevesi, `to_dict` yöntemi kullanılarak bir sözlük listesine dönüştürülebilir."
      ]
    },
    {
      "cell_type": "code",
      "metadata": {
        "id": "JTomMIB7qD2t"
      },
      "source": [
        "movies = movies_dataframe.to_dict('records')"
      ],
      "execution_count": null,
      "outputs": []
    },
    {
      "cell_type": "code",
      "metadata": {
        "id": "HIIFeDiQqFb3",
        "colab": {
          "base_uri": "https://localhost:8080/"
        },
        "outputId": "183b22fb-8e87-4fd0-968f-c21e6198c14f"
      },
      "source": [
        "movies"
      ],
      "execution_count": null,
      "outputs": [
        {
          "output_type": "execute_result",
          "data": {
            "text/plain": [
              "[{'description': 'A movie, a race, a franchise', 'title': 'Fast & Furious'},\n",
              " {'description': 'Gotham, the \"Batman\", and the Joker',\n",
              "  'title': 'The Dark Knight'},\n",
              " {'description': 'A guy forgets everything every 15 minutes',\n",
              "  'title': 'Memento'}]"
            ]
          },
          "metadata": {},
          "execution_count": 75
        }
      ]
    },
    {
      "cell_type": "markdown",
      "metadata": {
        "id": "iayUFXFMqHqf"
      },
      "source": [
        "Eğer `records` argümanlarını iletemezseniz, bunun yerine bir listeler sözlüğü alırsınız."
      ]
    },
    {
      "cell_type": "code",
      "metadata": {
        "id": "JJgj9kKavH4N"
      },
      "source": [
        "movies_dict = movies_dataframe.to_dict()"
      ],
      "execution_count": null,
      "outputs": []
    },
    {
      "cell_type": "code",
      "metadata": {
        "id": "zJmRKG5FvJ9C",
        "colab": {
          "base_uri": "https://localhost:8080/"
        },
        "outputId": "b5d24e11-cea2-40fa-adfa-f9513941297c"
      },
      "source": [
        "movies_dict"
      ],
      "execution_count": null,
      "outputs": [
        {
          "output_type": "execute_result",
          "data": {
            "text/plain": [
              "{'description': {0: 'A movie, a race, a franchise',\n",
              "  1: 'Gotham, the \"Batman\", and the Joker',\n",
              "  2: 'A guy forgets everything every 15 minutes'},\n",
              " 'title': {0: 'Fast & Furious', 1: 'The Dark Knight', 2: 'Memento'}}"
            ]
          },
          "metadata": {},
          "execution_count": 77
        }
      ]
    },
    {
      "cell_type": "markdown",
      "metadata": {
        "id": "vKQyvjTDvMma"
      },
      "source": [
        "`movies` verilerini bir CSV dosyasına geri yazmak için `write_csv` fonksiyonunu kullanmayı deneyelim."
      ]
    },
    {
      "cell_type": "code",
      "metadata": {
        "id": "hhAB241ewhjC"
      },
      "source": [
        "write_csv(movies, 'movies2.csv')"
      ],
      "execution_count": null,
      "outputs": []
    },
    {
      "cell_type": "code",
      "metadata": {
        "id": "YAe3lhR4wjQR",
        "colab": {
          "base_uri": "https://localhost:8080/"
        },
        "outputId": "92fd34df-496c-4f39-9202-ad9bd7c398bc"
      },
      "source": [
        "!head movies2.csv"
      ],
      "execution_count": null,
      "outputs": [
        {
          "output_type": "stream",
          "name": "stdout",
          "text": [
            "title,description\n",
            "Fast & Furious,A movie, a race, a franchise\n",
            "The Dark Knight,Gotham, the \"Batman\", and the Joker\n",
            "Memento,A guy forgets everything every 15 minutes\n"
          ]
        }
      ]
    },
    {
      "cell_type": "markdown",
      "metadata": {
        "id": "q3cKAvvNwlwp"
      },
      "source": [
        "Yukarıda görebileceğiniz gibi, CSV dosyası düzgün biçimlendirilmemiş. Bu, dosyayı `pd.read_csv` kullanılarak okumaya çalışılıp doğrulanabilir."
      ]
    },
    {
      "cell_type": "code",
      "metadata": {
        "id": "_qihwOc5wzOb",
        "colab": {
          "base_uri": "https://localhost:8080/",
          "height": 143
        },
        "outputId": "0224b0ad-726d-4522-a88f-7eb1b3934879"
      },
      "source": [
        "pd.read_csv('movies2.csv')"
      ],
      "execution_count": null,
      "outputs": [
        {
          "output_type": "execute_result",
          "data": {
            "text/html": [
              "\n",
              "  <div id=\"df-c5b6c4d1-1c37-4cb9-9416-08a6b8963bfd\">\n",
              "    <div class=\"colab-df-container\">\n",
              "      <div>\n",
              "<style scoped>\n",
              "    .dataframe tbody tr th:only-of-type {\n",
              "        vertical-align: middle;\n",
              "    }\n",
              "\n",
              "    .dataframe tbody tr th {\n",
              "        vertical-align: top;\n",
              "    }\n",
              "\n",
              "    .dataframe thead th {\n",
              "        text-align: right;\n",
              "    }\n",
              "</style>\n",
              "<table border=\"1\" class=\"dataframe\">\n",
              "  <thead>\n",
              "    <tr style=\"text-align: right;\">\n",
              "      <th></th>\n",
              "      <th></th>\n",
              "      <th>title</th>\n",
              "      <th>description</th>\n",
              "    </tr>\n",
              "  </thead>\n",
              "  <tbody>\n",
              "    <tr>\n",
              "      <th>Fast &amp; Furious</th>\n",
              "      <th>A movie</th>\n",
              "      <td>a race</td>\n",
              "      <td>a franchise</td>\n",
              "    </tr>\n",
              "    <tr>\n",
              "      <th>The Dark Knight</th>\n",
              "      <th>Gotham</th>\n",
              "      <td>the \"Batman\"</td>\n",
              "      <td>and the Joker</td>\n",
              "    </tr>\n",
              "    <tr>\n",
              "      <th>Memento</th>\n",
              "      <th>A guy forgets everything every 15 minutes</th>\n",
              "      <td>NaN</td>\n",
              "      <td>NaN</td>\n",
              "    </tr>\n",
              "  </tbody>\n",
              "</table>\n",
              "</div>\n",
              "      <button class=\"colab-df-convert\" onclick=\"convertToInteractive('df-c5b6c4d1-1c37-4cb9-9416-08a6b8963bfd')\"\n",
              "              title=\"Convert this dataframe to an interactive table.\"\n",
              "              style=\"display:none;\">\n",
              "        \n",
              "  <svg xmlns=\"http://www.w3.org/2000/svg\" height=\"24px\"viewBox=\"0 0 24 24\"\n",
              "       width=\"24px\">\n",
              "    <path d=\"M0 0h24v24H0V0z\" fill=\"none\"/>\n",
              "    <path d=\"M18.56 5.44l.94 2.06.94-2.06 2.06-.94-2.06-.94-.94-2.06-.94 2.06-2.06.94zm-11 1L8.5 8.5l.94-2.06 2.06-.94-2.06-.94L8.5 2.5l-.94 2.06-2.06.94zm10 10l.94 2.06.94-2.06 2.06-.94-2.06-.94-.94-2.06-.94 2.06-2.06.94z\"/><path d=\"M17.41 7.96l-1.37-1.37c-.4-.4-.92-.59-1.43-.59-.52 0-1.04.2-1.43.59L10.3 9.45l-7.72 7.72c-.78.78-.78 2.05 0 2.83L4 21.41c.39.39.9.59 1.41.59.51 0 1.02-.2 1.41-.59l7.78-7.78 2.81-2.81c.8-.78.8-2.07 0-2.86zM5.41 20L4 18.59l7.72-7.72 1.47 1.35L5.41 20z\"/>\n",
              "  </svg>\n",
              "      </button>\n",
              "      \n",
              "  <style>\n",
              "    .colab-df-container {\n",
              "      display:flex;\n",
              "      flex-wrap:wrap;\n",
              "      gap: 12px;\n",
              "    }\n",
              "\n",
              "    .colab-df-convert {\n",
              "      background-color: #E8F0FE;\n",
              "      border: none;\n",
              "      border-radius: 50%;\n",
              "      cursor: pointer;\n",
              "      display: none;\n",
              "      fill: #1967D2;\n",
              "      height: 32px;\n",
              "      padding: 0 0 0 0;\n",
              "      width: 32px;\n",
              "    }\n",
              "\n",
              "    .colab-df-convert:hover {\n",
              "      background-color: #E2EBFA;\n",
              "      box-shadow: 0px 1px 2px rgba(60, 64, 67, 0.3), 0px 1px 3px 1px rgba(60, 64, 67, 0.15);\n",
              "      fill: #174EA6;\n",
              "    }\n",
              "\n",
              "    [theme=dark] .colab-df-convert {\n",
              "      background-color: #3B4455;\n",
              "      fill: #D2E3FC;\n",
              "    }\n",
              "\n",
              "    [theme=dark] .colab-df-convert:hover {\n",
              "      background-color: #434B5C;\n",
              "      box-shadow: 0px 1px 3px 1px rgba(0, 0, 0, 0.15);\n",
              "      filter: drop-shadow(0px 1px 2px rgba(0, 0, 0, 0.3));\n",
              "      fill: #FFFFFF;\n",
              "    }\n",
              "  </style>\n",
              "\n",
              "      <script>\n",
              "        const buttonEl =\n",
              "          document.querySelector('#df-c5b6c4d1-1c37-4cb9-9416-08a6b8963bfd button.colab-df-convert');\n",
              "        buttonEl.style.display =\n",
              "          google.colab.kernel.accessAllowed ? 'block' : 'none';\n",
              "\n",
              "        async function convertToInteractive(key) {\n",
              "          const element = document.querySelector('#df-c5b6c4d1-1c37-4cb9-9416-08a6b8963bfd');\n",
              "          const dataTable =\n",
              "            await google.colab.kernel.invokeFunction('convertToInteractive',\n",
              "                                                     [key], {});\n",
              "          if (!dataTable) return;\n",
              "\n",
              "          const docLinkHtml = 'Like what you see? Visit the ' +\n",
              "            '<a target=\"_blank\" href=https://colab.research.google.com/notebooks/data_table.ipynb>data table notebook</a>'\n",
              "            + ' to learn more about interactive tables.';\n",
              "          element.innerHTML = '';\n",
              "          dataTable['output_type'] = 'display_data';\n",
              "          await google.colab.output.renderOutput(dataTable, element);\n",
              "          const docLink = document.createElement('div');\n",
              "          docLink.innerHTML = docLinkHtml;\n",
              "          element.appendChild(docLink);\n",
              "        }\n",
              "      </script>\n",
              "    </div>\n",
              "  </div>\n",
              "  "
            ],
            "text/plain": [
              "                                                                   title     description\n",
              "Fast & Furious  A movie                                           a race     a franchise\n",
              "The Dark Knight Gotham                                      the \"Batman\"   and the Joker\n",
              "Memento         A guy forgets everything every 15 minutes            NaN             NaN"
            ]
          },
          "metadata": {},
          "execution_count": 80
        }
      ]
    },
    {
      "cell_type": "markdown",
      "metadata": {
        "id": "hLxTQw9xw1yx"
      },
      "source": [
        "Bir sözlük listesini bir veri çerçevesine dönüştürmek için `pd.DataFrame` yapıcısını kullanabiliriz."
      ]
    },
    {
      "cell_type": "code",
      "metadata": {
        "id": "fmfJsdFCxGPx"
      },
      "source": [
        "df2 = pd.DataFrame(movies)"
      ],
      "execution_count": null,
      "outputs": []
    },
    {
      "cell_type": "code",
      "metadata": {
        "id": "5jYcJVYMxGth",
        "colab": {
          "base_uri": "https://localhost:8080/",
          "height": 143
        },
        "outputId": "eae58e23-9b79-41df-8449-754dc7b97f6d"
      },
      "source": [
        "df2"
      ],
      "execution_count": null,
      "outputs": [
        {
          "output_type": "execute_result",
          "data": {
            "text/html": [
              "\n",
              "  <div id=\"df-3b34c438-1c37-4e9c-974d-78ecdf0cea69\">\n",
              "    <div class=\"colab-df-container\">\n",
              "      <div>\n",
              "<style scoped>\n",
              "    .dataframe tbody tr th:only-of-type {\n",
              "        vertical-align: middle;\n",
              "    }\n",
              "\n",
              "    .dataframe tbody tr th {\n",
              "        vertical-align: top;\n",
              "    }\n",
              "\n",
              "    .dataframe thead th {\n",
              "        text-align: right;\n",
              "    }\n",
              "</style>\n",
              "<table border=\"1\" class=\"dataframe\">\n",
              "  <thead>\n",
              "    <tr style=\"text-align: right;\">\n",
              "      <th></th>\n",
              "      <th>title</th>\n",
              "      <th>description</th>\n",
              "    </tr>\n",
              "  </thead>\n",
              "  <tbody>\n",
              "    <tr>\n",
              "      <th>0</th>\n",
              "      <td>Fast &amp; Furious</td>\n",
              "      <td>A movie, a race, a franchise</td>\n",
              "    </tr>\n",
              "    <tr>\n",
              "      <th>1</th>\n",
              "      <td>The Dark Knight</td>\n",
              "      <td>Gotham, the \"Batman\", and the Joker</td>\n",
              "    </tr>\n",
              "    <tr>\n",
              "      <th>2</th>\n",
              "      <td>Memento</td>\n",
              "      <td>A guy forgets everything every 15 minutes</td>\n",
              "    </tr>\n",
              "  </tbody>\n",
              "</table>\n",
              "</div>\n",
              "      <button class=\"colab-df-convert\" onclick=\"convertToInteractive('df-3b34c438-1c37-4e9c-974d-78ecdf0cea69')\"\n",
              "              title=\"Convert this dataframe to an interactive table.\"\n",
              "              style=\"display:none;\">\n",
              "        \n",
              "  <svg xmlns=\"http://www.w3.org/2000/svg\" height=\"24px\"viewBox=\"0 0 24 24\"\n",
              "       width=\"24px\">\n",
              "    <path d=\"M0 0h24v24H0V0z\" fill=\"none\"/>\n",
              "    <path d=\"M18.56 5.44l.94 2.06.94-2.06 2.06-.94-2.06-.94-.94-2.06-.94 2.06-2.06.94zm-11 1L8.5 8.5l.94-2.06 2.06-.94-2.06-.94L8.5 2.5l-.94 2.06-2.06.94zm10 10l.94 2.06.94-2.06 2.06-.94-2.06-.94-.94-2.06-.94 2.06-2.06.94z\"/><path d=\"M17.41 7.96l-1.37-1.37c-.4-.4-.92-.59-1.43-.59-.52 0-1.04.2-1.43.59L10.3 9.45l-7.72 7.72c-.78.78-.78 2.05 0 2.83L4 21.41c.39.39.9.59 1.41.59.51 0 1.02-.2 1.41-.59l7.78-7.78 2.81-2.81c.8-.78.8-2.07 0-2.86zM5.41 20L4 18.59l7.72-7.72 1.47 1.35L5.41 20z\"/>\n",
              "  </svg>\n",
              "      </button>\n",
              "      \n",
              "  <style>\n",
              "    .colab-df-container {\n",
              "      display:flex;\n",
              "      flex-wrap:wrap;\n",
              "      gap: 12px;\n",
              "    }\n",
              "\n",
              "    .colab-df-convert {\n",
              "      background-color: #E8F0FE;\n",
              "      border: none;\n",
              "      border-radius: 50%;\n",
              "      cursor: pointer;\n",
              "      display: none;\n",
              "      fill: #1967D2;\n",
              "      height: 32px;\n",
              "      padding: 0 0 0 0;\n",
              "      width: 32px;\n",
              "    }\n",
              "\n",
              "    .colab-df-convert:hover {\n",
              "      background-color: #E2EBFA;\n",
              "      box-shadow: 0px 1px 2px rgba(60, 64, 67, 0.3), 0px 1px 3px 1px rgba(60, 64, 67, 0.15);\n",
              "      fill: #174EA6;\n",
              "    }\n",
              "\n",
              "    [theme=dark] .colab-df-convert {\n",
              "      background-color: #3B4455;\n",
              "      fill: #D2E3FC;\n",
              "    }\n",
              "\n",
              "    [theme=dark] .colab-df-convert:hover {\n",
              "      background-color: #434B5C;\n",
              "      box-shadow: 0px 1px 3px 1px rgba(0, 0, 0, 0.15);\n",
              "      filter: drop-shadow(0px 1px 2px rgba(0, 0, 0, 0.3));\n",
              "      fill: #FFFFFF;\n",
              "    }\n",
              "  </style>\n",
              "\n",
              "      <script>\n",
              "        const buttonEl =\n",
              "          document.querySelector('#df-3b34c438-1c37-4e9c-974d-78ecdf0cea69 button.colab-df-convert');\n",
              "        buttonEl.style.display =\n",
              "          google.colab.kernel.accessAllowed ? 'block' : 'none';\n",
              "\n",
              "        async function convertToInteractive(key) {\n",
              "          const element = document.querySelector('#df-3b34c438-1c37-4e9c-974d-78ecdf0cea69');\n",
              "          const dataTable =\n",
              "            await google.colab.kernel.invokeFunction('convertToInteractive',\n",
              "                                                     [key], {});\n",
              "          if (!dataTable) return;\n",
              "\n",
              "          const docLinkHtml = 'Like what you see? Visit the ' +\n",
              "            '<a target=\"_blank\" href=https://colab.research.google.com/notebooks/data_table.ipynb>data table notebook</a>'\n",
              "            + ' to learn more about interactive tables.';\n",
              "          element.innerHTML = '';\n",
              "          dataTable['output_type'] = 'display_data';\n",
              "          await google.colab.output.renderOutput(dataTable, element);\n",
              "          const docLink = document.createElement('div');\n",
              "          docLink.innerHTML = docLinkHtml;\n",
              "          element.appendChild(docLink);\n",
              "        }\n",
              "      </script>\n",
              "    </div>\n",
              "  </div>\n",
              "  "
            ],
            "text/plain": [
              "             title                                description\n",
              "0   Fast & Furious               A movie, a race, a franchise\n",
              "1  The Dark Knight        Gotham, the \"Batman\", and the Joker\n",
              "2          Memento  A guy forgets everything every 15 minutes"
            ]
          },
          "metadata": {},
          "execution_count": 82
        }
      ]
    },
    {
      "cell_type": "markdown",
      "metadata": {
        "id": "Uaz-izcmxc41"
      },
      "source": [
        "Artık bir veri çerçevesinin `.to_csv` yöntemi kullanılarak bir CSV dosyasına yazılabilir."
      ]
    },
    {
      "cell_type": "code",
      "metadata": {
        "id": "QuS-_NZVxn2R"
      },
      "source": [
        "df2.to_csv('movies3.csv', index=None)"
      ],
      "execution_count": null,
      "outputs": []
    },
    {
      "cell_type": "markdown",
      "metadata": {
        "id": "UPmuumnOxqRy"
      },
      "source": [
        "`index=None` argümanının ne işe yaradığını tahmin edebilir miyiz? Kaldırmayı ve çıktıdaki farkı gözlemlemeyi deneyin."
      ]
    },
    {
      "cell_type": "code",
      "metadata": {
        "id": "87C4dH4yx8bY",
        "colab": {
          "base_uri": "https://localhost:8080/"
        },
        "outputId": "b66ad514-0b70-4be5-e48d-0d5e44895e76"
      },
      "source": [
        "!head movies3.csv"
      ],
      "execution_count": null,
      "outputs": [
        {
          "output_type": "stream",
          "name": "stdout",
          "text": [
            "title,description\n",
            "Fast & Furious,\"A movie, a race, a franchise\"\n",
            "The Dark Knight,\"Gotham, the \"\"Batman\"\", and the Joker\"\n",
            "Memento,A guy forgets everything every 15 minutes\n"
          ]
        }
      ]
    },
    {
      "cell_type": "markdown",
      "metadata": {
        "id": "ZpV_oWIUyOvY"
      },
      "source": [
        "CSV dosyası düzgün biçimlendirilmiş. Bunu tekrar okumaya çalışarak doğrulayabiliriz."
      ]
    },
    {
      "cell_type": "code",
      "metadata": {
        "id": "Tx84I3EzyQmZ",
        "colab": {
          "base_uri": "https://localhost:8080/",
          "height": 143
        },
        "outputId": "0408d477-7fda-4bbc-f507-730244f2d27f"
      },
      "source": [
        "pd.read_csv('movies3.csv')"
      ],
      "execution_count": null,
      "outputs": [
        {
          "output_type": "execute_result",
          "data": {
            "text/html": [
              "\n",
              "  <div id=\"df-50733078-636d-4d20-8caf-6538ba963d27\">\n",
              "    <div class=\"colab-df-container\">\n",
              "      <div>\n",
              "<style scoped>\n",
              "    .dataframe tbody tr th:only-of-type {\n",
              "        vertical-align: middle;\n",
              "    }\n",
              "\n",
              "    .dataframe tbody tr th {\n",
              "        vertical-align: top;\n",
              "    }\n",
              "\n",
              "    .dataframe thead th {\n",
              "        text-align: right;\n",
              "    }\n",
              "</style>\n",
              "<table border=\"1\" class=\"dataframe\">\n",
              "  <thead>\n",
              "    <tr style=\"text-align: right;\">\n",
              "      <th></th>\n",
              "      <th>title</th>\n",
              "      <th>description</th>\n",
              "    </tr>\n",
              "  </thead>\n",
              "  <tbody>\n",
              "    <tr>\n",
              "      <th>0</th>\n",
              "      <td>Fast &amp; Furious</td>\n",
              "      <td>A movie, a race, a franchise</td>\n",
              "    </tr>\n",
              "    <tr>\n",
              "      <th>1</th>\n",
              "      <td>The Dark Knight</td>\n",
              "      <td>Gotham, the \"Batman\", and the Joker</td>\n",
              "    </tr>\n",
              "    <tr>\n",
              "      <th>2</th>\n",
              "      <td>Memento</td>\n",
              "      <td>A guy forgets everything every 15 minutes</td>\n",
              "    </tr>\n",
              "  </tbody>\n",
              "</table>\n",
              "</div>\n",
              "      <button class=\"colab-df-convert\" onclick=\"convertToInteractive('df-50733078-636d-4d20-8caf-6538ba963d27')\"\n",
              "              title=\"Convert this dataframe to an interactive table.\"\n",
              "              style=\"display:none;\">\n",
              "        \n",
              "  <svg xmlns=\"http://www.w3.org/2000/svg\" height=\"24px\"viewBox=\"0 0 24 24\"\n",
              "       width=\"24px\">\n",
              "    <path d=\"M0 0h24v24H0V0z\" fill=\"none\"/>\n",
              "    <path d=\"M18.56 5.44l.94 2.06.94-2.06 2.06-.94-2.06-.94-.94-2.06-.94 2.06-2.06.94zm-11 1L8.5 8.5l.94-2.06 2.06-.94-2.06-.94L8.5 2.5l-.94 2.06-2.06.94zm10 10l.94 2.06.94-2.06 2.06-.94-2.06-.94-.94-2.06-.94 2.06-2.06.94z\"/><path d=\"M17.41 7.96l-1.37-1.37c-.4-.4-.92-.59-1.43-.59-.52 0-1.04.2-1.43.59L10.3 9.45l-7.72 7.72c-.78.78-.78 2.05 0 2.83L4 21.41c.39.39.9.59 1.41.59.51 0 1.02-.2 1.41-.59l7.78-7.78 2.81-2.81c.8-.78.8-2.07 0-2.86zM5.41 20L4 18.59l7.72-7.72 1.47 1.35L5.41 20z\"/>\n",
              "  </svg>\n",
              "      </button>\n",
              "      \n",
              "  <style>\n",
              "    .colab-df-container {\n",
              "      display:flex;\n",
              "      flex-wrap:wrap;\n",
              "      gap: 12px;\n",
              "    }\n",
              "\n",
              "    .colab-df-convert {\n",
              "      background-color: #E8F0FE;\n",
              "      border: none;\n",
              "      border-radius: 50%;\n",
              "      cursor: pointer;\n",
              "      display: none;\n",
              "      fill: #1967D2;\n",
              "      height: 32px;\n",
              "      padding: 0 0 0 0;\n",
              "      width: 32px;\n",
              "    }\n",
              "\n",
              "    .colab-df-convert:hover {\n",
              "      background-color: #E2EBFA;\n",
              "      box-shadow: 0px 1px 2px rgba(60, 64, 67, 0.3), 0px 1px 3px 1px rgba(60, 64, 67, 0.15);\n",
              "      fill: #174EA6;\n",
              "    }\n",
              "\n",
              "    [theme=dark] .colab-df-convert {\n",
              "      background-color: #3B4455;\n",
              "      fill: #D2E3FC;\n",
              "    }\n",
              "\n",
              "    [theme=dark] .colab-df-convert:hover {\n",
              "      background-color: #434B5C;\n",
              "      box-shadow: 0px 1px 3px 1px rgba(0, 0, 0, 0.15);\n",
              "      filter: drop-shadow(0px 1px 2px rgba(0, 0, 0, 0.3));\n",
              "      fill: #FFFFFF;\n",
              "    }\n",
              "  </style>\n",
              "\n",
              "      <script>\n",
              "        const buttonEl =\n",
              "          document.querySelector('#df-50733078-636d-4d20-8caf-6538ba963d27 button.colab-df-convert');\n",
              "        buttonEl.style.display =\n",
              "          google.colab.kernel.accessAllowed ? 'block' : 'none';\n",
              "\n",
              "        async function convertToInteractive(key) {\n",
              "          const element = document.querySelector('#df-50733078-636d-4d20-8caf-6538ba963d27');\n",
              "          const dataTable =\n",
              "            await google.colab.kernel.invokeFunction('convertToInteractive',\n",
              "                                                     [key], {});\n",
              "          if (!dataTable) return;\n",
              "\n",
              "          const docLinkHtml = 'Like what you see? Visit the ' +\n",
              "            '<a target=\"_blank\" href=https://colab.research.google.com/notebooks/data_table.ipynb>data table notebook</a>'\n",
              "            + ' to learn more about interactive tables.';\n",
              "          element.innerHTML = '';\n",
              "          dataTable['output_type'] = 'display_data';\n",
              "          await google.colab.output.renderOutput(dataTable, element);\n",
              "          const docLink = document.createElement('div');\n",
              "          docLink.innerHTML = docLinkHtml;\n",
              "          element.appendChild(docLink);\n",
              "        }\n",
              "      </script>\n",
              "    </div>\n",
              "  </div>\n",
              "  "
            ],
            "text/plain": [
              "             title                                description\n",
              "0   Fast & Furious               A movie, a race, a franchise\n",
              "1  The Dark Knight        Gotham, the \"Batman\", and the Joker\n",
              "2          Memento  A guy forgets everything every 15 minutes"
            ]
          },
          "metadata": {},
          "execution_count": 85
        }
      ]
    },
    {
      "cell_type": "markdown",
      "metadata": {
        "id": "ysccPjjdySz5"
      },
      "source": [
        "Dosyayı `pandas` ile düzgün bir şekilde yazıp okuyabiliyoruz.\n",
        "\n",
        "Genel olarak, CSV dosyalarını okumak ve yazmak için Pandas gibi kütüphaneleri kullanmak her zaman daha iyi bir fikirdir."
      ]
    },
    {
      "cell_type": "markdown",
      "metadata": {
        "id": "kCgULDpYyvaA"
      },
      "source": [
        "## Alıştırma - Bir liste sözlüğü kullanarak CSV dosyalarını işleme\n",
        "\n",
        "Bir CSV dosyasını sözlük listesine dönüştürmek için yukarıda `read_csv` ve `write_csv` fonksiyonlarını tanımladık ve bunun tersi de geçerlidir. Bu alıştırmada, CSV verilerini dosyadaki her sütun için bir liste ile bunun yerine bir liste sözlüğüne dönüştüreceksiniz.\n",
        "\n",
        "Örneğin, aşağıdaki CSV dosyasını düşünelim:\n",
        "\n",
        "```\n",
        "miktar,süre,oran,peşinat\n",
        "828400,120,0.11,100000\n",
        "4633400,240,0.06,\n",
        "42900,90,0.08,8900\n",
        "983000,16,0.14,\n",
        "15230,48,0.07,4300\n",
        "```\n",
        "\n",
        "Onu aşağıdaki liste sözlüğüne çevireceğiz:\n",
        "\n",
        "```\n",
        "{\n",
        "  miktar: [828400, 4633400, 42900, 983000, 15230],\n",
        "  süre: []120, 240, 90, 16, 48],\n",
        "  oran: [0.11, 0.06, 0.08, 0.14, 0.07],\n",
        "  peşinat: [100000, 0, 8900, 0, 4300]\n",
        "}\n",
        "```\n",
        "\n",
        "Aşağıdaki boş hücreleri kullanarak görevleri tamamlayalım:\n",
        "\n",
        "1. Aşağıdaki kod hücresinde listelenen URL'leri kullanarak üç CSV dosyasını `data2` klasörüne indirelim ve indirilen dosyaları doğrulayalım.\n",
        "2. Bir CSV dosyasını okuyan ve yukarıda gösterilen biçimde bir listeler sözlüğü döndüren bir `read_csv_columnar` fonksiyonu tanımlayalım.\n",
        "3. Her veri satırı için hesaplanan bir EMI listesiyle sözlüğe başka bir `emi` anahtarı ekleyen bir `compute_emis` fonksiyonu tanımlayalım.\n",
        "4. Listeler sözlüğündeki verileri doğru biçimlendirilmiş bir CSV dosyasına yazan bir `write_csv_columnar` fonksiyonu tanımlayalım.\n",
        "5. İndirilen üç dosyayı da işleyelim ve sonuçları `data2` dizinine yeni dosyalar oluşturarak yazalım.\n",
        "\n",
        "Gerektiğinde yardımcı fonksiyonları tanımlayalım.\n"
      ]
    },
    {
      "cell_type": "code",
      "metadata": {
        "id": "AYd5XyWh6bc4"
      },
      "source": [
        "url1 = 'https://gist.githubusercontent.com/aakashns/257f6e6c8719c17d0e498ea287d1a386/raw/7def9ef4234ddf0bc82f855ad67dac8b971852ef/loans1.txt'\n",
        "url2 = 'https://gist.githubusercontent.com/aakashns/257f6e6c8719c17d0e498ea287d1a386/raw/7def9ef4234ddf0bc82f855ad67dac8b971852ef/loans2.txt'\n",
        "url3 = 'https://gist.githubusercontent.com/aakashns/257f6e6c8719c17d0e498ea287d1a386/raw/7def9ef4234ddf0bc82f855ad67dac8b971852ef/loans3.txt'"
      ],
      "execution_count": null,
      "outputs": []
    },
    {
      "cell_type": "code",
      "metadata": {
        "id": "voxJyFzk6cHs"
      },
      "source": [
        ""
      ],
      "execution_count": null,
      "outputs": []
    },
    {
      "cell_type": "code",
      "metadata": {
        "id": "KuL7G3LG6caG"
      },
      "source": [
        ""
      ],
      "execution_count": null,
      "outputs": []
    },
    {
      "cell_type": "code",
      "metadata": {
        "id": "OAwq0Pe76c4d"
      },
      "source": [
        ""
      ],
      "execution_count": null,
      "outputs": []
    },
    {
      "cell_type": "code",
      "metadata": {
        "id": "GrbwThuA6dNt"
      },
      "source": [
        ""
      ],
      "execution_count": null,
      "outputs": []
    },
    {
      "cell_type": "code",
      "metadata": {
        "id": "yPaarpjQ6dgg"
      },
      "source": [
        ""
      ],
      "execution_count": null,
      "outputs": []
    },
    {
      "cell_type": "markdown",
      "source": [
        "## Özet ve İlave Okuma\n",
        "\n",
        "Bununla, Python'daki dosyalardan okuma ve dosyalara yazma tartışmamızı tamamlıyoruz. Bu eğitimde aşağıdaki konuları ele aldık:\n",
        "\n",
        "* `os` modülünü kullanarak dosya sistemiyle etkileşim\n",
        "* `urllib` modülünü kullanarak URL'lerden dosya indirme\n",
        "* `open` yerleşik fonksiyonunu kullanarak dosyaları açma\n",
        "* `.read` kullanarak bir dosyanın içeriğini okuma\n",
        "* `with` kullanarak bir dosyayı otomatik olarak kapatma\n",
        "* `readlines` kullanarak bir dosyayı satır satır okuma\n",
        "* Fonksiyonları tanımlayarak bir CSV dosyasından veri işleme\n",
        "* Daha karmaşık fonksiyonlar oluşturmak için yardımcı fonksiyonlar kullanma\n",
        "* `.write` kullanarak bir dosyaya veri yazma\n",
        "\n",
        "\n",
        "Python'da dosyalarla çalışmayla ilgili bu eğitim hiçbir şekilde ayrıntılı değildir. Aşağıda, kontrol etmeniz gereken bazı kaynaklar daha bulunmaktadır:\n",
        "\n",
        "\n",
        "\n",
        "\n",
        "* W3Schools'da Python Eğitimi: https://www.w3schools.com/python/\n",
        "* Pratik Python Programlama: https://dabeaz-course.github.io/practical-python/Notes/Contents.html\n",
        "* Python resmi belgeleri: https://docs.python.org/3/tutorial/index.html"
      ],
      "metadata": {
        "id": "Bkr6Knjxucy8"
      }
    },
    {
      "cell_type": "markdown",
      "source": [
        "## Gözden Geçirme Soruları\n",
        "\n",
        "Burada ele alınan konuları ne kadar anladığınızı test etmek için aşağıdaki soruları yanıtlamayı deneyelim:\n",
        "\n",
        "1. Python'daki `os` modülünün amacı nedir?\n",
        "2. Bir Jupyter not defterinde mevcut çalışma dizinini nasıl tanımlarız?\n",
        "3. Python kullanarak bir dizindeki (directory) dosyaların listesini nasıl alırsınız?\n",
        "4. Python kullanarak bir dizin (directory) nasıl oluşturulur?\n",
        "5. Dosya sisteminde bir dosya (file) veya dizinin (directory) var olup olmadığını nasıl kontrol edersiniz? İpucu: `os.path.exists`.\n",
        "6. `os` modülünde bulunan fonksiyonların tam listesini nerede bulabiliriz?\n",
        "7. `os` ve `os.path` modüllerinden 5 kullanışlı fonksiyona örnekler verelim.\n",
        "8. Python kullanarak bir URL'den nasıl dosya indirirsiniz?\n",
        "9. Python kullanarak bir dosya nasıl açılır? Örnek verelim.\n",
        "10. Python'da dosya açmanın farklı modları nelerdir?\n",
        "11. Bir dosyayı birden çok modda açabilir miyiz? Bir örnekle açıklayalım.\n",
        "12. dosya nesnesi (file object) nedir? Nasıl faydalıdır?\n",
        "13. Bir dosyanın içeriğini bir string'e nasıl okuruz?\n",
        "14. CSV dosyası nedir? Örnek verelim.\n",
        "15. Açık bir dosyayı nasıl kapatırız?\n",
        "16. Bir dosyayı işlendikten sonra kapatmak neden önemlidir?\n",
        "17. Dosyaların işlendikten sonra otomatik olarak kapanmasını nasıl sağlıyoruz? Örnek verelim.\n",
        "18. Dosyalarla çalışmak için `with` ifadesi nasıl yararlıdır?\n",
        "19. Kapalı bir dosyadan okumaya çalışırsak ne olur?\n",
        "20. Bir dosyanın içeriğini satır satır nasıl okuruz?\n",
        "21. Bir CSV dosyasının içeriğini bir sözlük listesine (dosyanın her satırı için bir sözlük) dönüştürmek için bir fonksiyon yazalım .\n",
        "22. Bir CSV dosyasının içeriğini bir liste sözlüğüne (dosyanın her sütunu için bir sözlük) dönüştürmek için bir fonksiyon yazalım.\n",
        "23. Python kullanarak bir dosyaya nasıl yazarız?\n",
        "24. CSV formatındaki bir dosyaya veri yazmak için string `.format` yöntemi nasıldır?\n",
        "25. Bir sözlük listesinden bir CSV dosyasına veri yazmak için bir fonksiyon yazalım.\n",
        "26. Bir liste sözlüğünden bir CSV dosyasına veri yazmak için bir fonksiyon yazın.\n",
        "27. Python'da dosya nesnesi tarafından desteklenen yöntemleri nereden öğrenebilirsiniz? \n",
        "28. Panda'ları kullanarak CSV dosyalarını nasıl okuyabilir ve CSV dosyalarına yazabilirsiniz?"
      ],
      "metadata": {
        "id": "vpkK1yvbyqsh"
      }
    }
  ]
}